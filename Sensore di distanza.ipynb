{
 "cells": [
  {
   "cell_type": "markdown",
   "metadata": {},
   "source": [
    "#### Sensore di distanza\n",
    "\n",
    "##### Un sensore ad ultrasuoni può essere utilizzato come sensore anticollisione. Il sensore emette un impulso che si propaga nell'aria con una velocità costante di v = 336 m/s. L’impulso viaggia fino all’ostacolo e viene riflesso indietro fino a raggiungere nuovamente il sensore.\n",
    "\n",
    "<img src = \"Sensore.png\" alt = \"Elegoo HC-SR04 Ultrasonic Module Sensor.png\"\n",
    "\ttitle = \"Elegoo HC-SR04 Ultrasonic Module Sensor\" width = \"250\" height = \"250\"/>\n",
    "\n",
    "##### Calcolare la durata dell’intervallo di tempo che intercorre tra l’istante in cui l’impulso viene inviato e l’istante in cui l’impulso riflesso dall’ostacolo raggiunge il sensore.\n",
    "\n",
    "1. ##### Stimare l'intervallo di tempo corrispondente ad una distanza sensore-ostacolo di 3m.\n",
    "\n",
    "2. ##### Stimare l’intervallo di tempo corrispondente ad una distanza sensore-ostacolo di 2cm.\n",
    "\n",
    "$v = \\frac{\\Delta x}{\\Delta t}$\n",
    "\n",
    "$\\Delta x = 2 \\cdot d$\n",
    "\n",
    "$\\Delta t = \\frac{\\Delta x}{v}$ &rArr;\n",
    "$\\Delta t = 2 \\cdot \\frac{d}{v}$"
   ]
  },
  {
   "cell_type": "code",
   "execution_count": 1,
   "metadata": {},
   "outputs": [
    {
     "name": "stdout",
     "output_type": "stream",
     "text": [
      "0.00011904761904761905 s\n"
     ]
    },
    {
     "data": {
      "text/plain": [
       "<function __main__.tempo(d)>"
      ]
     },
     "execution_count": 1,
     "metadata": {},
     "output_type": "execute_result"
    }
   ],
   "source": [
    "import ipywidgets as widgets\n",
    "from ipywidgets import interact, interactive, fixed, interact_manual\n",
    "\n",
    "\n",
    "v = 336 # m/s.\n",
    "\n",
    "# Intervallo di tempo.\n",
    "# Funzione tempo.\n",
    "def tempo(d):\n",
    "    t = 2 * (d / v)\n",
    "    print(t, 's')\n",
    "\n",
    "print('Inserire il valore in m.')\n",
    "interact(tempo, d = widgets.FloatSlider(min=0.02, max=3, step=0.01, value=0.02))"
   ]
  }
 ],
 "metadata": {
  "kernelspec": {
   "display_name": "Python 3",
   "language": "python",
   "name": "python3"
  },
  "language_info": {
   "codemirror_mode": {
    "name": "ipython",
    "version": 3
   },
   "file_extension": ".py",
   "mimetype": "text/x-python",
   "name": "python",
   "nbconvert_exporter": "python",
   "pygments_lexer": "ipython3",
   "version": "3.7.6"
  }
 },
 "nbformat": 4,
 "nbformat_minor": 4
}
