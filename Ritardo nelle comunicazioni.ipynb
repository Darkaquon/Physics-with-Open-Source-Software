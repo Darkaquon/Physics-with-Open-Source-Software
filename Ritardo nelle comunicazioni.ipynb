{
 "cells": [
  {
   "cell_type": "markdown",
   "metadata": {},
   "source": [
    "#### Ritardo nelle comunicazioni\n",
    "\n",
    "##### Tempo di ritardo nelle comunicazioni. Tempo necessario al viaggio di andata di un impulso elettromagnetico. Si conosce la distanza e si deve calcolare il tempo necessario a percorrere la distanza $\\Delta x$\n",
    "\n",
    "$\\Delta x = v \\cdot \\Delta t$\n",
    "\n",
    "##### dove v = c = velocità della luce nel vuoto, c = 2.99792458·10^8 m/s."
   ]
  },
  {
   "cell_type": "code",
   "execution_count": 1,
   "metadata": {},
   "outputs": [
    {
     "name": "stdout",
     "output_type": "stream",
     "text": [
      "0.0013609415084084604 s\n"
     ]
    },
    {
     "data": {
      "text/plain": [
       "<function __main__.tempo(s)>"
      ]
     },
     "execution_count": 1,
     "metadata": {},
     "output_type": "execute_result"
    }
   ],
   "source": [
    "import ipywidgets as widgets\n",
    "from ipywidgets import interact, interactive, fixed, interact_manual\n",
    "\n",
    "\n",
    "c = 2.99792458 * (10**8) # m/s.\n",
    "\n",
    "# Tempo di ritardo.\n",
    "# Funzione tempo.\n",
    "def tempo(s):\n",
    "    t = s / c\n",
    "    print(t, 's')\n",
    "\n",
    "interact(tempo, s = widgets.Dropdown(options=[('Distanza Terra-SS', 408000), ('Distanza Terra-Luna', 384400000), ('Distanza Terra-Marte', 225000000000)],\n",
    "                                     value=408000, description='Distanze:'))"
   ]
  }
 ],
 "metadata": {
  "kernelspec": {
   "display_name": "Python 3",
   "language": "python",
   "name": "python3"
  },
  "language_info": {
   "codemirror_mode": {
    "name": "ipython",
    "version": 3
   },
   "file_extension": ".py",
   "mimetype": "text/x-python",
   "name": "python",
   "nbconvert_exporter": "python",
   "pygments_lexer": "ipython3",
   "version": "3.7.6"
  }
 },
 "nbformat": 4,
 "nbformat_minor": 4
}
