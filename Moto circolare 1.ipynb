{
 "cells": [
  {
   "cell_type": "markdown",
   "metadata": {},
   "source": [
    "#### Moto circolare"
   ]
  },
  {
   "cell_type": "code",
   "execution_count": 1,
   "metadata": {},
   "outputs": [
    {
     "name": "stdout",
     "output_type": "stream",
     "text": [
      "4.427188724235731 m/s\n",
      "0.35230448473140924 giri/s\n"
     ]
    }
   ],
   "source": [
    "import numpy as np\n",
    "\n",
    "\n",
    "r = 2 # m.\n",
    "a = 9.8 # accelerazione centripeta, m/s^2.\n",
    "\n",
    "# Velocità scalare.\n",
    "v = np.sqrt(a*r)\n",
    "print(v, 'm/s')\n",
    "\n",
    "# Velocità angolare.\n",
    "w = np.sqrt(a/r)\n",
    "\n",
    "# Frequenza di rotazione.\n",
    "f = w/(2*np.pi)\n",
    "print(f, 'giri/s')"
   ]
  }
 ],
 "metadata": {
  "kernelspec": {
   "display_name": "Python 3",
   "language": "python",
   "name": "python3"
  },
  "language_info": {
   "codemirror_mode": {
    "name": "ipython",
    "version": 3
   },
   "file_extension": ".py",
   "mimetype": "text/x-python",
   "name": "python",
   "nbconvert_exporter": "python",
   "pygments_lexer": "ipython3",
   "version": "3.7.6"
  }
 },
 "nbformat": 4,
 "nbformat_minor": 4
}
