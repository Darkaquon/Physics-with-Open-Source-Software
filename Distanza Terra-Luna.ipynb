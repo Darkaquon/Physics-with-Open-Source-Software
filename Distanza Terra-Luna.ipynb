{
 "cells": [
  {
   "cell_type": "markdown",
   "metadata": {},
   "source": [
    "#### Distanza Terra-Luna\n",
    "\n",
    "##### La velocità di propagazione della luce nel vuoto è una costante c = 2.99792458·10^8 m/s. Questa informazione può essere sfruttata per determinare la distanza Terra-Luna.\n",
    "\n",
    "##### Durante varie missioni spaziali (Apollo 11, 14, 15; Luna 21) sono stati collocati sulla superficie lunare alcuni pannelli con riflettori ad angolo di cubo (Corner Cube Retroreflector).\n",
    "\n",
    "<img src = \"Pannello.jpg\" alt = \"Corner Cube Retroreflector.jpg\"\n",
    "\ttitle = \"Corner Cube Retroreflector\" width = \"250\" height = \"250\"/>\n",
    "\n",
    "##### Impulsi di luce laser inviati dalla Terra viaggiano fino alla superficie lunare, vengono riflessi all’indietro dai CCR e giungono a rivelatori posti nella stazione da cui gli impulsi sono stati emessi.\n",
    "\n",
    "<img src = \"Pannello.jpg\" alt = \"Corner Cube Retroreflector.jpg\"\n",
    "\ttitle = \"Corner Cube Retroreflector\" width = \"250\" height = \"250\"/>\n",
    "\n",
    "##### Calcolare la distanza Terra-Luna sapendo che il tempo necessario al viaggio di andata e ritorno di un impulso è:\n",
    "1. 2.34s\n",
    "2. 2.71s\n",
    "\n",
    "$v = \\frac{\\Delta x}{\\Delta t}$\n",
    "\n",
    "$\\Delta x = 2 \\cdot d$\n",
    "\n",
    "$\\Delta t = \\frac{\\Delta x}{v}$ &rArr;\n",
    "$\\Delta t = 2 \\cdot \\frac{d}{v}$"
   ]
  },
  {
   "cell_type": "code",
   "execution_count": 1,
   "metadata": {},
   "outputs": [
    {
     "name": "stdout",
     "output_type": "stream",
     "text": [
      "756975956.4499999 m\n"
     ]
    }
   ],
   "source": [
    "import ipywidgets as widgets\n",
    "from ipywidgets import interact, interactive, fixed, interact_manual\n",
    "\n",
    "\n",
    "c = 2.99792458 * (10**8) # m/s.\n",
    "t1 = 2.34 # s.\n",
    "t2 = 2.71 # s.\n",
    "\n",
    "# Distanza.\n",
    "d = ((t1 + t2) * c) / 2\n",
    "print(d, 'm')"
   ]
  }
 ],
 "metadata": {
  "kernelspec": {
   "display_name": "Python 3",
   "language": "python",
   "name": "python3"
  },
  "language_info": {
   "codemirror_mode": {
    "name": "ipython",
    "version": 3
   },
   "file_extension": ".py",
   "mimetype": "text/x-python",
   "name": "python",
   "nbconvert_exporter": "python",
   "pygments_lexer": "ipython3",
   "version": "3.7.6"
  }
 },
 "nbformat": 4,
 "nbformat_minor": 4
}
