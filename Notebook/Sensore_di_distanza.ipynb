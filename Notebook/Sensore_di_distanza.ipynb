{
 "cells": [
  {
   "cell_type": "markdown",
   "metadata": {},
   "source": [
    "# Sensore di distanza\n",
    "\n",
    "&nbsp;\n",
    "\n",
    "Un sensore ad ultrasuoni può essere utilizzato come sensore anticollisione. In alcuni nuovi modelli di automobili i sensori ad ultrasuoni rilevano le auto circostanti, segnalano possibili collisioni e forniscono assistenza al parcheggio.\n",
    "\n",
    "![](./Immagini/Sensore_di_distanza_01.jpg)\n",
    "\n",
    "Il sensore emette un impulso che si propaga in aria con velocità costante $ v = 336 m/s $. L'impulso viaggia fino all'ostacolo e viene riflesso indietro fino a raggiungere nuovamente il sensore.\n",
    "\n",
    "![](./Immagini/Sensore_di_distanza_02.jpg)\n",
    "\n",
    "Calcolare la durata dell’intervallo di tempo che intercorre tra l’istante in cui l’impulso viene inviato e l’istante in cui l’impulso, riflesso dall’ostacolo, raggiunge il sensore.\n",
    "\n",
    "* Stimare l'intervallo di tempo corrispondente ad una distanza sensore-ostacolo di 3m.\n",
    "\n",
    "* Stimare l’intervallo di tempo corrispondente ad una distanza sensore-ostacolo di 2cm.\n",
    "\n",
    "### Discussione dell'esempio\n",
    "\n",
    "Se $ d $ è la distanza tra il sensore e l'ostacolo, lo spazio percorso dall'impulso ultrasonico è $ \\Delta x = 2 d $.\n",
    "\n",
    "La propagazione dell'onda ultrasonica avviene con velocità costante $ v $.\n",
    "\n",
    "Nel moto uniforme il legame tra lo spazio percorso e l'intervallo di tempo (*tempo di volo*) necessario a percorrerlo è espresso dalla relazione:\n",
    "\n",
    "$$ v = \\dfrac{\\Delta x}{\\Delta t} $$\n",
    "\n",
    "In questo caso si ha quindi:\n",
    "\n",
    "$$ \\Delta t = \\dfrac{\\Delta x}{v} = \\dfrac{2 d}{v} $$\n",
    "\n",
    "### Calcoli con il Python"
   ]
  },
  {
   "cell_type": "code",
   "execution_count": 25,
   "metadata": {},
   "outputs": [
    {
     "name": "stdout",
     "output_type": "stream",
     "text": [
      "\n",
      "Distanza sensore-ostacolo = 3 m \n",
      "\n",
      "Tempo di volo = 17.857 ms \n",
      "\n",
      "Distanza sensore-ostacolo = 0.02 m \n",
      "\n",
      "Tempo di volo = 0.119 ms\n"
     ]
    }
   ],
   "source": [
    "v = 336 # Velocità di propagazione in m/s.\n",
    "d1 = 3 # Distanza sensore-ostacolo in m.\n",
    "d2 = 0.02 # Distanza sensore-ostacolo in m.\n",
    "Dt1 = 2 * d1 / v # Tempo di volo in s.\n",
    "Dt2 = 2 * d2 / v # Tempo di volo in s.\n",
    "\n",
    "print()\n",
    "print(\"Distanza sensore-ostacolo =\", d1, \"m\", \"\\n\")\n",
    "print(\"Tempo di volo = {0:0.3f} ms\".format(Dt1 * 1000), \"\\n\")\n",
    "print(\"Distanza sensore-ostacolo =\", d2, \"m\", \"\\n\")\n",
    "print(\"Tempo di volo = {0:0.3f} ms\".format(Dt2 * 1000))"
   ]
  },
  {
   "cell_type": "markdown",
   "metadata": {},
   "source": [
    "### Calcoli in modalità interattiva\n",
    "\n",
    "Consideriamo in particolare il sensore ultrasonico di distanza **HC-SR04**. Secondo le specifiche tecniche, questo sensore può operare nell'intervallo tra 2 cm e 5 m.\n",
    "\n",
    "![](./Immagini/Sensore_di_distanza_03.jpg)\n",
    "\n",
    "Utilizzando uno **slider** possiamo calcolare il *tempo di volo* dell'impulso ultrasonico per una qualsiasi distanza sensore-ostacolo compresa nell'intervallo di funzionamento del dispositivo."
   ]
  },
  {
   "cell_type": "code",
   "execution_count": 26,
   "metadata": {},
   "outputs": [
    {
     "name": "stdout",
     "output_type": "stream",
     "text": [
      "\n",
      " Tempo di volo 17.857 ms \n",
      "\n"
     ]
    },
    {
     "data": {
      "text/plain": [
       "<function __main__.funzione(d)>"
      ]
     },
     "execution_count": 26,
     "metadata": {},
     "output_type": "execute_result"
    }
   ],
   "source": [
    "# Utilizzato per\n",
    "import ipywidgets as widgets\n",
    "\n",
    "\n",
    "v = 336 # Velocità di propagazione in m/s.\n",
    "\n",
    "print(\"\\n\", \"Distanza (cm)\")\n",
    "\n",
    "# Utilizzato per\n",
    "sliderDistance = (widgets.FloatSlider(min = 2, max = 500, step = 0.1, value = 300, description = \"Distanza\"))\n",
    "\n",
    "# Funzione.\n",
    "def funzione(d):\n",
    "    Dt = 2 * (d / 100) / v # Tempo di volo in s.\n",
    "    print(\"\\n\", \"Tempo di volo {0:0.3f} ms \\n\".format(Dt * 1000))\n",
    "\n",
    "# Utilizzato per\n",
    "widgets.interact(funzione, d = sliderDistance)"
   ]
  },
  {
   "cell_type": "markdown",
   "metadata": {},
   "source": [
    "> Per eseguire il codice Python contenuto in questo **notebook** Jupyter, anche se Python e Jupyter non sono installati sulla macchina che stai utilizzando puoi utilizzare l'ambiente [**binder**](https://mybinder.org) online.\n",
    "\n",
    "[![Binder](https://mybinder.org/badge_logo.svg)](https://mybinder.org/v2/gh/Darkaquon/Tesi/master?filepath=Notebook%2FSensore_di_distanza.ipynb)"
   ]
  },
  {
   "cell_type": "markdown",
   "metadata": {},
   "source": [
    "### What we have learned\n",
    "\n",
    "*Fisica*\n",
    "\n",
    "* Principio di funzionamento dei sensori di distanza.\n",
    "\n",
    "### References and notes\n",
    "\n",
    "1. [Experiments and data analysis on one-dimensional motion with **Raspberry Pi** and **Python**](https://iopscience.iop.org/article/10.1088/1361-6552/ab73d2) (See also Supplementary Information).\n",
    "\n",
    "##### Immagini\n",
    "\n",
    "2. Immagini originali realizzate con smartphone Samsung 9 e modificate con Microsoft Paint 3D."
   ]
  },
  {
   "cell_type": "code",
   "execution_count": null,
   "metadata": {},
   "outputs": [],
   "source": [
    "from IPython.core.display import HTML\n",
    "\n",
    "\n",
    "css_file = \"C:/Users/Darka/Desktop/Tesi/Notebook/Nuova cartella/Stile/Stile.css\"\n",
    "HTML(open(css_file).read())"
   ]
  }
 ],
 "metadata": {
  "kernelspec": {
   "display_name": "Python 3",
   "language": "python",
   "name": "python3"
  },
  "language_info": {
   "codemirror_mode": {
    "name": "ipython",
    "version": 3
   },
   "file_extension": ".py",
   "mimetype": "text/x-python",
   "name": "python",
   "nbconvert_exporter": "python",
   "pygments_lexer": "ipython3",
   "version": "3.7.6"
  }
 },
 "nbformat": 4,
 "nbformat_minor": 4
}
