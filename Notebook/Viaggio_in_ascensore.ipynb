{
 "cells": [
  {
   "cell_type": "markdown",
   "metadata": {},
   "source": [
    "# Viaggio in ascensore\n",
    "\n",
    "### Esperimento sul moto 1D e analisi dati\n",
    "\n",
    "Il movimento di un ascensore è un esempio di moto 1D. Obiettivo di questo esempio è quello di studiare la posizione, la velocità e l'accelerazione in funzione del tempo.\n",
    "\n",
    "![](img/ascensore.jpg)\n",
    "\n",
    "#### Descrizione\n",
    "\n",
    "La posizione dell'ascensore lungo la direzione verticale può essere registrata tramite una App per smartphone ([phyphox](https://phyphox.org/)).\n",
    "L'applicazione misura la pressione atmosferica e calcola le variazioni di quota rispetto alla posizione iniziale, utilizzando un opportuno algoritmo.\n",
    "\n",
    "1. Si effettua un esperimento, registrando i valori di quota in funzione del tempo.\n",
    "2. I dati vengono memorizzati in un file di testo (Tab separated values) che ha la seguente struttura:\n",
    "\n",
    "Time (s)      | Pressure (hPa) | Height (m)    | Xxxxxx | Xxxxxx\n",
    "------------- | -------------- | ------------- | ------ | ------\n",
    "1.002612265E0 | 1.013205700E3  | 0.000000000E0 | XXXXXX | XXXXXX\n",
    "\n",
    "3. A noi interessa leggere i dati della prima colonna e della terza colonna, per ottenere una **tabella oraria** del moto che vogliamo studiare, cioè un insieme di dati organizzati nel modo seguente:\n",
    "\n",
    "Time (s)      | Height (m)\n",
    "------------- | -------------\n",
    "1.002612265E0 | 0.000000000E0\n",
    "\n",
    "4. Si vuole ottenere innanzitutto una rappresentazione grafica dei dati, basandoci sul modulo [MatPlotLib](https://matplotlib.org/) di Python.\n",
    "5. Si vogliono analizzare i dati per ottenere i valori di velocità in funzione del tempo.\n",
    "6. Si vuole rappresentare graficamente l'andamento della velocità in funzione del tempo.\n",
    "7. Salvare i grafici e i risultati dell'analisi dati in un file.\n",
    "8. Discutere i risultati.\n",
    "9. Calcolare i valori dell'accelerazione in funzione del tempo e confrontarli con i valori di accelerazione misurati simultaneamente da un altro sensore (accelerometro) con la stessa App.\n",
    "\n",
    "##### 1. Esperimento\n",
    "\n",
    "Installare sullo smartphone l'applicazione [phyphox](phyphox.org) e tra i menù disponibili scegliere sotto la voce **Vita quotidiana** l'esperimento **Ascensore**. Tasto **play** per iniziare la misura.\n",
    "\n",
    "![](img/phyphox.png)\n",
    "\n",
    "N.B. Servirà un ascensore.\n",
    "\n",
    "&nbsp;\n",
    "\n",
    "##### 2. Salvare i dati\n",
    "\n",
    "Dal tasto con i tre puntini verticali in alto a destro dello schermo dello smartphone scegliere **Esporta dati** e scegliere il formato preferito dei dati: per questo esempio scegliamo **CSV(Tabulator, decimal point)**\n",
    "Una volta salvato il file dati si può trasferire dallo smartphone al computer, per i passi successivi dell'esperimento.\n",
    "\n",
    "Dati disponibili  |\n",
    "----------------- |\n",
    "Trip01-Height.csv |\n",
    "Trip02-Height.csv |\n",
    "Trip03-Height.csv |\n",
    "\n",
    "##### 3.-4. Leggere i dati e rappresentarli in un grafico\n",
    "\n",
    "Per leggere i dati e rappresentarli in grafico utilizziamo i moduli [numpy](nupmy.org) e [matplotlib]() di Python.\n",
    "Il codice che utilizziamo è basato su esempi descritti in [1](https://physics.nyu.edu/pine/pymanual/html/pymanMaster.html), [2](http://stacks.iop.org/PhysED/55/033006/mmedia) e [3](https://github.com/POSS-UniMe/RCwithRPi).\n",
    "\n",
    "Per la lettura del file di testo utilizziamo **loadtxt** con l'opzione **skiprows**, che permette di saltare le prime $ n $ righe, e con l'opzione **usecols**, che permette di selezionare le colonne che vogliamo leggere (rif. [4](https://numpy.org/doc/stable/reference/generated/numpy.loadtxt.html))"
   ]
  },
  {
   "cell_type": "code",
   "execution_count": 58,
   "metadata": {},
   "outputs": [
    {
     "name": "stdout",
     "output_type": "stream",
     "text": [
      "\n"
     ]
    },
    {
     "data": {
      "image/png": "[encoded data removed]",
      "text/plain": [
       "<Figure size 432x288 with 1 Axes>"
      ]
     },
     "metadata": {
      "needs_background": "light"
     },
     "output_type": "display_data"
    }
   ],
   "source": [
    "import numpy as np\n",
    "import matplotlib.pyplot as plt\n",
    "\n",
    "\n",
    "inputDataFile = 'Dati/Trip02-Height.csv'\n",
    "\n",
    "# Read data from file.\n",
    "t, x = np.loadtxt(inputDataFile, skiprows = 1, usecols = (0,2), unpack = True)\n",
    "\n",
    "# Plot of the experimental data.\n",
    "plt.plot(t, x, 'o', color = 'blue', markersize = 3)\n",
    "plt.axhline(color = 'gray', zorder = -1)\n",
    "plt.axvline(color = 'gray', zorder = -1)\n",
    "plt.xlabel('Time  $ t $ (s)')\n",
    "plt.ylabel('Height $ h $ (m)')\n",
    "plt.text(27, 1.8, inputDataFile)\n",
    "\n",
    "#plt.savefig('height_vs_time.pdf')\n",
    "print()\n",
    "plt.show()"
   ]
  },
  {
   "cell_type": "markdown",
   "metadata": {},
   "source": [
    "##### 5. Calcolare la velocità\n",
    "\n",
    "La velocità media in ciascun intervallo di tempo del tipo $ [t_1, t_2] $ viene calcolata in base alla semplice relazione:\n",
    "\n",
    "$ v = \\dfrac{\\Delta x}{\\Delta t} $\n",
    "\n",
    "ed associamo questo valore $ v_1 $ al tempo $ t'_1 $ ottenuto come valore medio tra $ t_1 $ e $ t_2 $.\n",
    "\n",
    "Aggiungiamo alcune righe di codice allo script precedente.\n",
    "\n",
    "Per calcolare gli spostamenti $ \\Delta x $ e la durata degli intervalli di tempo $ \\Delta t $ tra due misure successive usiamo la funzione **numpy.diff()**."
   ]
  },
  {
   "cell_type": "code",
   "execution_count": 59,
   "metadata": {},
   "outputs": [],
   "source": [
    "speedDataFile = 'Dati/Trip02-Speed.csv'\n",
    "np.set_printoptions(precision = 20)\n",
    "delta_t = np.diff(t)\n",
    "delta_x = np.diff(x)\n",
    "v = delta_x / delta_t\n",
    "t_prime = t[:-1] + (delta_t / 2)\n",
    "np.savetxt(speedDataFile, np.column_stack((t_prime, v)))"
   ]
  },
  {
   "cell_type": "markdown",
   "metadata": {},
   "source": [
    "##### 6. Grafico della velocità in funzione del tempo\n",
    "\n",
    "Usiamo la libreria Matplotlib, come in precedenza."
   ]
  },
  {
   "cell_type": "code",
   "execution_count": 60,
   "metadata": {},
   "outputs": [
    {
     "name": "stdout",
     "output_type": "stream",
     "text": [
      "\n"
     ]
    },
    {
     "data": {
      "image/png": "[encoded data removed]",
      "text/plain": [
       "<Figure size 432x288 with 1 Axes>"
      ]
     },
     "metadata": {
      "needs_background": "light"
     },
     "output_type": "display_data"
    }
   ],
   "source": [
    "plt.plot(t_prime, v, 'o', color = 'red', markersize = 5)\n",
    "plt.axhline(color = 'gray', zorder = -1)\n",
    "plt.axvline(color = 'gray', zorder = -1)\n",
    "plt.xlabel('Time $ t $ (s)')\n",
    "plt.ylabel('Velocity $ v $ (m s $^{-1} $)')\n",
    "plt.text(20, 0.2, speedDataFile)\n",
    "plt.draw()\n",
    "print()\n",
    "plt.show()"
   ]
  },
  {
   "cell_type": "markdown",
   "metadata": {},
   "source": [
    "##### 7. Grafico cumulativo di quota e velocità\n",
    "\n",
    "Vogliamo riportare insieme i due grafici precedenti, a scopo di confronto. Come riferimento utilizziamo la documentazione del modulo matplotlib (v.rif.[5](https://matplotlib.org/3.3.1/gallery/subplots_axes_and_figures/subplot.html))"
   ]
  },
  {
   "cell_type": "code",
   "execution_count": 61,
   "metadata": {},
   "outputs": [
    {
     "data": {
      "text/plain": [
       "Text(20, 0.2, 'Dati/Trip02-Speed.csv')"
      ]
     },
     "execution_count": 61,
     "metadata": {},
     "output_type": "execute_result"
    },
    {
     "data": {
      "image/png": "[encoded data removed]",
      "text/plain": [
       "<Figure size 504x648 with 2 Axes>"
      ]
     },
     "metadata": {
      "needs_background": "light"
     },
     "output_type": "display_data"
    }
   ],
   "source": [
    "fig = plt.figure(figsize = (7, 9))\n",
    "\n",
    "plt.subplot(2, 1, 1)\n",
    "plt.plot(t, x, 'o', color = 'blue', markersize = 3)\n",
    "plt.axhline(color = 'gray', zorder = -1)\n",
    "plt.axvline(color = 'gray', zorder = -1)\n",
    "plt.xlabel('Time  $ t $ (s)')\n",
    "plt.ylabel('Height $ h $ (m)')\n",
    "plt.text(27, 1.8, inputDataFile)\n",
    "\n",
    "plt.subplot(2, 1, 2)\n",
    "plt.plot(t_prime, v, 'o', color = 'red', markersize = 5)\n",
    "plt.axhline(color = 'gray', zorder = -1)\n",
    "plt.axvline(color = 'gray', zorder = -1)\n",
    "plt.xlabel('Time $ t $ (s)')\n",
    "plt.ylabel('Velocity $ v $ (m s $^{-1} $)')\n",
    "plt.text(20, 0.2, speedDataFile)"
   ]
  },
  {
   "cell_type": "markdown",
   "metadata": {},
   "source": [
    "##### 8. Analisi dei dati\n",
    "\n",
    "###### 8.1 Inserire un marker nel grafico"
   ]
  },
  {
   "cell_type": "code",
   "execution_count": 62,
   "metadata": {},
   "outputs": [
    {
     "data": {
      "text/plain": [
       "79"
      ]
     },
     "execution_count": 62,
     "metadata": {},
     "output_type": "execute_result"
    }
   ],
   "source": [
    "np.size(t)"
   ]
  },
  {
   "cell_type": "code",
   "execution_count": 63,
   "metadata": {},
   "outputs": [
    {
     "name": "stdout",
     "output_type": "stream",
     "text": [
      "\n",
      "Marker One =  0 Marker Two =  0 \n",
      "\n",
      "Time One 1.000056647 s Time Two =  1.000056647 \n",
      "\n"
     ]
    },
    {
     "data": {
      "image/png": "[encoded data removed]",
      "text/plain": [
       "<Figure size 504x648 with 2 Axes>"
      ]
     },
     "metadata": {
      "needs_background": "light"
     },
     "output_type": "display_data"
    },
    {
     "data": {
      "text/plain": [
       "<function __main__.calculate(MarkerOne, MarkerTwo)>"
      ]
     },
     "execution_count": 63,
     "metadata": {},
     "output_type": "execute_result"
    }
   ],
   "source": [
    "import ipywidgets as widgets\n",
    "\n",
    "\n",
    "sliderMarkerOne = widgets.IntSlider(min = 0, max = (np.size(t) - 1), step = 1, value = 0, continuous_update = False)\n",
    "sliderMarkerTwo = widgets.IntSlider(min = 0, max = (np.size(t) - 1), step = 1, value = 0, continuous_update = False)\n",
    "\n",
    "def calculate(MarkerOne, MarkerTwo):\n",
    "    print()\n",
    "    print('Marker One = ', MarkerOne, 'Marker Two = ', MarkerTwo, '\\n')\n",
    "    MarkerOneTime = t[MarkerOne]\n",
    "    MarkerTwoTime = t[MarkerTwo]\n",
    "    print('Time One', MarkerOneTime, 's', 'Time Two = ', MarkerTwoTime, '\\n')\n",
    "    makeplots(MarkerOne,MarkerTwo)\n",
    "    t_subset = t[MarkerOne:MarkerTwo]\n",
    "    x_subset = x[MarkerOne:MarkerTwo]\n",
    "\n",
    "def makeplots(MarkerOne, MarkerTwo):\n",
    "    fig = plt.figure(figsize = (7, 9))\n",
    "    # plt.ion()\n",
    "    plt.subplot(2, 1, 1)\n",
    "    plt.plot(t, x, 'o', color = 'blue', markersize = 3)\n",
    "    plt.plot(t[MarkerOne], x[MarkerOne], 'o', color = 'red', markersize = 6)\n",
    "    plt.plot(t[MarkerTwo], x[MarkerTwo], 'o', color = 'cyan', markersize = 7)\n",
    "    plt.axhline(color = 'gray', zorder = -1)\n",
    "    plt.axvline(color = 'gray', zorder = -1)\n",
    "    plt.axvline(color = 'magenta', x = t[MarkerOne], zorder = -1)\n",
    "    plt.axvline(color = 'cyan', x = t[MarkerTwo], zorder = -1)\n",
    "    plt.xlabel('Time  $ t $ (s)')\n",
    "    plt.ylabel('Height $ h $ (m)')\n",
    "    plt.text(27, 1.8, inputDataFile)\n",
    "\n",
    "    plt.subplot(2, 1, 2)\n",
    "    plt.plot(t_prime, v, 'o', color = 'red', markersize = 5)\n",
    "    plt.axhline(color = 'gray', zorder = -1)\n",
    "    plt.axvline(color = 'gray', zorder = -1)\n",
    "    plt.axvline(color = 'magenta', x = t[MarkerOne], zorder = -1)\n",
    "    plt.axvline(color = 'cyan', x = t[MarkerTwo], zorder = -1)\n",
    "    plt.xlabel('Time $ t $ (s)')\n",
    "    plt.ylabel('Velocity $ v $ (m s$ ^{-1} $)')\n",
    "    plt.text(20, 0.2, speedDataFile)\n",
    "\n",
    "widgets.interact(calculate, MarkerOne = sliderMarkerOne, MarkerTwo = sliderMarkerTwo)"
   ]
  },
  {
   "cell_type": "markdown",
   "metadata": {},
   "source": [
    "###### 8.2 Fit lineare dei dati di x(t) in un intervallo di tempo scelto\n",
    "\n",
    "Ipotesi: moto uniforme.\n",
    "\n",
    "Se in un certo intervallo di tempo il moto è uniforme, comunque scelti due istanti di tempo, $ t_1 $ e $ t_2 $ in tale intervallo, il rapporto $ (x_2-x_1)/(t_2-t_1) $ è costante ed uguale a $ v $. Se fissiamo $ t_1 $, per un istante $ t $ generico dovrà essere:\n",
    "\n",
    "$ \\dfrac{x-x_1}{t-t_1} = v $\n",
    "\n",
    "da cui segue:\n",
    "\n",
    "$ x - x_1 = v (t-t_1) \\hspace{1cm} \\text{e quindi} \\hspace{1 cm} x = v t + (x_1 - v t_1) $\n",
    "\n",
    "In altri termini, in un intervallo di tempo in cui il moto è uniforme, il grafico di $ x $ in funzione del tempo $ t $ è lineare, ed è descritto da un'equazione del tipo:\n",
    "\n",
    "$ x = A t + B $\n",
    "\n",
    "I valori dei parametri $ A $ e $ B $ che corrispondono alla retta che meglio approssima i dati sperimentali si ottengono tramite un metodo che minimizza la somma dei quadrati degli scarti tra i valori teorici ed i valori sperimentali misurati.\n",
    "\n",
    "**Riferimenti**\n",
    "\n",
    "Lorena A. Barba, Natalia C. Clementi [GitHub Engineering Computation](https://nbviewer.jupyter.org/github/engineersCode/EngComp1_offtheground/blob/master/notebooks_en/5_Linear_Regression_with_Real_Data.ipynb) [Linear regression with real data]\n",
    "\n",
    "David J. Pine [Introduction to Python for Science](https://physics.nyu.edu/pine/pymanual/html/chap7/chap7_funcs.html#example-linear-least-squares-fitting) [Linear least squares fitting]"
   ]
  },
  {
   "cell_type": "code",
   "execution_count": 64,
   "metadata": {},
   "outputs": [
    {
     "name": "stdout",
     "output_type": "stream",
     "text": [
      "\n",
      " Estimated value of the velocity (from the linear fit)\n",
      "\n",
      " v = nan m/s \n",
      "\n"
     ]
    },
    {
     "name": "stderr",
     "output_type": "stream",
     "text": [
      "C:\\Users\\Darka\\anaconda3\\lib\\site-packages\\ipykernel_launcher.py:5: RuntimeWarning: Mean of empty slice.\n",
      "  \"\"\"\n",
      "C:\\Users\\Darka\\anaconda3\\lib\\site-packages\\numpy\\core\\_methods.py:161: RuntimeWarning: invalid value encountered in double_scalars\n",
      "  ret = ret.dtype.type(ret / rcount)\n",
      "C:\\Users\\Darka\\anaconda3\\lib\\site-packages\\ipykernel_launcher.py:6: RuntimeWarning: invalid value encountered in double_scalars\n",
      "  \n",
      "C:\\Users\\Darka\\anaconda3\\lib\\site-packages\\ipykernel_launcher.py:7: RuntimeWarning: Mean of empty slice.\n",
      "  import sys\n"
     ]
    }
   ],
   "source": [
    "t_subset = t[sliderMarkerOne.value:sliderMarkerTwo.value]\n",
    "x_subset = x[sliderMarkerOne.value:sliderMarkerTwo.value]\n",
    "\n",
    "def LineFit(x, y):\n",
    "    x_avg = x.mean()\n",
    "    slope = (y * (x - x_avg)).sum() / (x * (x - x_avg)).sum()\n",
    "    y_intercept = y.mean() - slope * x_avg\n",
    "    return slope, y_intercept\n",
    "\n",
    "v_est, x_intercept = LineFit(t_subset, x_subset)\n",
    "\n",
    "print('\\n Estimated value of the velocity (from the linear fit)')\n",
    "print('\\n v = {0:0.3} m/s \\n'.format(v_est))\n",
    "# print('$x_intercept$', x_intercept, 'm', '\\n')"
   ]
  },
  {
   "cell_type": "markdown",
   "metadata": {},
   "source": [
    "###### 8.3 Confronto grafico tra i dati sperimentali ed il fit lineare\n",
    "\n",
    "Costruiamo un grafico in cui oltre ai dati sperimentali è riportato anche l'andamento previsto in un certo intervallo di tempo in caso di moto con velocità costante, utilizzando i valori dei parametri calcolati tramite la procedura di **best-fit** della sezione precedente."
   ]
  },
  {
   "cell_type": "code",
   "execution_count": 65,
   "metadata": {},
   "outputs": [
    {
     "ename": "IndexError",
     "evalue": "index 0 is out of bounds for axis 0 with size 0",
     "output_type": "error",
     "traceback": [
      "\u001b[1;31m---------------------------------------------------------------------------\u001b[0m",
      "\u001b[1;31mIndexError\u001b[0m                                Traceback (most recent call last)",
      "\u001b[1;32m<ipython-input-65-125255f74229>\u001b[0m in \u001b[0;36m<module>\u001b[1;34m\u001b[0m\n\u001b[0;32m     10\u001b[0m \u001b[0mplt\u001b[0m\u001b[1;33m.\u001b[0m\u001b[0maxhline\u001b[0m\u001b[1;33m(\u001b[0m\u001b[0mcolor\u001b[0m \u001b[1;33m=\u001b[0m \u001b[1;34m'gray'\u001b[0m\u001b[1;33m,\u001b[0m \u001b[0mzorder\u001b[0m \u001b[1;33m=\u001b[0m \u001b[1;33m-\u001b[0m\u001b[1;36m1\u001b[0m\u001b[1;33m)\u001b[0m\u001b[1;33m\u001b[0m\u001b[1;33m\u001b[0m\u001b[0m\n\u001b[0;32m     11\u001b[0m \u001b[0mplt\u001b[0m\u001b[1;33m.\u001b[0m\u001b[0maxvline\u001b[0m\u001b[1;33m(\u001b[0m\u001b[0mcolor\u001b[0m \u001b[1;33m=\u001b[0m \u001b[1;34m'gray'\u001b[0m\u001b[1;33m,\u001b[0m \u001b[0mzorder\u001b[0m \u001b[1;33m=\u001b[0m \u001b[1;33m-\u001b[0m\u001b[1;36m1\u001b[0m\u001b[1;33m)\u001b[0m\u001b[1;33m\u001b[0m\u001b[1;33m\u001b[0m\u001b[0m\n\u001b[1;32m---> 12\u001b[1;33m \u001b[0mplt\u001b[0m\u001b[1;33m.\u001b[0m\u001b[0maxvline\u001b[0m\u001b[1;33m(\u001b[0m\u001b[0mcolor\u001b[0m \u001b[1;33m=\u001b[0m \u001b[1;34m'magenta'\u001b[0m\u001b[1;33m,\u001b[0m \u001b[0mx\u001b[0m \u001b[1;33m=\u001b[0m \u001b[0mt_subset\u001b[0m\u001b[1;33m[\u001b[0m\u001b[1;36m0\u001b[0m\u001b[1;33m]\u001b[0m\u001b[1;33m,\u001b[0m \u001b[0mlinewidth\u001b[0m \u001b[1;33m=\u001b[0m \u001b[1;36m1\u001b[0m\u001b[1;33m,\u001b[0m \u001b[0mlinestyle\u001b[0m \u001b[1;33m=\u001b[0m \u001b[1;34m'--'\u001b[0m\u001b[1;33m,\u001b[0m \u001b[0mzorder\u001b[0m \u001b[1;33m=\u001b[0m \u001b[1;33m-\u001b[0m\u001b[1;36m1\u001b[0m\u001b[1;33m)\u001b[0m\u001b[1;33m\u001b[0m\u001b[1;33m\u001b[0m\u001b[0m\n\u001b[0m\u001b[0;32m     13\u001b[0m \u001b[0mplt\u001b[0m\u001b[1;33m.\u001b[0m\u001b[0maxvline\u001b[0m\u001b[1;33m(\u001b[0m\u001b[0mcolor\u001b[0m \u001b[1;33m=\u001b[0m \u001b[1;34m'cyan'\u001b[0m\u001b[1;33m,\u001b[0m \u001b[0mx\u001b[0m \u001b[1;33m=\u001b[0m \u001b[0mt_subset\u001b[0m\u001b[1;33m[\u001b[0m\u001b[1;33m-\u001b[0m\u001b[1;36m1\u001b[0m\u001b[1;33m]\u001b[0m\u001b[1;33m,\u001b[0m \u001b[0mlinewidth\u001b[0m \u001b[1;33m=\u001b[0m \u001b[1;36m1\u001b[0m\u001b[1;33m,\u001b[0m \u001b[0mlinestyle\u001b[0m \u001b[1;33m=\u001b[0m \u001b[1;34m'--'\u001b[0m\u001b[1;33m,\u001b[0m \u001b[0mzorder\u001b[0m \u001b[1;33m=\u001b[0m \u001b[1;33m-\u001b[0m\u001b[1;36m1\u001b[0m\u001b[1;33m)\u001b[0m\u001b[1;33m\u001b[0m\u001b[1;33m\u001b[0m\u001b[0m\n\u001b[0;32m     14\u001b[0m \u001b[0mplt\u001b[0m\u001b[1;33m.\u001b[0m\u001b[0mxlabel\u001b[0m\u001b[1;33m(\u001b[0m\u001b[1;34m'Time  $ t $ (s)'\u001b[0m\u001b[1;33m)\u001b[0m\u001b[1;33m\u001b[0m\u001b[1;33m\u001b[0m\u001b[0m\n",
      "\u001b[1;31mIndexError\u001b[0m: index 0 is out of bounds for axis 0 with size 0"
     ]
    },
    {
     "data": {
      "image/png": "[encoded data removed]",
      "text/plain": [
       "<Figure size 504x648 with 1 Axes>"
      ]
     },
     "metadata": {
      "needs_background": "light"
     },
     "output_type": "display_data"
    }
   ],
   "source": [
    "x_fit = v_est * t_subset + x_intercept\n",
    "\n",
    "v_fit = x_fit / x_fit * v_est\n",
    "\n",
    "fig = plt.figure(figsize = (7, 9))\n",
    "# plt.ion()\n",
    "plt.subplot(2, 1, 1)\n",
    "plt.plot(t, x, 'o', color = 'blue', markersize = 3, label = 'Dati')\n",
    "plt.plot(t_subset, x_fit, '-', color = 'yellow', linewidth = 3, zorder = -1, label = 'Fit')\n",
    "plt.axhline(color = 'gray', zorder = -1)\n",
    "plt.axvline(color = 'gray', zorder = -1)\n",
    "plt.axvline(color = 'magenta', x = t_subset[0], linewidth = 1, linestyle = '--', zorder = -1)\n",
    "plt.axvline(color = 'cyan', x = t_subset[-1], linewidth = 1, linestyle = '--', zorder = -1)\n",
    "plt.xlabel('Time  $ t $ (s)')\n",
    "plt.ylabel('Height $ h $ (m)')\n",
    "plt.text(27, 1.8, inputDataFile)\n",
    "plt.legend(loc = 'upper center', shadow = True, fontsize = 'large')\n",
    "\n",
    "plt.subplot(2, 1, 2)\n",
    "plt.plot(t_prime, v, 'o', color = 'red', markersize = 5)\n",
    "plt.plot(t_subset,v_fit, '-', color = 'orange', linewidth = 3)\n",
    "plt.axhline(color = 'gray', zorder = -1)\n",
    "plt.axvline(color = 'gray', zorder = -1)\n",
    "plt.axvline(color = 'magenta', x = t_subset[0], linewidth = 1, linestyle = '--', zorder = -1)\n",
    "plt.axvline(color = 'cyan', x = t_subset[-1], linewidth = 1, linestyle = '--', zorder = -1)\n",
    "plt.xlabel('Time $ t $ (s)')\n",
    "plt.ylabel('Velocity $ v $ (m s $^{-1} $)')\n",
    "plt.text(20, 0.2, speedDataFile)\n",
    "plt.savefig('Dati/height+speed.pdf')"
   ]
  },
  {
   "cell_type": "markdown",
   "metadata": {},
   "source": [
    "Riferimenti per i grafici\n",
    "\n",
    "[plot](https://matplotlib.org/api/_as_gen/matplotlib.pyplot.plot.html)\n",
    "\n",
    "[linestyle](https://matplotlib.org/api/_as_gen/matplotlib.lines.Line2D.html#matplotlib.lines.Line2D.set_linestyle)\n",
    "\n",
    "[axvline](https://matplotlib.org/3.1.1/api/_as_gen/matplotlib.pyplot.axvline.html)\n",
    "\n",
    "[legend](https://matplotlib.org/api/_as_gen/matplotlib.pyplot.legend.html)"
   ]
  },
  {
   "cell_type": "markdown",
   "metadata": {},
   "source": [
    "##### 9. Calcolo dell'accelerazione e confronto con i valori misurati\n",
    "\n",
    "###### 9.1 Calcolo\n",
    "\n",
    "La situazione è analoga a quella che riguarda il calcolo della velocità media nei vari intervalli di tempo.\n",
    "L'accelerazione media in ciascun intervallo di tempo del tipo $ [t'_1, t'_2] $ viene calcolata in base alla semplice relazione:\n",
    "\n",
    "$ a = \\dfrac{\\Delta v}{\\Delta t} $\n",
    "\n",
    "ed associamo questo valore $ a_1 $ al tempo $ t\"_1 $ ottenuto come valore medio tra $ t'_1 $ e $ t'_2 $.\n",
    "\n",
    "Per calcolare le variazioni di velocità, cioè per calcolare $ \\Delta v $ e la durata degli intervalli di tempo $ \\Delta t' $ fra due dati successivi usiamo la funzione **numpy.diff()**."
   ]
  },
  {
   "cell_type": "code",
   "execution_count": null,
   "metadata": {},
   "outputs": [],
   "source": [
    "accelerationDataFile = 'Dati/Trip02-Acceleration.csv'\n",
    "np.set_printoptions(precision = 20)\n",
    "delta_t_prime = np.diff(t_prime)\n",
    "delta_v = np.diff(v)\n",
    "a = delta_v / delta_t_prime\n",
    "t_double_prime = t_prime[:-1] + (delta_t_prime / 2)\n",
    "np.savetxt(accelerationDataFile, np.column_stack((t_double_prime, a)))"
   ]
  },
  {
   "cell_type": "markdown",
   "metadata": {},
   "source": [
    "###### 9.2 Grafico\n",
    "\n",
    "Vogliamo visualizzare l'andamento grafico dell'accelerazione $ a $ in funzione del tempo. Inoltre vogliamo effettuare il confronto con i valori di accelerazione misurati con un accelerometro. Questi ultimi sono memorizzati in un file di testo (Tab separated values) che ha la seguente struttura:\n",
    "\n",
    "Time (s)                 | Acceleration (m/s $ ^2 $)\n",
    "------------------------ | -------------------------\n",
    "2.003207003250000007e+00 | -9.390230845239912194e-02"
   ]
  },
  {
   "cell_type": "code",
   "execution_count": null,
   "metadata": {},
   "outputs": [],
   "source": [
    "accelerometerDataFile = 'Dati/Trip02-Acceleration.csv'\n",
    "\n",
    "# Read data from file.\n",
    "t_exp, accel = np.loadtxt(accelerometerDataFile, skiprows = 1, unpack = True)\n",
    "\n",
    "plt.plot(t_double_prime, a, 'o', color = 'green', markersize = 4, label = 'Calculated')\n",
    "plt.plot(t_exp,accel, '+', color = 'black', markersize = 2, label = 'Accelerometer')\n",
    "plt.axhline(color = 'gray', zorder = -1)\n",
    "plt.axvline(color = 'gray', zorder = -1)\n",
    "plt.xlabel('Time $ t $ (s)')\n",
    "plt.ylabel('Acceleration $ a $ (m s $ ^{-2} $)')\n",
    "# plt.ylim(-1,1)\n",
    "plt.legend(loc = 'upper center', shadow = True, fontsize = 'large')\n",
    "plt.draw()\n",
    "plt.show()"
   ]
  },
  {
   "cell_type": "code",
   "execution_count": null,
   "metadata": {},
   "outputs": [],
   "source": [
    "from IPython.core.display import HTML\n",
    "\n",
    "\n",
    "css_file = \"C:/Users/Darka/Desktop/Tesi/Notebook/Nuova cartella/Stile/Stile.css\"\n",
    "HTML(open(css_file).read())"
   ]
  }
 ],
 "metadata": {
  "kernelspec": {
   "display_name": "Python 3",
   "language": "python",
   "name": "python3"
  },
  "language_info": {
   "codemirror_mode": {
    "name": "ipython",
    "version": 3
   },
   "file_extension": ".py",
   "mimetype": "text/x-python",
   "name": "python",
   "nbconvert_exporter": "python",
   "pygments_lexer": "ipython3",
   "version": "3.7.6"
  }
 },
 "nbformat": 4,
 "nbformat_minor": 4
}
