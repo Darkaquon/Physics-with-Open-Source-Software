{
 "cells": [
  {
   "cell_type": "markdown",
   "metadata": {},
   "source": [
    "###### Content under Creative Commons Attribution License CC BY 4.0, code under BSD 3 - Clause License © 2020 Andrea Mandanici, Marco Guarnera, Giuseppe Mandaglio, Giovanni Pirrotta.\n",
    "\n",
    "# Viaggio in ascensore\n",
    "\n",
    "&nbsp;\n",
    "\n",
    "### Esperimento sul moto 1D e analisi dati\n",
    "\n",
    "Il movimento di un ascensore è un esempio di moto 1D. Obiettivo di questo esempio è quello di studiare la posizione, la velocità e l'accelerazione in funzione del tempo.\n",
    "\n",
    "### Descrizione\n",
    "\n",
    "La posizione dell'ascensore lungo la direzione verticale può essere registrata tramite una App per smartphone ([**phyphox**](https://phyphox.org/)).\n",
    "L'applicazione misura la pressione atmosferica e calcola le variazioni di quota rispetto alla posizione iniziale, utilizzando un opportuno algoritmo.\n",
    "\n",
    "1. Si effettua un esperimento, registrando i valori di quota in funzione del tempo.\n",
    "\n",
    "2. I dati vengono memorizzati in un file di testo (*Tab separated values*) che ha la seguente struttura:\n",
    "\n",
    "| Tempo (s)     | Pressione (hPa) | Altezza (m)    | Xxxxxx | Xxxxxx |\n",
    "| :------------ | :-------------- | :------------- | :----- | :----- |\n",
    "| 1.002612265E0 | 1.013205700E3   | 0.000000000E0  | XXXXXX | XXXXXX |\n",
    "| 2.003274159E0 | 1.013197046E3   | 7.205260740E-2 | XXXXXX | XXXXXX |\n",
    "\n",
    "3. A noi interessa leggere i dati della prima colonna e della terza colonna, per ottenere una **tabella oraria** del moto che vogliamo studiare, cioè un insieme di dati organizzati nel modo seguente:\n",
    "\n",
    "| Tempo (s)     | Altezza (m)    |\n",
    "| :------------ | :------------- |\n",
    "| 1.002612265E0 | 0.000000000E0  |\n",
    "| 2.003274159E0 | 7.205260740E-2 |\n",
    "\n",
    "4. Si vuole ottenere innanzitutto una rappresentazione grafica dei dati, basandoci sul modulo [MatPlotLib](https://matplotlib.org/) di Python.\n",
    "\n",
    "5. Si vogliono analizzare i dati per ottenere i valori di velocità in funzione del tempo.\n",
    "\n",
    "6. Si vuole rappresentare graficamente l'andamento della velocità in funzione del tempo.\n",
    "\n",
    "7. Salvare i grafici e i risultati dell'analisi dati in un file.\n",
    "\n",
    "8. Discutere i risultati.\n",
    "\n",
    "9. Calcolare i valori dell'accelerazione in funzione del tempo e confrontarli con i valori di accelerazione misurati simultaneamente da un altro sensore (accelerometro) con la stessa App.\n",
    "\n",
    "10. Valutare insieme i risultati ottenuti riportando in un'unica figura i grafici di altezza, velocità e accelerazione.\n",
    "\n",
    "##### 1. Esperimento\n",
    "\n",
    "Installare sullo smartphone l'applicazione [phyphox](https://phyphox.org/)) e tra i menù disponibili scegliere sotto la voce **Vita quotidiana** l'esperimento **Ascensore**. Tasto **play** per iniziare la misura.\n",
    "\n",
    "<div id = \"immagine\">\n",
    "\n",
    "<img src = \"Immagini/Phyphox.png\" alt = \"Immagine\">\n",
    "\n",
    "</div>\n",
    "\n",
    "N.B. Servirà un ascensore.\n",
    "\n",
    "&nbsp;\n",
    "\n",
    "##### 2. Salvare i dati\n",
    "\n",
    "Dal tasto con i tre puntini verticali in alto a destro dello schermo dello smartphone scegliere **Esporta dati** e scegliere il formato preferito dei dati: per questo esempio scegliamo **CSV(Tabulator, decimal point)**\n",
    "Una volta salvato il file dati si può trasferire dallo smartphone al computer, per i passi successivi dell'esperimento.\n",
    "\n",
    "| Dati disponibili  |\n",
    "| :---------------- |\n",
    "| Trip01-Height.csv |\n",
    "| Trip02-Height.csv |\n",
    "| Trip03-Height.csv |\n",
    "\n",
    "##### 3. 4. Leggere i dati e rappresentarli in un grafico\n",
    "\n",
    "Per leggere i dati e rappresentarli in grafico utilizziamo i moduli [numpy](nupmy.org) e [matplotlib]() di Python.\n",
    "Il codice che utilizziamo è basato su esempi descritti in [1](https://physics.nyu.edu/pine/pymanual/html/pymanMaster.html), [2](http://stacks.iop.org/PhysED/55/033006/mmedia) e [3](https://github.com/POSS-UniMe/RCwithRPi).\n",
    "\n",
    "Per la lettura del file di testo utilizziamo la funzione **loadtxt** del modulo **numpy** con l'opzione **skiprows**, che permette di saltare le prime $ n $ righe, e con l'opzione **usecols**, che permette di selezionare le colonne che vogliamo leggere (rif. [4](https://numpy.org/doc/stable/reference/generated/numpy.loadtxt.html))"
   ]
  },
  {
   "cell_type": "code",
   "execution_count": 33,
   "metadata": {},
   "outputs": [
    {
     "name": "stdout",
     "output_type": "stream",
     "text": [
      "\n"
     ]
    },
    {
     "data": {
      "image/png": "[encoded data removed]",
      "text/plain": [
       "<Figure size 432x288 with 1 Axes>"
      ]
     },
     "metadata": {
      "needs_background": "light"
     },
     "output_type": "display_data"
    }
   ],
   "source": [
    "# Utilizzato per importare la libreria adoperata per funzioni matematiche.\n",
    "import numpy as np\n",
    "# Utilizzato per importare la libreria adoperata per rappresentare graficamente le grandezze.\n",
    "import matplotlib.pyplot as plt\n",
    "\n",
    "# Da controllare.\n",
    "def grafico(dimx, dimy, x, y, tit, xlab, ylab):\n",
    "    plt.figure(figsize = (dimx, dimy))\n",
    "    plt.plot(x, y, marker = \"o\", markersize = 5, markeredgecolor = \"red\", markerfacecolor = \"red\", linestyle = \"-\", linewidth = 1,\n",
    "             color = \"black\")\n",
    "    plt.title(tit)\n",
    "    plt.xlabel(xlab)\n",
    "    plt.ylabel(ylab)\n",
    "    plt.grid(True)\n",
    "    plt.show()\n",
    "\n",
    "inputDataFile = \"Dati/Trip02-Height.csv\"\n",
    "\n",
    "# Utilizzato per leggere i dati da file.\n",
    "t, x = np.loadtxt(inputDataFile, skiprows = 1, usecols = (0, 2), unpack = True)\n",
    "\n",
    "# Utilizzato per rappresentare graficamente i dati.\n",
    "plt.plot(t, x, \"o\", color = \"blue\", markersize = 3)\n",
    "plt.axhline(color = \"gray\", zorder = -1)\n",
    "plt.axvline(color = \"gray\", zorder = -1)\n",
    "plt.xlabel(\"Tempo  $ t $ (s)\")\n",
    "plt.ylabel(\"Altezza $ h $ (m)\")\n",
    "plt.text(27, 1.8, inputDataFile)\n",
    "\n",
    "#plt.savefig(\"height_vs_time.pdf\")\n",
    "print()\n",
    "plt.show()"
   ]
  },
  {
   "cell_type": "markdown",
   "metadata": {},
   "source": [
    "##### 5. Calcolare la velocità\n",
    "\n",
    "La velocità media in ciascun intervallo di tempo del tipo $ [t_1, t_2] $ viene calcolata in base alla semplice relazione:\n",
    "\n",
    "<div id = \"colorbox\">\n",
    "\n",
    "$$ v = \\dfrac{\\Delta x}{\\Delta t} $$\n",
    "\n",
    "</div>\n",
    "\n",
    "Ed associamo questo valore $ v_1 $ al tempo $ t'_1 $ ottenuto come valore medio tra $ t_1 $ e $ t_2 $.\n",
    "\n",
    "Per calcolare gli spostamenti $ \\Delta x $ e la durata degli intervalli di tempo $ \\Delta t $ tra due misure successive utilizziamo la funzione [**diff()**](https://numpy.org/doc/stable/reference/generated/numpy.diff.html) del modulo **numpy**.\n",
    "\n",
    "I valori calcolati vengono scritti sul file di testo **speedDataFile** formato da due colonne: la prima colonna contiene i valori di tempo, la seconda contiene i valori di velocità.\n",
    "\n",
    "Per effettuare i calcoli e memorizzare i dati su file, aggiungiamo alcune righe di codice allo script precedente."
   ]
  },
  {
   "cell_type": "code",
   "execution_count": 34,
   "metadata": {},
   "outputs": [],
   "source": [
    "speedDataFile = \"Dati/Trip02-Speed.csv\"\n",
    "np.set_printoptions(precision = 20)\n",
    "delta_t = np.diff(t)\n",
    "delta_x = np.diff(x)\n",
    "v = delta_x / delta_t\n",
    "t_prime = t[:-1] + (delta_t / 2)\n",
    "np.savetxt(speedDataFile, np.column_stack((t_prime, v)))"
   ]
  },
  {
   "cell_type": "markdown",
   "metadata": {},
   "source": [
    "##### 6. Grafico della velocità in funzione del tempo\n",
    "\n",
    "Per produrre un grafico della velocità in funzione del tempo utilizziamo la libreria Matplotlib.\n",
    "\n",
    "Riportiamo nel grafico il nome del file in cui sono scritti i valori delle variabili tempo e velocità."
   ]
  },
  {
   "cell_type": "code",
   "execution_count": 35,
   "metadata": {},
   "outputs": [
    {
     "name": "stdout",
     "output_type": "stream",
     "text": [
      "\n"
     ]
    },
    {
     "data": {
      "image/png": "[encoded data removed]",
      "text/plain": [
       "<Figure size 432x288 with 1 Axes>"
      ]
     },
     "metadata": {
      "needs_background": "light"
     },
     "output_type": "display_data"
    }
   ],
   "source": [
    "plt.plot(t_prime, v, \"o\", color = \"red\", markersize = 5)\n",
    "plt.axhline(color = \"gray\", zorder = -1)\n",
    "plt.axvline(color = \"gray\", zorder = -1)\n",
    "plt.xlabel(\"Tempo $ t $ (s)\")\n",
    "plt.ylabel(\"Velocità $ v $ (m/s $^{-1} $)\")\n",
    "plt.text(20, 0.2, speedDataFile)\n",
    "plt.draw()\n",
    "print()\n",
    "plt.show()"
   ]
  },
  {
   "cell_type": "markdown",
   "metadata": {},
   "source": [
    "##### 7. Grafico cumulativo di altezza e velocità\n",
    "\n",
    "Vogliamo riportare insieme i due grafici precedenti, a scopo di confronto.\n",
    "\n",
    "Produciamo una figura in cui i due grafici sono distribuiti in due righe e una colonna, utilizzando la funzione **subplot** del modulo **matplotlib** (v.rif. [5](https://matplotlib.org/3.3.1/gallery/subplots_axes_and_figures/subplot.html), [6](https://matplotlib.org/api/_as_gen/matplotlib.pyplot.subplot.html))"
   ]
  },
  {
   "cell_type": "code",
   "execution_count": 36,
   "metadata": {},
   "outputs": [
    {
     "data": {
      "text/plain": [
       "Text(20, 0.2, 'Dati/Trip02-Speed.csv')"
      ]
     },
     "execution_count": 36,
     "metadata": {},
     "output_type": "execute_result"
    },
    {
     "data": {
      "image/png": "[encoded data removed]",
      "text/plain": [
       "<Figure size 504x648 with 2 Axes>"
      ]
     },
     "metadata": {
      "needs_background": "light"
     },
     "output_type": "display_data"
    }
   ],
   "source": [
    "fig = plt.figure(figsize = (7, 9))\n",
    "\n",
    "plt.subplot(2, 1, 1)\n",
    "plt.plot(t, x, \"o\", color = \"blue\", markersize = 3)\n",
    "plt.axhline(color = \"gray\", zorder = -1)\n",
    "plt.axvline(color = \"gray\", zorder = -1)\n",
    "plt.xlabel(\"Tempo  $ t $ (s)\")\n",
    "plt.ylabel(\"Altezza $ h $ (m)\")\n",
    "plt.text(27, 1.8, inputDataFile)\n",
    "\n",
    "plt.subplot(2, 1, 2)\n",
    "plt.plot(t_prime, v, \"o\", color = \"red\", markersize = 5)\n",
    "plt.axhline(color = \"gray\", zorder = -1)\n",
    "plt.axvline(color = \"gray\", zorder = -1)\n",
    "plt.xlabel(\"Tempo $ t $ (s)\")\n",
    "plt.ylabel(\"Velocità $ v $ (m/s $^{-1} $)\")\n",
    "plt.text(20, 0.2, speedDataFile)"
   ]
  },
  {
   "cell_type": "markdown",
   "metadata": {},
   "source": [
    "##### 8. Analisi dei dati\n",
    "\n",
    "##### 8.1 Inserire un marker nel grafico\n",
    "\n",
    "Vogliamo inserire nel grafico alcuni **marker** che ci permettano di individuare un certo intervallo di tempo.\n",
    "Stiamo supponendo che i dati siano già ordinati secondo i tempi in ordine crescente.\n",
    "\n",
    "Il numero di coppie (tempo $ t $, altezza $ h $) è dato dalla dimensione dell'array di numpy corrispondente. Per esempio:"
   ]
  },
  {
   "cell_type": "code",
   "execution_count": 37,
   "metadata": {},
   "outputs": [
    {
     "data": {
      "text/plain": [
       "79"
      ]
     },
     "execution_count": 37,
     "metadata": {},
     "output_type": "execute_result"
    }
   ],
   "source": [
    "np.size(t)"
   ]
  },
  {
   "cell_type": "markdown",
   "metadata": {},
   "source": [
    "Si vuole scegliere un sottoinsieme dei dati, per tempi compresi tra quello corrispondente al **MarkerOne** e quello corrispondente al **MarkerTwo**.\n",
    "\n",
    "I valori dei due marker vengono scelti usando gli **slider** e vengono rappresentati anche nei grafici tramite rette verticali colorate."
   ]
  },
  {
   "cell_type": "code",
   "execution_count": 38,
   "metadata": {},
   "outputs": [
    {
     "name": "stdout",
     "output_type": "stream",
     "text": [
      "\n",
      "Marker One =  0 Marker Two =  0 \n",
      "\n",
      "Tempo 1 1.000056647 s Tempo 2 =  1.000056647 \n",
      "\n"
     ]
    },
    {
     "data": {
      "image/png": "[encoded data removed]",
      "text/plain": [
       "<Figure size 504x648 with 2 Axes>"
      ]
     },
     "metadata": {
      "needs_background": "light"
     },
     "output_type": "display_data"
    },
    {
     "data": {
      "text/plain": [
       "<function __main__.calculate(MarkerOne, MarkerTwo)>"
      ]
     },
     "execution_count": 38,
     "metadata": {},
     "output_type": "execute_result"
    }
   ],
   "source": [
    "# Utilizzato per importare la libreria adoperata per i widgets.\n",
    "import ipywidgets as widgets\n",
    "\n",
    "\n",
    "# Utilizzato per creare due sliders (widgets) adoperati per cambiare interattivamente il valore dei marker.\n",
    "sliderMarkerOne = widgets.IntSlider(min = 0, max = (np.size(t) - 1), step = 1, value = 0, continuous_update = False)\n",
    "sliderMarkerTwo = widgets.IntSlider(min = 0, max = (np.size(t) - 1), step = 1, value = 0, continuous_update = False)\n",
    "\n",
    "def calculate(MarkerOne, MarkerTwo):\n",
    "    print()\n",
    "    print(\"Marker One = \", MarkerOne, \"Marker Two = \", MarkerTwo, \"\\n\")\n",
    "    MarkerOneTime = t[MarkerOne]\n",
    "    MarkerTwoTime = t[MarkerTwo]\n",
    "    print(\"Tempo 1\", MarkerOneTime, \"s\", \"Tempo 2 = \", MarkerTwoTime, \"\\n\")\n",
    "    makeplots(MarkerOne, MarkerTwo)\n",
    "    t_subset = t[MarkerOne:MarkerTwo]\n",
    "    x_subset = x[MarkerOne:MarkerTwo]\n",
    "\n",
    "def makeplots(MarkerOne, MarkerTwo):\n",
    "    fig = plt.figure(figsize = (7, 9))\n",
    "    #plt.ion()\n",
    "    plt.subplot(2, 1, 1)\n",
    "    plt.plot(t, x, \"o\", color = \"blue\", markersize = 3)\n",
    "    plt.plot(t[MarkerOne], x[MarkerOne], \"o\", color = \"red\", markersize = 6)\n",
    "    plt.plot(t[MarkerTwo], x[MarkerTwo], \"o\", color = \"cyan\", markersize = 7)\n",
    "    plt.axhline(color = \"gray\", zorder = -1)\n",
    "    plt.axvline(color = \"gray\", zorder = -1)\n",
    "    plt.axvline(color = \"magenta\", x = t[MarkerOne], zorder = -1)\n",
    "    plt.axvline(color = \"cyan\", x = t[MarkerTwo], zorder = -1)\n",
    "    plt.xlabel(\"Tempo  $ t $ (s)\")\n",
    "    plt.ylabel(\"Altezza $ h $ (m)\")\n",
    "    plt.text(27, 1.8, inputDataFile)\n",
    "\n",
    "    plt.subplot(2, 1, 2)\n",
    "    plt.plot(t_prime, v, \"o\", color = \"red\", markersize = 5)\n",
    "    plt.axhline(color = \"gray\", zorder = -1)\n",
    "    plt.axvline(color = \"gray\", zorder = -1)\n",
    "    plt.axvline(color = \"magenta\", x = t[MarkerOne], zorder = -1)\n",
    "    plt.axvline(color = \"cyan\", x = t[MarkerTwo], zorder = -1)\n",
    "    plt.xlabel(\"Tempo $ t $ (s)\")\n",
    "    plt.ylabel(\"Velocità $ v $ (m/s$ ^{-1} $)\")\n",
    "    plt.text(20, 0.2, speedDataFile)\n",
    "\n",
    "# Utilizzato per collegare i widgets alla funzione e per interagire con gli sliders.\n",
    "widgets.interact(calculate, MarkerOne = sliderMarkerOne, MarkerTwo = sliderMarkerTwo)"
   ]
  },
  {
   "cell_type": "markdown",
   "metadata": {},
   "source": [
    "###### 8.2 Fit lineare dei dati di x(t) in un intervallo di tempo scelto\n",
    "\n",
    "Ipotesi: moto uniforme.\n",
    "\n",
    "Se in un certo intervallo di tempo il moto è uniforme, comunque scelti due istanti di tempo, $ t_1 $ e $ t_2 $ in tale intervallo, il rapporto $ (x_2 - x_1) / (t_2 - t_1) $ è costante ed uguale a $ v $. Se fissiamo $ t_1 $, per un istante $ t $ generico dovrà essere:\n",
    "\n",
    "<div id = \"colorbox\">\n",
    "\n",
    "$$ \\dfrac{x - x_1}{t - t_1} = v $$\n",
    "\n",
    "</div>\n",
    "\n",
    "Da cui segue:\n",
    "\n",
    "<div id = \"colorbox\">\n",
    "\n",
    "$$ x - x_1 = v \\cdot (t - t_1) \\hspace{1cm} \\text{e quindi} \\hspace{1 cm} x = v t + (x_1 - v t_1) $$\n",
    "\n",
    "</div>\n",
    "\n",
    "In altri termini, in un intervallo di tempo in cui il moto è uniforme, il grafico di $ x $ in funzione del tempo $ t $ è lineare, ed è descritto da un'equazione del tipo:\n",
    "\n",
    "<div id = \"colorbox\">\n",
    "\n",
    "$$ x = A t + B $$\n",
    "\n",
    "</div>\n",
    "\n",
    "I valori dei parametri $ A $ e $ B $ che corrispondono alla retta che meglio approssima i dati sperimentali si ottengono tramite un metodo che minimizza la somma dei quadrati degli scarti tra i valori teorici ed i valori sperimentali misurati. \\[[7](https://nbviewer.jupyter.org/github/engineersCode/EngComp1_offtheground/blob/master/notebooks_en/5_Linear_Regression_with_Real_Data.ipynb), [8](https://physics.nyu.edu/pine/pymanual/html/chap7/chap7_funcs.html#example-linear-least-squares-fitting\\)]."
   ]
  },
  {
   "cell_type": "code",
   "execution_count": 39,
   "metadata": {},
   "outputs": [
    {
     "name": "stdout",
     "output_type": "stream",
     "text": [
      "\n",
      " Estimated value of the velocity (from the linear fit)\n",
      "\n",
      " v = nan m/s \n",
      "\n"
     ]
    },
    {
     "name": "stderr",
     "output_type": "stream",
     "text": [
      "C:\\Users\\Darka\\anaconda3\\lib\\site-packages\\ipykernel_launcher.py:5: RuntimeWarning: Mean of empty slice.\n",
      "  \"\"\"\n",
      "C:\\Users\\Darka\\anaconda3\\lib\\site-packages\\numpy\\core\\_methods.py:161: RuntimeWarning: invalid value encountered in double_scalars\n",
      "  ret = ret.dtype.type(ret / rcount)\n",
      "C:\\Users\\Darka\\anaconda3\\lib\\site-packages\\ipykernel_launcher.py:6: RuntimeWarning: invalid value encountered in double_scalars\n",
      "  \n",
      "C:\\Users\\Darka\\anaconda3\\lib\\site-packages\\ipykernel_launcher.py:7: RuntimeWarning: Mean of empty slice.\n",
      "  import sys\n"
     ]
    }
   ],
   "source": [
    "t_subset = t[sliderMarkerOne.value:sliderMarkerTwo.value]\n",
    "x_subset = x[sliderMarkerOne.value:sliderMarkerTwo.value]\n",
    "\n",
    "def LineFit(x, y):\n",
    "    x_avg = x.mean()\n",
    "    slope = (y * (x - x_avg)).sum() / (x * (x - x_avg)).sum()\n",
    "    y_intercept = y.mean() - slope * x_avg\n",
    "    return slope, y_intercept\n",
    "\n",
    "v_est, x_intercept = LineFit(t_subset, x_subset)\n",
    "\n",
    "print(\"\\n Estimated value of the velocity (from the linear fit)\")\n",
    "print(\"\\n v = {0:0.3} m/s \\n\".format(v_est))\n",
    "#print(\"$ x_intercept $\", x_intercept, \"m\", \"\\n\")"
   ]
  },
  {
   "cell_type": "markdown",
   "metadata": {},
   "source": [
    "###### 8.3 Confronto grafico tra i dati sperimentali ed il fit lineare\n",
    "\n",
    "Costruiamo un grafico in cui oltre ai dati sperimentali è riportato anche l'andamento previsto in un certo intervallo di tempo in caso di moto con velocità costante, utilizzando i valori dei parametri calcolati tramite la procedura di **best-fit** della sezione precedente.\n",
    "\n",
    "Definiamo alcuni particolari del grafico utilizzando le funzioni:\n",
    "\n",
    "[plot](https://matplotlib.org/api/_as_gen/matplotlib.pyplot.plot.html),\n",
    "[linestyle](https://matplotlib.org/api/_as_gen/matplotlib.lines.Line2D.html#matplotlib.lines.Line2D.set_linestyle),\n",
    "[axvline](https://matplotlib.org/3.1.1/api/_as_gen/matplotlib.pyplot.axvline.html),\n",
    "[legend](https://matplotlib.org/api/_as_gen/matplotlib.pyplot.legend.html).\n",
    "\n",
    "Infine memorizziamo il grafico in un file utilizzando la funzione:\n",
    "[savefig](https://matplotlib.org/api/_as_gen/matplotlib.pyplot.savefig.html) della libreria **matplotlib**."
   ]
  },
  {
   "cell_type": "code",
   "execution_count": 40,
   "metadata": {},
   "outputs": [
    {
     "ename": "IndexError",
     "evalue": "index 0 is out of bounds for axis 0 with size 0",
     "output_type": "error",
     "traceback": [
      "\u001b[1;31m---------------------------------------------------------------------------\u001b[0m",
      "\u001b[1;31mIndexError\u001b[0m                                Traceback (most recent call last)",
      "\u001b[1;32m<ipython-input-40-88f33ee6af76>\u001b[0m in \u001b[0;36m<module>\u001b[1;34m\u001b[0m\n\u001b[0;32m     10\u001b[0m \u001b[0mplt\u001b[0m\u001b[1;33m.\u001b[0m\u001b[0maxhline\u001b[0m\u001b[1;33m(\u001b[0m\u001b[0mcolor\u001b[0m \u001b[1;33m=\u001b[0m \u001b[1;34m\"gray\"\u001b[0m\u001b[1;33m,\u001b[0m \u001b[0mzorder\u001b[0m \u001b[1;33m=\u001b[0m \u001b[1;33m-\u001b[0m\u001b[1;36m1\u001b[0m\u001b[1;33m)\u001b[0m\u001b[1;33m\u001b[0m\u001b[1;33m\u001b[0m\u001b[0m\n\u001b[0;32m     11\u001b[0m \u001b[0mplt\u001b[0m\u001b[1;33m.\u001b[0m\u001b[0maxvline\u001b[0m\u001b[1;33m(\u001b[0m\u001b[0mcolor\u001b[0m \u001b[1;33m=\u001b[0m \u001b[1;34m\"gray\"\u001b[0m\u001b[1;33m,\u001b[0m \u001b[0mzorder\u001b[0m \u001b[1;33m=\u001b[0m \u001b[1;33m-\u001b[0m\u001b[1;36m1\u001b[0m\u001b[1;33m)\u001b[0m\u001b[1;33m\u001b[0m\u001b[1;33m\u001b[0m\u001b[0m\n\u001b[1;32m---> 12\u001b[1;33m \u001b[0mplt\u001b[0m\u001b[1;33m.\u001b[0m\u001b[0maxvline\u001b[0m\u001b[1;33m(\u001b[0m\u001b[0mcolor\u001b[0m \u001b[1;33m=\u001b[0m \u001b[1;34m\"magenta\"\u001b[0m\u001b[1;33m,\u001b[0m \u001b[0mx\u001b[0m \u001b[1;33m=\u001b[0m \u001b[0mt_subset\u001b[0m\u001b[1;33m[\u001b[0m\u001b[1;36m0\u001b[0m\u001b[1;33m]\u001b[0m\u001b[1;33m,\u001b[0m \u001b[0mlinewidth\u001b[0m \u001b[1;33m=\u001b[0m \u001b[1;36m1\u001b[0m\u001b[1;33m,\u001b[0m \u001b[0mlinestyle\u001b[0m \u001b[1;33m=\u001b[0m \u001b[1;34m\"--\"\u001b[0m\u001b[1;33m,\u001b[0m \u001b[0mzorder\u001b[0m \u001b[1;33m=\u001b[0m \u001b[1;33m-\u001b[0m\u001b[1;36m1\u001b[0m\u001b[1;33m)\u001b[0m\u001b[1;33m\u001b[0m\u001b[1;33m\u001b[0m\u001b[0m\n\u001b[0m\u001b[0;32m     13\u001b[0m \u001b[0mplt\u001b[0m\u001b[1;33m.\u001b[0m\u001b[0maxvline\u001b[0m\u001b[1;33m(\u001b[0m\u001b[0mcolor\u001b[0m \u001b[1;33m=\u001b[0m \u001b[1;34m\"cyan\"\u001b[0m\u001b[1;33m,\u001b[0m \u001b[0mx\u001b[0m \u001b[1;33m=\u001b[0m \u001b[0mt_subset\u001b[0m\u001b[1;33m[\u001b[0m\u001b[1;33m-\u001b[0m\u001b[1;36m1\u001b[0m\u001b[1;33m]\u001b[0m\u001b[1;33m,\u001b[0m \u001b[0mlinewidth\u001b[0m \u001b[1;33m=\u001b[0m \u001b[1;36m1\u001b[0m\u001b[1;33m,\u001b[0m \u001b[0mlinestyle\u001b[0m \u001b[1;33m=\u001b[0m \u001b[1;34m\"--\"\u001b[0m\u001b[1;33m,\u001b[0m \u001b[0mzorder\u001b[0m \u001b[1;33m=\u001b[0m \u001b[1;33m-\u001b[0m\u001b[1;36m1\u001b[0m\u001b[1;33m)\u001b[0m\u001b[1;33m\u001b[0m\u001b[1;33m\u001b[0m\u001b[0m\n\u001b[0;32m     14\u001b[0m \u001b[0mplt\u001b[0m\u001b[1;33m.\u001b[0m\u001b[0mxlabel\u001b[0m\u001b[1;33m(\u001b[0m\u001b[1;34m\"Tempo  $ t $ (s)\"\u001b[0m\u001b[1;33m)\u001b[0m\u001b[1;33m\u001b[0m\u001b[1;33m\u001b[0m\u001b[0m\n",
      "\u001b[1;31mIndexError\u001b[0m: index 0 is out of bounds for axis 0 with size 0"
     ]
    },
    {
     "data": {
      "image/png": "[encoded data removed]",
      "text/plain": [
       "<Figure size 504x648 with 1 Axes>"
      ]
     },
     "metadata": {
      "needs_background": "light"
     },
     "output_type": "display_data"
    }
   ],
   "source": [
    "x_fit = v_est * t_subset + x_intercept\n",
    "\n",
    "v_fit = x_fit / x_fit * v_est\n",
    "\n",
    "fig = plt.figure(figsize = (7, 9))\n",
    "#plt.ion()\n",
    "plt.subplot(2, 1, 1)\n",
    "plt.plot(t, x, \"o\", color = \"blue\", markersize = 3, label = \"Dati\")\n",
    "plt.plot(t_subset, x_fit, \"-\", color = \"yellow\", linewidth = 3, zorder = -1, label = \"Fit\")\n",
    "plt.axhline(color = \"gray\", zorder = -1)\n",
    "plt.axvline(color = \"gray\", zorder = -1)\n",
    "plt.axvline(color = \"magenta\", x = t_subset[0], linewidth = 1, linestyle = \"--\", zorder = -1)\n",
    "plt.axvline(color = \"cyan\", x = t_subset[-1], linewidth = 1, linestyle = \"--\", zorder = -1)\n",
    "plt.xlabel(\"Tempo  $ t $ (s)\")\n",
    "plt.ylabel(\"Altezza $ h $ (m)\")\n",
    "plt.text(27, 1.8, inputDataFile)\n",
    "plt.legend(loc = \"upper center\", shadow = True, fontsize = \"large\")\n",
    "\n",
    "plt.subplot(2, 1, 2)\n",
    "plt.plot(t_prime, v, \"o\", color = \"red\", markersize = 5)\n",
    "plt.plot(t_subset,v_fit, \"-\", color = \"orange\", linewidth = 3)\n",
    "plt.axhline(color = \"gray\", zorder = -1)\n",
    "plt.axvline(color = \"gray\", zorder = -1)\n",
    "plt.axvline(color = \"magenta\", x = t_subset[0], linewidth = 1, linestyle = \"--\", zorder = -1)\n",
    "plt.axvline(color = \"cyan\", x = t_subset[-1], linewidth = 1, linestyle = \"--\", zorder = -1)\n",
    "plt.xlabel(\"Tempo $ t $ (s)\")\n",
    "plt.ylabel(\"Velocità $ v $ (m/s $^{-1} $)\")\n",
    "plt.text(20, 0.2, speedDataFile)\n",
    "plt.savefig(\"Dati/height+speed.pdf\")"
   ]
  },
  {
   "cell_type": "markdown",
   "metadata": {},
   "source": [
    "##### 9. Calcolo dell'accelerazione e confronto con i valori misurati\n",
    "\n",
    "##### 9.1 Calcolo\n",
    "\n",
    "La situazione è analoga a quella che riguarda il calcolo della velocità media nei vari intervalli di tempo.\n",
    "L'accelerazione media in ciascun intervallo di tempo del tipo $ [t'_1, t'_2] $ viene calcolata in base alla semplice relazione:\n",
    "\n",
    "<div id = \"colorbox\">\n",
    "\n",
    "$$ a = \\dfrac{\\Delta v}{\\Delta t} $$\n",
    "\n",
    "</div>\n",
    "\n",
    "Ed associamo questo valore $ a_1 $ al tempo $ t\"_1 $ ottenuto come valore medio tra $ t'_1 $ e $ t'_2 $.\n",
    "\n",
    "Per calcolare le variazioni di velocità, cioè per calcolare $ \\Delta v $ e la durata degli intervalli di tempo $ \\Delta t' $ fra due dati successivi usiamo la funzione **numpy.diff()**.\n",
    "\n",
    "I dati calcolati vengono scritti in un file di testo il cui nome è associato alla variabile **accelerationDataFile**. Il testo è organizzato in due colonne, la prima contenente i valori di tempo, la seconda contenente i valori di accelerazione. Scegliamo il nome del file in modo da evidenziare che si tratta di **valori calcolati** di accelerazione."
   ]
  },
  {
   "cell_type": "code",
   "execution_count": null,
   "metadata": {},
   "outputs": [],
   "source": [
    "accelerationDataFile = \"Dati/Trip02-Acceleration.csv\"\n",
    "np.set_printoptions(precision = 20)\n",
    "delta_t_prime = np.diff(t_prime)\n",
    "delta_v = np.diff(v)\n",
    "a = delta_v / delta_t_prime\n",
    "t_double_prime = t_prime[:-1] + (delta_t_prime / 2)\n",
    "np.savetxt(accelerationDataFile, np.column_stack((t_double_prime, a)))"
   ]
  },
  {
   "cell_type": "markdown",
   "metadata": {},
   "source": [
    "##### 9.2 Grafico\n",
    "\n",
    "Vogliamo visualizzare l'andamento grafico dell'accelerazione $ a $ in funzione del tempo. Inoltre vogliamo effettuare il confronto con i **valori** di accelerazione **misurati** con un accelerometro. Si tratta di valori misurati mediante un sensore dello smartphone con la stessa App **phyphox** e memorizzati in un file di testo (*Tab separated values*) che ha la seguente struttura:\n",
    "\n",
    "| Tempo (s)                | Accelerazione ($ m/s^2 $) |\n",
    "| :----------------------- | :------------------------ |\n",
    "| 2.003207003250000007e+00 | -9.390230845239912194e-02 |\n",
    "\n",
    "Il nome del file di testo contenente i dati sperimentali è associato alla variabile **accelerometerDataFile**."
   ]
  },
  {
   "cell_type": "code",
   "execution_count": null,
   "metadata": {},
   "outputs": [],
   "source": [
    "accelerometerDataFile = \"Dati/Trip02-Acceleration.csv\"\n",
    "\n",
    "# Utilizzato per leggere i dati da file.\n",
    "t_exp, accel = np.loadtxt(accelerometerDataFile, skiprows = 1, unpack = True)\n",
    "\n",
    "plt.plot(t_double_prime, a, \"o\", color = \"green\", markersize = 4, label = \"Calculated\")\n",
    "plt.plot(t_exp,accel, \"+\", color = \"black\", markersize = 2, label = \"Accelerometer\")\n",
    "plt.axhline(color = \"gray\", zorder = -1)\n",
    "plt.axvline(color = \"gray\", zorder = -1)\n",
    "plt.xlabel(\"Tempo $ t $ (s)\")\n",
    "plt.ylabel(\"Accelerazione $ a $ (m/s $ ^{-2} $)\")\n",
    "#plt.ylim(-1, 1)\n",
    "plt.legend(loc = \"upper center\", shadow = True, fontsize = \"large\")\n",
    "plt.draw()\n",
    "plt.show()"
   ]
  },
  {
   "cell_type": "markdown",
   "metadata": {},
   "source": [
    "##### Suggerimento\n",
    "\n",
    "I risultati ottenuti possono essere discussi efficacemente mettendo a confronto questo grafico con il grafico che mostra l'andamento della velocità in funzione del tempo.\n",
    "\n",
    "##### 10. Confronto tra i grafici di quota, velocità e accelerazione\n",
    "\n",
    "Produciamo una figura in cui i tre grafici sono distribuiti in tre righe e una colonna, utilizzando la funzione **subplot**. La figura viene memorizzata in un file tramite la funzione **savefig** di Matplotlib."
   ]
  },
  {
   "cell_type": "code",
   "execution_count": null,
   "metadata": {},
   "outputs": [],
   "source": [
    "print()\n",
    "\n",
    "fig = plt.figure(figsize = (7, 13))\n",
    "#plt.ion()\n",
    "plt.subplot(3, 1, 1)\n",
    "plt.plot(t, x, \"o\", color = \"blue\", markersize = 3, label = \"data\")\n",
    "plt.plot(t_subset, x_fit, \"-\", color = \"yellow\", linewidth = 3, zorder = -1, label = \"fit\")\n",
    "plt.axhline(color = \"gray\", zorder = -1)\n",
    "plt.axvline(color = \"gray\", zorder = -1)\n",
    "plt.axvline(color = \"magenta\", x = t_subset[0], linewidth = 1, linestyle = \"--\", zorder = -1)\n",
    "plt.axvline(color = \"cyan\", x = t_subset[-1], linewidth = 1, linestyle = \"--\", zorder = -1)\n",
    "plt.xlabel(\"Tempo  $ t $ (s)\")\n",
    "plt.ylabel(\"Altezza $ h $ (m)\")\n",
    "plt.text(27, 1.8, inputDataFile)\n",
    "plt.legend(loc = \"upper center\", shadow = True, fontsize = \"large\")\n",
    "\n",
    "plt.subplot(3, 1, 2)\n",
    "plt.plot(t_prime, v, \"o\", color = \"red\", markersize = 5)\n",
    "plt.plot(t_subset, v_fit, \"-\", color = \"orange\", linewidth = 3)\n",
    "plt.axhline(color = \"gray\", zorder = -1)\n",
    "plt.axvline(color = \"gray\", zorder = -1)\n",
    "plt.axvline(color = \"magenta\", x = t_subset[0], linewidth = 1, linestyle = \"--\", zorder = -1)\n",
    "plt.axvline(color = \"cyan\", x = t_subset[-1], linewidth = 1, linestyle = \"--\", zorder = -1)\n",
    "plt.xlabel(\"Tempo $ t $ (s)\")\n",
    "plt.ylabel(\"Velocità $ v $ (m/s)\")\n",
    "plt.text(20, 0.2, speedDataFile)\n",
    "\n",
    "plt.subplot(3, 1, 3)\n",
    "plt.plot(t_double_prime, a, \"o\", color = \"green\", markersize = 6, label = \"Calculated\")\n",
    "plt.plot(t_exp,accel, \"d\", color = \"black\", markersize = 3, label = \"Accelerometer\")\n",
    "plt.axhline(color = \"gray\", zorder = -1)\n",
    "plt.axvline(color = \"gray\", zorder = -1)\n",
    "plt.xlabel(\"Tempo $ t $ (s)\")\n",
    "plt.ylabel(\"Accelerazione $ a $ ($ m/s^{2} $)\")\n",
    "plt.ylim(-1.5, 1.5)\n",
    "plt.legend(loc = \"upper center\", shadow = True, fontsize = \"large\")\n",
    "plt.text(10, -1, accelerometerDataFile)\n",
    "\n",
    "plt.savefig(\"data/Trip01-Results.pdf\")\n",
    "\n",
    "plt.draw()\n",
    "plt.show()\n",
    "print()"
   ]
  },
  {
   "cell_type": "markdown",
   "metadata": {},
   "source": [
    "Questa figura si può confrontare direttamente con la figura prodotta dall'applicazione **phyphox** e permette di verificare che l'analisi dei dati porti agli stessi risultati.\n",
    "\n",
    "> Per eseguire il codice Python contenuto in questo **notebook** Jupyter, anche se Python e Jupyter non sono installati sulla macchina che stai adoperando, puoi utilizzare l'ambiente [**binder**](https://mybinder.org) online.\n",
    "\n",
    "[![Binder](https://mybinder.org/badge_logo.svg)](https://mybinder.org/v2/gh/Darkaquon/Physics-with-Open-Source-Software/master?filepath=%2FNotebook%2FViaggio_in_ascensore.ipynb)\n",
    "\n",
    "### What we have learned\n",
    "\n",
    "*Python*\n",
    "\n",
    "* Leggere i dati da un file di testo.\n",
    "\n",
    "* Riportare i dati in un grafico.\n",
    "\n",
    "* Salvare i dati calcolati in un file di testo.\n",
    "\n",
    "* Produrre più grafici in una stessa figura.\n",
    "\n",
    "* Selezionare un sottoinsieme dei dati.\n",
    "\n",
    "* Ottenere un fit lineare di un insieme di dati.\n",
    "\n",
    "* Confrontare diversi set di dati in uno stesso grafico.\n",
    "\n",
    "* Memorizzare i grafici in un file.\n",
    "\n",
    "*Fisica*\n",
    "\n",
    "* Acquisire i dati riguardanti un esperimento con strumentazione portatile (uno smartphone con l'App **phyphox**).\n",
    "\n",
    "* Elaborare i dati che forniscono la posizione in funzione del tempo e calcolare la velocità e l'accelerazione.\n",
    "\n",
    "* Studiare il moto considerando l'andamento grafico delle variabili che descrivono posizione, velocità e accelerazione.\n",
    "\n",
    "### References and notes???\n",
    "\n",
    "##### Rappresentazione grafica dei dati\n",
    "\n",
    "1. [Introduction to Python for Science and Engineering](https://physics.nyu.edu/pine/pymanual/html/pymanMaster.html)\n",
    "\n",
    "2. [Experiments and data analysis on one-dimensional motion with Raspberry Pi and Python](http://stacks.iop.org/PhysED/55/033006/mmedia)\n",
    "\n",
    "3. [Circuits with Raspberry Pi and Python](https://github.com/POSS-UniMe/RCwithRPi)\n",
    "\n",
    "4. [Reading data from a text file with **loadtxt**](https://numpy.org/doc/stable/reference/generated/numpy.loadtxt.html)\n",
    "\n",
    "     * \"This function aims to be a fast reader for simply formatted files. The **genfromtxt** function provides more sophisticated handling of, e.g., lines with missing values.\"\n",
    "\n",
    "5. [Including more plots in a figure](https://matplotlib.org/3.3.1/gallery/subplots_axes_and_figures/subplot.html)\n",
    "\n",
    "6. [Multiple plots](https://matplotlib.org/api/_as_gen/matplotlib.pyplot.subplot.html) with Matplotlib.\n",
    "\n",
    "##### Fit lineare dei dati\n",
    "\n",
    "7. Lorena A. Barba, Natalia C. Clementi, *Linear regression with real data*, [Engineering Computation](https://nbviewer.jupyter.org/github/engineersCode/EngComp1_offtheground/blob/master/notebooks_en/5_Linear_Regression_with_Real_Data.ipynb), GitHub.\n",
    "\n",
    "8. David J. Pine, *Linear least squares fitting*, [Introduction to Python for Science](https://physics.nyu.edu/pine/pymanual/html/chap7/chap7_funcs.html#example-linear-least-squares-fitting)\n",
    "\n",
    "##### Funzioni della libreria *matplotlib*\n",
    "\n",
    "7. [plot](https://matplotlib.org/api/_as_gen/matplotlib.pyplot.plot.html)\n",
    "\n",
    "8. [linestyle](https://matplotlib.org/api/_as_gen/matplotlib.lines.Line2D.html#matplotlib.lines.Line2D.set_linestyle)\n",
    "\n",
    "9. [axvline](https://matplotlib.org/3.1.1/api/_as_gen/matplotlib.pyplot.axvline.html)\n",
    "\n",
    "10. [legend](https://matplotlib.org/api/_as_gen/matplotlib.pyplot.legend.html)\n",
    "\n",
    "11. [savefig](https://matplotlib.org/api/_as_gen/matplotlib.pyplot.savefig.html)\n",
    "\n",
    "### Grafica notebook"
   ]
  },
  {
   "cell_type": "code",
   "execution_count": null,
   "metadata": {},
   "outputs": [],
   "source": [
    "# Utilizzato per importare la libreria adoperata per incorporare e visualizzare l'HTML con il Python.\n",
    "from IPython.core.display import HTML\n",
    "\n",
    "\n",
    "# Utilizzato per aprire e leggere il file CSS adoperato per modificare la visualizzazione del notebook.\n",
    "css_file = \"Notebook.css\"\n",
    "HTML(open(css_file, \"r\").read())"
   ]
  }
 ],
 "metadata": {
  "kernelspec": {
   "display_name": "Python 3",
   "language": "python",
   "name": "python3"
  },
  "language_info": {
   "codemirror_mode": {
    "name": "ipython",
    "version": 3
   },
   "file_extension": ".py",
   "mimetype": "text/x-python",
   "name": "python",
   "nbconvert_exporter": "python",
   "pygments_lexer": "ipython3",
   "version": "3.7.6"
  }
 },
 "nbformat": 4,
 "nbformat_minor": 4
}
