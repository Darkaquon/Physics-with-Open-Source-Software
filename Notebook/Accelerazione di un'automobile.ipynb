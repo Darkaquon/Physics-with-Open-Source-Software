{
 "cells": [
  {
   "cell_type": "code",
   "execution_count": 4,
   "metadata": {},
   "outputs": [
    {
     "name": "stdout",
     "output_type": "stream",
     "text": [
      "0.2777777777777778 m/s^2\n",
      "0.1388888888888889 m\n"
     ]
    },
    {
     "data": {
      "text/plain": [
       "<function __main__.funzione(v, t)>"
      ]
     },
     "execution_count": 4,
     "metadata": {},
     "output_type": "execute_result"
    }
   ],
   "source": [
    "import ipywidgets as widgets\n",
    "from ipywidgets import interact, interactive, fixed, interact_manual\n",
    "\n",
    "\n",
    "# Funzione.\n",
    "def funzione(v, t):\n",
    "    x = v / 3.6 # Conversione in m/s.\n",
    "    a = x / t\n",
    "    s = 1/2 * a * t**2\n",
    "    print(a, 'm/s^2')\n",
    "    print(s, 'm')\n",
    "\n",
    "interact(funzione, v = widgets.IntSlider(min=0, max=130, step=1, value=1, description='Velocità v:'),\n",
    "         t = widgets.IntSlider(min=0, max=10, step=1, value=1, description='Tempo t:'))"
   ]
  }
 ],
 "metadata": {
  "kernelspec": {
   "display_name": "Python 3",
   "language": "python",
   "name": "python3"
  },
  "language_info": {
   "codemirror_mode": {
    "name": "ipython",
    "version": 3
   },
   "file_extension": ".py",
   "mimetype": "text/x-python",
   "name": "python",
   "nbconvert_exporter": "python",
   "pygments_lexer": "ipython3",
   "version": "3.7.6"
  }
 },
 "nbformat": 4,
 "nbformat_minor": 4
}
