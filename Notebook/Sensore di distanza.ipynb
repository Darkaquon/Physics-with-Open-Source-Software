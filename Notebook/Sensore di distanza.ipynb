{
 "cells": [
  {
   "cell_type": "code",
   "execution_count": 4,
   "metadata": {},
   "outputs": [
    {
     "name": "stdout",
     "output_type": "stream",
     "text": [
      "0.00011904761904761905 s\n"
     ]
    },
    {
     "data": {
      "text/plain": [
       "<function __main__.tempo(d)>"
      ]
     },
     "execution_count": 4,
     "metadata": {},
     "output_type": "execute_result"
    }
   ],
   "source": [
    "import ipywidgets as widgets\n",
    "from ipywidgets import interact, interactive, fixed, interact_manual\n",
    "\n",
    "\n",
    "v = 336 # m/s.\n",
    "\n",
    "# Intervallo di tempo.\n",
    "# Funzione tempo.\n",
    "def tempo(d):\n",
    "    t = 2 * (d / v)\n",
    "    print(t, 's')\n",
    "\n",
    "print('Inserire il valore in m.')\n",
    "interact(tempo, d = widgets.FloatSlider(min=0.02, max=3, step=0.01, value=0.02))"
   ]
  }
 ],
 "metadata": {
  "kernelspec": {
   "display_name": "Python 3",
   "language": "python",
   "name": "python3"
  },
  "language_info": {
   "codemirror_mode": {
    "name": "ipython",
    "version": 3
   },
   "file_extension": ".py",
   "mimetype": "text/x-python",
   "name": "python",
   "nbconvert_exporter": "python",
   "pygments_lexer": "ipython3",
   "version": "3.7.6"
  }
 },
 "nbformat": 4,
 "nbformat_minor": 4
}
