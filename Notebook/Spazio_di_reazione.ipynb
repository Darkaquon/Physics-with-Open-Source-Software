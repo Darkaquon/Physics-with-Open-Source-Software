{
 "cells": [
  {
   "cell_type": "markdown",
   "metadata": {},
   "source": [
    "# Spazio di reazione\n",
    "\n",
    "&nbsp;\n",
    "\n",
    "**Tempo di reazione** è il tempo che trascorre da quando il pilota di un veicolo percepisce uno stimolo visivo a quando inizia una manovra d'emergenza, come una frenata improvvisa.\n",
    "\n",
    "**Spazio di reazione** è lo spazio percorso dal veicolo durante tale intervallo di tempo.\n",
    "\n",
    "![](./Immagini/Spazio_di_reazione_01.jpg)\n",
    "\n",
    "Supponendo che un veicolo sia in movimento con velocità costante $ v $, calcolare lo spazio di reazione $ Dx $ che corrisponde ad un tempo di reazione $ Dt $ di $ 300 \\: ms $, se la velocità è $ v = 36 \\: km/h $.\n",
    "\n",
    "### Discussione del problema\n",
    "\n",
    "La velocità del veicolo di solito è compresa:\n",
    "\n",
    "   * Tra 0 e 50 km/h nelle aree urbane.\n",
    "\n",
    "   * Tra 80 e 130 km/h in autostrada.\n",
    "\n",
    "Bisogna convertire l'unità di misura da km/h a m/s:\n",
    "\n",
    "$$ v \\left[\\dfrac{km}{h}\\right] \\cdot \\dfrac{1}{3.6} = v \\left[\\dfrac{m}{s}\\right] $$\n",
    "\n",
    "La velocità costante con cui si muove il veicolo è:\n",
    "\n",
    "$$ v = \\dfrac{\\Delta x}{\\Delta t} $$\n",
    "\n",
    "Se $ \\Delta t $ è il **tempo di reazione**, allora lo **spazio di reazione** è dato da:\n",
    "\n",
    "$$ \\Delta x = v \\cdot \\Delta t $$\n",
    "\n",
    "### Calcoli con il Python"
   ]
  },
  {
   "cell_type": "code",
   "execution_count": 1,
   "metadata": {},
   "outputs": [
    {
     "name": "stdout",
     "output_type": "stream",
     "text": [
      "\n",
      "Velocità = 10.0 m/s \n",
      "\n"
     ]
    }
   ],
   "source": [
    "velocità = 36 # Velocità in km/h.\n",
    "v = velocità / 3.6 # Velocità in m/s.\n",
    "print()\n",
    "print(\"Velocità =\", v, \"m/s\", \"\\n\")"
   ]
  },
  {
   "cell_type": "code",
   "execution_count": 2,
   "metadata": {},
   "outputs": [
    {
     "name": "stdout",
     "output_type": "stream",
     "text": [
      "\n",
      "Spazio di reazione = 3.0 m\n"
     ]
    }
   ],
   "source": [
    "Dt = 0.3 # Tempo di reazione in ms.\n",
    "Dx = v * Dt # Spazio di reazione in m.\n",
    "print()\n",
    "print(\"Spazio di reazione =\", Dx, \"m\")"
   ]
  },
  {
   "cell_type": "markdown",
   "metadata": {},
   "source": [
    "### Calcoli in modalità interattiva\n",
    "\n",
    "Vogliamo vedere come cambia lo spazio di reazione se cambia la velocità alla quale procede il veicolo. Vogliamo anche valutare quanto lo spazio di reazione è influenzato dal tempo di reazione del conducente. Per selezionare un valore della variabile entro un certo intervallo utilizziamo uno **slider** associato alla variabile. Il calcolo dello spazio di reazione verrà aggiornato appena si cambia il valore della variabile associata allo slider."
   ]
  },
  {
   "cell_type": "code",
   "execution_count": 3,
   "metadata": {},
   "outputs": [
    {
     "name": "stdout",
     "output_type": "stream",
     "text": [
      "\n",
      "Velocità = 10.0 m/s \n",
      "\n",
      "Spazio di reazione = 3.0 m \n",
      "\n"
     ]
    },
    {
     "data": {
      "text/plain": [
       "<function __main__.funzione(Dt, velocità)>"
      ]
     },
     "execution_count": 3,
     "metadata": {},
     "output_type": "execute_result"
    }
   ],
   "source": [
    "# Utilizzato per importare la libreria utilizzata per i widgets.\n",
    "import ipywidgets as widgets\n",
    "\n",
    "\n",
    "# Utilizzato per realizzare gli sliders.\n",
    "sliderTime = widgets.FloatSlider(min = 0.2, max = 0.5, step = 0.05, value = 0.3, description = \"Tempo di reazione\")\n",
    "\n",
    "sliderSpeed = widgets.IntSlider(min = 0, max = 130, step = 1.0, value = 36, description = \"Velocità\")\n",
    "\n",
    "# Funzione.\n",
    "def funzione(Dt, velocità):\n",
    "    v = velocità / 3.6 # Velocità in m/s.\n",
    "    print()\n",
    "    print(\"Velocità =\", v, \"m/s\", \"\\n\")\n",
    "    Dx = v * Dt # Spazio di reazione in m.\n",
    "    print(\"Spazio di reazione =\", Dx, \"m\", \"\\n\")\n",
    "\n",
    "# Utilizzato per interagire con i widgets.\n",
    "widgets.interact(funzione, Dt = sliderTime, velocità = sliderSpeed)"
   ]
  },
  {
   "cell_type": "markdown",
   "metadata": {},
   "source": [
    "### Versione rifinita\n",
    "\n",
    "Si può migliorare la leggibilità dei risultati specificando un formato opportuno per la stampa ([4](https://physics.nyu.edu/pine/pymanual/html/chap4/chap4_io.html#file-input), [5](https://docs.python.org/3/library/string.html#formatspec)). In particolare, scegliamo di specificare il formato in modo da visualizzare il valore calcolato della velocità con una sola cifra decimale e il valore calcolato dello spazio di reazione con due cifre decimali. Questo si realizza tramite la funzione **print()** ed il metodo **str.format()**.\n",
    "\n",
    "Inoltre vogliamo specificare meglio quali sono le variabili controllate tramite gli slider. Questo si può fare usando la proprietà **description**, che permette anche di scrivere equazioni in LaTeX."
   ]
  },
  {
   "cell_type": "code",
   "execution_count": 4,
   "metadata": {},
   "outputs": [
    {
     "name": "stdout",
     "output_type": "stream",
     "text": [
      "\n",
      "Velocità = 10.0 m/s \n",
      "\n",
      "Spazio di reazione = 3.00 m \n",
      "\n"
     ]
    },
    {
     "data": {
      "text/plain": [
       "<function __main__.funzione(Dt, velocità)>"
      ]
     },
     "execution_count": 4,
     "metadata": {},
     "output_type": "execute_result"
    }
   ],
   "source": [
    "# Utilizzato per importare la libreria utilizzata per i widgets.\n",
    "import ipywidgets as widgets\n",
    "\n",
    "\n",
    "#\n",
    "style = {\"description_width\":\"initial\"}\n",
    "\n",
    "# Utilizzato per realizzare gli sliders.\n",
    "sliderTime = widgets.FloatSlider(min = 0.2, max = 0.5, step = 0.05, value = 0.3,\n",
    "                                 description = \"Tempo di reazione\" + r\"$ \\Delta t $\" + \"(s)\", style = style)\n",
    "\n",
    "sliderSpeed = widgets.IntSlider(min = 0, max = 130, step = 1.0, value = 36, description = \"Velocità (km/h)\", style = style)\n",
    "\n",
    "# Funzione.\n",
    "def funzione(Dt, velocità):\n",
    "    v = velocità / 3.6 # Velocità in m/s.\n",
    "    print()\n",
    "    print(\"Velocità = {0:0.1f} m/s \\n\".format(v))\n",
    "    Dx = v * Dt # Spazio di reazione in m.\n",
    "    print(\"Spazio di reazione = {0:0.02f} m\".format(Dx), \"\\n\")\n",
    "\n",
    "# Utilizzato per interagire con i widgets.\n",
    "widgets.interact(funzione, Dt = sliderTime, velocità = sliderSpeed)"
   ]
  },
  {
   "cell_type": "markdown",
   "metadata": {},
   "source": [
    "> Per eseguire il codice Python contenuto in questo **notebook** Jupyter, anche se Python e Jupyter non sono installati sulla macchina che stai utilizzando puoi utilizzare l'ambiente [**binder**](https://mybinder.org) online.\n",
    "\n",
    "[![Binder](https://mybinder.org/badge_logo.svg)](https://mybinder.org/v2/gh/Darkaquon/Tesi/master?filepath=Notebook%2FSpazio_di_reazione.ipynb)"
   ]
  },
  {
   "cell_type": "markdown",
   "metadata": {},
   "source": [
    "### What we have learned\n",
    "\n",
    "*Python*\n",
    "\n",
    "* Utilizzare Jupyter come un foglio di calcolo che include:\n",
    "\n",
    "    * Parti di testo in Markdown.\n",
    "\n",
    "    * Codice Python con la possibilità di cambiare i valori delle variabili e di operare in modalità interattiva utilizzando uno slider.\n",
    "\n",
    "*Fisica*\n",
    "\n",
    "* Semplici applicazioni delle leggi del moto rettilineo uniforme.\n",
    "\n",
    "### References and notes\n",
    "\n",
    "##### Semplici calcoli con il Python\n",
    "\n",
    "1. [Introduction to Python for Science](https://physics.nyu.edu/pine/pymanual/html/pymanMaster.html)\n",
    "\n",
    "2. [Engineering Computations](https://github.com/engineersCode/EngComp) (See Module 1. Get data off the ground - Learn to interact with Python and handle data with Python).\n",
    "\n",
    "3. [A quick intro to numerical programming in Python](https://github.com/barbagroup/AeroPython) (See Module 0. Quick Python Intro).\n",
    "\n",
    "##### Widgets\n",
    "\n",
    "4. [Jupyter Widgets documentation](https://ipywidgets.readthedocs.io/en/latest/)\n",
    "\n",
    "5. [Layout and Styling of Jupyter widgets](https://ipywidgets.readthedocs.io/en/latest/examples/Widget%20Styling.html#Description)\n",
    "\n",
    "##### Printing with a format\n",
    "\n",
    "6. [Input and Output - Python documentation](https://docs.python.org/3/tutorial/inputoutput.html)\n",
    "\n",
    "##### Immagini\n",
    "\n",
    "7. Foto originale *'Spazio_di_reazione_01.jpg'* realizzata con uno smartphone Samsung 9.\n",
    "\n",
    "##### Software resources\n",
    "\n",
    "8. [**binder**](https://mybinder.org) For opening the notebooks in an executable environment.\n",
    "\n",
    "### Stile"
   ]
  },
  {
   "cell_type": "code",
   "execution_count": 5,
   "metadata": {},
   "outputs": [
    {
     "ename": "FileNotFoundError",
     "evalue": "[Errno 2] No such file or directory: '../Notebook/Stile/Stile.css'",
     "output_type": "error",
     "traceback": [
      "\u001b[1;31m---------------------------------------------------------------------------\u001b[0m",
      "\u001b[1;31mFileNotFoundError\u001b[0m                         Traceback (most recent call last)",
      "\u001b[1;32m<ipython-input-5-658c572feaa1>\u001b[0m in \u001b[0;36m<module>\u001b[1;34m\u001b[0m\n\u001b[0;32m      3\u001b[0m \u001b[1;33m\u001b[0m\u001b[0m\n\u001b[0;32m      4\u001b[0m \u001b[0mcss_file\u001b[0m \u001b[1;33m=\u001b[0m \u001b[1;34m\"../Notebook/Stile/Stile.css\"\u001b[0m\u001b[1;33m\u001b[0m\u001b[1;33m\u001b[0m\u001b[0m\n\u001b[1;32m----> 5\u001b[1;33m \u001b[0mHTML\u001b[0m\u001b[1;33m(\u001b[0m\u001b[0mopen\u001b[0m\u001b[1;33m(\u001b[0m\u001b[0mcss_file\u001b[0m\u001b[1;33m,\u001b[0m \u001b[1;34m\"r\"\u001b[0m\u001b[1;33m)\u001b[0m\u001b[1;33m.\u001b[0m\u001b[0mread\u001b[0m\u001b[1;33m(\u001b[0m\u001b[1;33m)\u001b[0m\u001b[1;33m)\u001b[0m\u001b[1;33m\u001b[0m\u001b[1;33m\u001b[0m\u001b[0m\n\u001b[0m",
      "\u001b[1;31mFileNotFoundError\u001b[0m: [Errno 2] No such file or directory: '../Notebook/Stile/Stile.css'"
     ]
    }
   ],
   "source": [
    "from IPython.core.display import HTML\n",
    "\n",
    "\n",
    "css_file = \"/Notebook/Stile/Stile.css\"\n",
    "HTML(open(css_file, \"r\").read())"
   ]
  }
 ],
 "metadata": {
  "kernelspec": {
   "display_name": "Python 3",
   "language": "python",
   "name": "python3"
  },
  "language_info": {
   "codemirror_mode": {
    "name": "ipython",
    "version": 3
   },
   "file_extension": ".py",
   "mimetype": "text/x-python",
   "name": "python",
   "nbconvert_exporter": "python",
   "pygments_lexer": "ipython3",
   "version": "3.7.6"
  }
 },
 "nbformat": 4,
 "nbformat_minor": 4
}
