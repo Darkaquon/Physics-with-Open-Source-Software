{
 "cells": [
  {
   "cell_type": "markdown",
   "metadata": {},
   "source": [
    "# Comunicazioni a lunga distanza\n",
    "\n",
    "&nbsp;\n",
    "\n",
    "La trasmissione di dati a lunga distanza può risentire del tempo necessario alla propagazione del segnale, che avviene tramite onde elettromagnetiche. La velocità di propagazione delle onde elettromagnetiche nel vuoto è:\n",
    "\n",
    "$$ c = 2.99792458 \\cdot 10^{8} \\text{m/s} $$\n",
    "\n",
    "Vogliamo stimare approssimativamente il tempo necessario a trasmettere un segnale:\n",
    "\n",
    "* Dalla Terra alla Stazione Spaziale Internazionale.\n",
    "* Dalla Terra alla Luna.\n",
    "* Dalla Terra al pianeta Marte.\n",
    "* Dalla Terra al Sole.\n",
    "\n",
    "Vogliamo anche proporre una risposta alla domanda:\n",
    "\n",
    "* Quanto tempo impiega la luce per viaggiare dal Sole alla Terra?\n",
    "\n",
    "![](./Immagini/Comunicazioni_a_lunga_distanza_01.jpg)\n",
    "\n",
    "### Discussione del problema\n",
    "\n",
    "In base alla relazione:\n",
    "\n",
    "$$ \\Delta x = c \\cdot \\Delta t $$\n",
    "\n",
    "Il tempo necessario per percorrere la distanza $ \\Delta x $ è:\n",
    "\n",
    "$$ \\Delta t = \\dfrac{\\Delta x}{c} $$\n",
    "\n",
    "### Calcoli con il Python\n",
    "\n",
    "In questo esempio vogliamo utilizzare l'equazione per il calcolo del tempo $ \\Delta t $ inserendo valori diversi della distanza $ \\Delta x $, in base al particolare problema che consideriamo.\n",
    "\n",
    "Percorso          | Distanza (km)\n",
    "----------------- | -------------\n",
    "Terra-ISS         | 400\n",
    "Terra-Luna        | 384400\n",
    "Terra-Marte       | 54600000\n",
    "Terra-Sole (1 au) | 149597870.7\n",
    "\n",
    "&nbsp;\n",
    "\n",
    "Per effettuare la scelta del valore della variabile $ \\Delta x $ tra varie opzioni possibili utilizziamo il **widget** di tipo **Dropdown**.\n",
    "\n",
    "Il risultato del calcolo è visualizzato solo con quattro cifre decimali tramite **print** e **format**."
   ]
  },
  {
   "cell_type": "code",
   "execution_count": 12,
   "metadata": {},
   "outputs": [
    {
     "name": "stdout",
     "output_type": "stream",
     "text": [
      "\n",
      "Distanza = 400 km \n",
      "\n",
      "Ritardo = 0.0013 s \n",
      "\n"
     ]
    },
    {
     "data": {
      "text/plain": [
       "<function __main__.funzione(Dx)>"
      ]
     },
     "execution_count": 12,
     "metadata": {},
     "output_type": "execute_result"
    }
   ],
   "source": [
    "# Utilizzato per\n",
    "import ipywidgets as widgets\n",
    "\n",
    "\n",
    "c = 2.99792458e8 # Velocità di propagazione nel vuoto della luce e delle onde elettromagnetiche in m/s.\n",
    "\n",
    "# Utilizzato per\n",
    "selectDistance = widgets.Dropdown(\n",
    "    options = [(\"Terra-ISS\", 400), (\"Terra-Luna\", 384400), (\"Terra-Marte\", 54600000), (\"Terra-Sole\", 149597870.7)],\n",
    "    value = 400,\n",
    "    description = \"Distanza:\",\n",
    ")\n",
    "\n",
    "# Funzione.\n",
    "def funzione(Dx):\n",
    "    print()\n",
    "    print(\"Distanza =\", Dx, \"km\", \"\\n\")\n",
    "    Dt = Dx * 1000 / c\n",
    "    print(\"Ritardo = {0:0.4f} s \\n\".format(Dt))\n",
    "\n",
    "# Utilizzato per\n",
    "widgets.interact(funzione, Dx = selectDistance)"
   ]
  },
  {
   "cell_type": "markdown",
   "metadata": {},
   "source": [
    "> Per eseguire il codice Python contenuto in questo **notebook** Jupyter, anche se Python e Jupyter non sono installati sulla macchina che stai utilizzando puoi utilizzare l'ambiente [**binder**](https://mybinder.org) online.\n",
    "\n",
    "[![Binder](https://mybinder.org/badge_logo.svg)](https://mybinder.org/v2/gh/Darkaquon/Tesi/master?filepath=Notebook%2FComunicazioni_a_lunga_distanza.ipynb)"
   ]
  },
  {
   "cell_type": "markdown",
   "metadata": {},
   "source": [
    "### What we have learned\n",
    "\n",
    "*Jupyter*\n",
    "\n",
    "* Utilizzo di un menù **Dropdown** per la scelta del valore di una variabile tra più opzioni disponibili.\n",
    "* Scrittura di una **tabella** in linguaggio Markdown.\n",
    "\n",
    "*Fisica*\n",
    "\n",
    "* Ottenere una stima dei *tempi tecnici* necessari per le comunicazioni a lunga distanza.\n",
    "\n",
    "### References and notes\n",
    "\n",
    "1. [Where is the International Space Station](http://www.esa.int/Science_Exploration/Human_and_Robotic_Exploration/International_Space_Station/Where_is_the_International_Space_Station)\n",
    "\n",
    "2. [Mars close approach](https://mars.nasa.gov/all-about-mars/night-sky/close-approach/)\n",
    "\n",
    "3. [Unità astronomica](https://it.wikipedia.org/wiki/Unit%C3%A0_astronomica)\n",
    "\n",
    "##### Immagini\n",
    "\n",
    "4. [L'album di Parmitano, dalla Sicilia all'Australia: la 'sua' Terra vista dallo spazio](https://www.repubblica.it/scienze/2020/02/05/news/luca_parmitano_cartoline_dallo_spazio-247676704/)\n",
    "\n",
    "### Stile"
   ]
  },
  {
   "cell_type": "code",
   "execution_count": null,
   "metadata": {},
   "outputs": [],
   "source": [
    "from IPython.core.display import HTML\n",
    "\n",
    "\n",
    "css_file = \"./Stile/Stile.css\"\n",
    "HTML(open(css_file).read())"
   ]
  }
 ],
 "metadata": {
  "kernelspec": {
   "display_name": "Python 3",
   "language": "python",
   "name": "python3"
  },
  "language_info": {
   "codemirror_mode": {
    "name": "ipython",
    "version": 3
   },
   "file_extension": ".py",
   "mimetype": "text/x-python",
   "name": "python",
   "nbconvert_exporter": "python",
   "pygments_lexer": "ipython3",
   "version": "3.7.6"
  }
 },
 "nbformat": 4,
 "nbformat_minor": 4
}
