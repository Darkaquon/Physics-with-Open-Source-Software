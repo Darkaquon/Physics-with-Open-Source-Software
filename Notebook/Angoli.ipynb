{
 "cells": [
  {
   "cell_type": "markdown",
   "metadata": {},
   "source": [
    "# Misura degli angoli\n",
    "\n",
    "![](./Immagini/Angoli_01.jpg)\n",
    "\n",
    "A quanti gradi corrisponde un radiante?\n",
    "\n",
    "Disegnare un settore circolare che corrisponde ad un angolo la cui misura è un radiante.\n",
    "\n",
    "### Discussione del problema\n",
    "\n",
    "Dato un arco di circonferenza di raggio $ r $ e lunghezza $ s $, la misura in **radianti** dell'angolo $ \\theta $ sotteso dall'arco $ s $ è data dal rapporto tra la lunghezza dell'arco di circonferenza e la lunghezza del raggio.\n",
    "\n",
    "\\begin{equation*}\n",
    "\\theta = \\dfrac{s}{r}\n",
    "\\end{equation*}\n",
    "\n",
    "<img src = \"Immagini/Angoli_02.jpg\" alt = \"drawing\" width = \"500\"/>\n",
    "<img src = \"Immagini/Angoli_03.jpg\" alt = \"drawing\" width = \"500\"/>\n",
    "\n",
    "* Un angolo di un radiante è l'angolo sotteso da un arco di circonferenza la cui lunghezza è pari al raggio.\n",
    "\n",
    "* La misura di un *angolo giro* è pari a $ 2\\pi $ **radianti**, che corrispondono a $ 360 $ **gradi**.\n",
    "\n",
    "* La misura in radianti è legata alla misura in gradi tramite la relazione:\n",
    "\n",
    "\\begin{equation*}\n",
    "\\dfrac{\\theta_{rad}}{2\\pi} = \\dfrac{\\theta °}{360°}\n",
    "\\end{equation*}\n",
    "\n",
    "Da cui:\n",
    "\n",
    "\\begin{equation*}\n",
    "\\theta ° = \\theta_{rad} \\dfrac{180}{\\pi}\n",
    "\\end{equation*}\n",
    "\n",
    "### Calcoli con il Python\n",
    "\n",
    "### Conversione da radianti a gradi"
   ]
  },
  {
   "cell_type": "code",
   "execution_count": 21,
   "metadata": {},
   "outputs": [
    {
     "name": "stdout",
     "output_type": "stream",
     "text": [
      "\n"
     ]
    },
    {
     "data": {
      "text/markdown": [
       "$ \\theta_{rad} $ = 1**rad**\n"
      ],
      "text/plain": [
       "<IPython.core.display.Markdown object>"
      ]
     },
     "metadata": {},
     "output_type": "display_data"
    },
    {
     "data": {
      "text/markdown": [
       "$ \\theta_{deg} $ = 57.29577951308232**deg**\n"
      ],
      "text/plain": [
       "<IPython.core.display.Markdown object>"
      ]
     },
     "metadata": {},
     "output_type": "display_data"
    },
    {
     "name": "stdout",
     "output_type": "stream",
     "text": [
      "\n"
     ]
    },
    {
     "data": {
      "text/markdown": [
       "\n",
       "Misura dell'angolo in radianti e corrispondente valore in gradi, approssimato alla terza cifra decimale, \n",
       "\n",
       "|&theta; rad |&theta; deg|\n",
       "|----------- | ----------|\n",
       "|1       |57.296 |\n"
      ],
      "text/plain": [
       "<IPython.core.display.Markdown object>"
      ]
     },
     "execution_count": 21,
     "metadata": {},
     "output_type": "execute_result"
    }
   ],
   "source": [
    "import numpy as np\n",
    "from IPython.display import display, Markdown\n",
    "\n",
    "\n",
    "theta_rad = 1\n",
    "theta_deg = theta_rad * 180 / np.pi\n",
    "print()\n",
    "display(Markdown(r\"$ \\theta_{rad} $\" + \" = \" + str(theta_rad) + \"**rad**\\n\"))\n",
    "display(Markdown(r\"$ \\theta_{deg} $\" + \" = \" + str(theta_deg) + \"**deg**\\n\"))\n",
    "print()\n",
    "Markdown(\"\"\"\n",
    "Misura dell'angolo in radianti e corrispondente valore in gradi, approssimato alla terza cifra decimale, \\n\n",
    "|&theta; rad |&theta; deg|\n",
    "|----------- | ----------|\n",
    "|{one}       |{two:0.3f} |\n",
    "\"\"\".format(one = theta_rad, two = theta_deg))"
   ]
  },
  {
   "cell_type": "markdown",
   "metadata": {},
   "source": [
    "<hr>\n",
    "\n",
    "> Per eseguire il codice Python contenuto in questo **notebook** Jupyter, anche se Python e Jupyter non sono installati sulla macchina che stai utilizzando puoi utilizzare l'ambiente [**binder**](https://mybinder.org) online.\n",
    "\n",
    "[![Binder](https://mybinder.org/badge_logo.svg)](https://mybinder.org/v2/gh/Darkaquon/Tesi/master?filepath=Notebook%2FAngoli.ipynb)\n",
    "\n",
    "<hr>\n",
    "\n",
    "### Grafico"
   ]
  },
  {
   "cell_type": "code",
   "execution_count": 22,
   "metadata": {},
   "outputs": [
    {
     "name": "stdout",
     "output_type": "stream",
     "text": [
      "\n"
     ]
    },
    {
     "data": {
      "image/png": "[encoded data removed]",
      "text/plain": [
       "<Figure size 360x360 with 1 Axes>"
      ]
     },
     "metadata": {
      "needs_background": "light"
     },
     "output_type": "display_data"
    }
   ],
   "source": [
    "import numpy as np\n",
    "import matplotlib.pyplot as plt\n",
    "from matplotlib import patches\n",
    "from matplotlib.patches import Wedge\n",
    "\n",
    "\n",
    "xcenter, ycenter = 0., 0.\n",
    "width, height = 2.01, 2.01\n",
    "\n",
    "beta = 1 # Radianti.\n",
    "beta_deg = beta * 180 / np.pi\n",
    "\n",
    "fig1 = plt.figure(1, (5, 5))\n",
    "arc = patches.Arc((xcenter, ycenter), width, height, angle = 0.0, theta1 = 0.0, theta2 = 360.0, color = \"blue\", linewidth = 1.5)\n",
    "ax = fig1.add_subplot(111, aspect = \"equal\")\n",
    "plt.xlim(-1.1, 1.1)\n",
    "plt.ylim(-1.1, 1.1)\n",
    "plt.plot(0, 0, \"o\", markersize = 4, color = \"blue\")\n",
    "ax.add_patch(arc)\n",
    "radius = 1\n",
    "wedge = Wedge((xcenter, ycenter), radius, 0, beta_deg)\n",
    "ax.add_patch(wedge)\n",
    "plt.text(0.75, 0.75, r\"$ \\theta $ = {0:0.3f} deg\".format(beta_deg), fontsize = \"16\")\n",
    "plt.axis(\"off\")\n",
    "print()\n",
    "plt.show()"
   ]
  },
  {
   "cell_type": "markdown",
   "metadata": {},
   "source": [
    "### Get a feel of\n",
    "\n",
    "Dato un angolo 𝛾 in gradi, compreso tra 0 e 360, calcolare la misura in radianti.\n",
    "\n",
    "Disegnare un settore circolare che corrisponde all'angolo scelto."
   ]
  },
  {
   "cell_type": "code",
   "execution_count": 23,
   "metadata": {},
   "outputs": [
    {
     "data": {
      "text/html": [
       "\n",
       " &gamma; = 0.785 <b> rad </b> = 0.250 &pi; <b> rad </b>"
      ],
      "text/plain": [
       "<IPython.core.display.HTML object>"
      ]
     },
     "metadata": {},
     "output_type": "display_data"
    },
    {
     "name": "stdout",
     "output_type": "stream",
     "text": [
      "\n"
     ]
    },
    {
     "data": {
      "image/png": "[encoded data removed]",
      "text/plain": [
       "<Figure size 360x360 with 1 Axes>"
      ]
     },
     "metadata": {
      "needs_background": "light"
     },
     "output_type": "display_data"
    },
    {
     "data": {
      "text/plain": [
       "<function __main__.calculate(gamma)>"
      ]
     },
     "execution_count": 23,
     "metadata": {},
     "output_type": "execute_result"
    }
   ],
   "source": [
    "import ipywidgets as widgets\n",
    "from IPython.display import display, Markdown, HTML\n",
    "\n",
    "\n",
    "style = {\"description_width\":\"initial\"}\n",
    "sliderAngle = widgets.FloatSlider(min = 0, max = 360, step = 1, value = 45,\n",
    "                                  description = \"Angle\" + r\"$ \\gamma $\" + \"(°)\", style = style, continuous_update = False)\n",
    "print()\n",
    "\n",
    "def calculate(gamma):\n",
    "    gamma_rad = gamma * np.pi / 180 # Angolo in radianti.\n",
    "    gamma_over_pi = gamma / 180 # Angolo in (fraction of pi radians).\n",
    "    display(HTML(\"\\n &gamma; = {0:0.3f} <b> rad </b> = {1:0.3f} &pi; <b> rad </b>\".format(gamma_rad, gamma_over_pi)))\n",
    "    makeplot(gamma)\n",
    "\n",
    "def makeplot(gamma):\n",
    "    fig2 = plt.figure(2, (5, 5))\n",
    "    arc = patches.Arc((xcenter, ycenter), width, height, angle = 0.0, theta1 = 0.0, theta2 = 360.0, color = \"blue\", linewidth = 1.5)\n",
    "    ax = fig2.add_subplot(111, aspect = \"equal\")\n",
    "    plt.xlim(-1.1, 1.1)\n",
    "    plt.ylim(-1.1, 1.1)\n",
    "    plt.plot(0, 0, \"o\", markersize = 4, color = \"blue\")\n",
    "    ax.add_patch(arc)\n",
    "\n",
    "    radius = 1\n",
    "    wedge = Wedge((xcenter, ycenter), radius, 0, gamma)\n",
    "    ax.add_patch(wedge)\n",
    "    plt.text(0.75, 0.75, r\"$ \\theta $ = {0:0.3f} deg\".format(gamma), fontsize = \"16\")\n",
    "    plt.axis(\"off\")\n",
    "    print()\n",
    "    plt.show()\n",
    "\n",
    "widgets.interact(calculate, gamma = sliderAngle)"
   ]
  },
  {
   "cell_type": "markdown",
   "metadata": {},
   "source": [
    "### What we have learned\n",
    "\n",
    "*Python*\n",
    "\n",
    "* Rappresentare graficamente un settore circolare e un arco di circonferenza.\n",
    "* Esprimere i risultati come in linguaggio Markdown come testo o come tabella.\n",
    "* Modificare le dimensioni delle immagini.\n",
    "\n",
    "*Fisica*\n",
    "\n",
    "* Misura degli angoli in radianti.\n",
    "* Conversione tra unità di misura: radianti &hArr; gradi.\n",
    "\n",
    "### References and notes\n",
    "\n",
    "##### Drawing arcs and circles with Matplotlib\n",
    "\n",
    "1. [How to draw an arc of a circle](https://matplotlib.org/3.1.1/api/_as_gen/matplotlib.patches.Arc.html)\n",
    "\n",
    "2. [Matplotlib documentation on Arc](https://matplotlib.org/3.1.1/api/_as_gen/matplotlib.patches.Arc.html)\n",
    "\n",
    "3. [Example: patches, Arc](https://matplotlib.org/3.1.1/gallery/units/ellipse_with_units.html#sphx-glr-gallery-units-ellipse-with-units-py)\n",
    "\n",
    "4. [Example: Wedges](https://matplotlib.org/gallery/shapes_and_collections/patch_collection.html#sphx-glr-gallery-shapes-and-collections-patch-collection-py) (How to draw a full sector)."
   ]
  },
  {
   "cell_type": "code",
   "execution_count": 24,
   "metadata": {},
   "outputs": [
    {
     "data": {
      "text/html": [
       "<link href = \"https://fonts.googleapis.com/css?family=Merriweather:300,300i,400,400i,700,700i,900,900i\" rel = 'stylesheet'>\n",
       "<link href = \"https://fonts.googleapis.com/css?family=Source+Sans+Pro:300,300i,400,400i,700,700i\" rel = 'stylesheet'>\n",
       "<link href = \"https://fonts.googleapis.com/css?family=Source+Code+Pro:300,400\" rel = \"stylesheet\">\n",
       "\n",
       "<style>\n",
       "\n",
       "@font-face {\n",
       "    font-family: \"Computer Modern\";\n",
       "    src: url(\"http://mirrors.ctan.org/fonts/cm-unicode/fonts/otf/cmunss.otf\");\n",
       "}\n",
       "\n",
       "\n",
       "#notebook_panel { /* Main background */\n",
       "    background: rgb(245, 245, 245);\n",
       "}\n",
       "\n",
       "div.cell { /* Set cell width */\n",
       "    width: 800px;\n",
       "}\n",
       "\n",
       "div #notebook { /* Centre the content */\n",
       "    background: #fff; /* White background for content */\n",
       "    width: 1000px;\n",
       "    margin: auto;\n",
       "    padding-left: 0em;\n",
       "}\n",
       "\n",
       "#notebook li { /* More space between bullet points */\n",
       "margin-top: 0.5em;\n",
       "}\n",
       "\n",
       "/* Draw border around running cells */\n",
       "div.cell.border-box-sizing.code_cell.running {\n",
       "    border: 1px solid #111;\n",
       "}\n",
       "\n",
       "/* Put a solid color box around each cell and its output, visually linking them */\n",
       "div.cell.code_cell {\n",
       "    background-color: rgb(256, 256, 256);\n",
       "    border-radius: 0px;\n",
       "    padding: 0.5em;\n",
       "    margin-left: 1em;\n",
       "    margin-top: 1em;\n",
       "}\n",
       "\n",
       "div.text_cell_render {\n",
       "    font-family: \"Source Sans Pro\", sans-serif;\n",
       "    line-height: 140%;\n",
       "    font-size: 110%;\n",
       "    width: 680px;\n",
       "    margin-left: auto;\n",
       "    margin-right: auto;\n",
       "}\n",
       "\n",
       "/* Formatting for header cells */\n",
       ".text_cell_render h1 {\n",
       "    font-family: \"Merriweather\", serif;\n",
       "    font-style: regular;\n",
       "    font-weight: bold;\n",
       "    font-size: 250%;\n",
       "    line-height: 100%;\n",
       "    color: #004065;\n",
       "    text-align: center;\n",
       "    margin-bottom: 1em;\n",
       "    margin-top: 0.5em;\n",
       "    display: block;\n",
       "}\n",
       "\n",
       ".text_cell_render h2 {\n",
       "    font-family: \"Merriweather\", serif;\n",
       "    font-weight: bold; \n",
       "    font-size: 180%;\n",
       "    line-height: 100%;\n",
       "    color: #0096d6;\n",
       "    margin-bottom: 0.5em;\n",
       "    margin-top: 0.5em;\n",
       "    display: block;\n",
       "}\n",
       "\n",
       ".text_cell_render h3 {\n",
       "    font-family: \"Merriweather\", serif;\n",
       "\tfont-size: 150%;\n",
       "    margin-top: 12px;\n",
       "    margin-bottom: 3px;\n",
       "    font-style: regular;\n",
       "    color: #008367;\n",
       "}\n",
       "\n",
       ".text_cell_render h4 { /* Use this for captions */\n",
       "    font-family: \"Merriweather\", serif;\n",
       "    font-weight: 300;\n",
       "    font-size: 100%;\n",
       "    line-height: 120%;\n",
       "    text-align: left;\n",
       "    width: 500px;\n",
       "    margin-top: 1em;\n",
       "    margin-bottom: 2em;\n",
       "    margin-left: 80pt;\n",
       "    font-style: regular;\n",
       "}\n",
       "\n",
       ".text_cell_render h5 { /* Use this for small titles */\n",
       "    font-family: \"Source Sans Pro\", sans-serif;\n",
       "    font-weight: regular;\n",
       "    font-size: 130%;\n",
       "    color: #e31937;\n",
       "    font-style: italic;\n",
       "    margin-bottom: .5em;\n",
       "    margin-top: 1em;\n",
       "    display: block;\n",
       "}\n",
       "\n",
       ".text_cell_render h6 { /* Use this for copyright note */\n",
       "    font-family: \"Source Code Pro\", sans-serif;\n",
       "    font-weight: 300;\n",
       "    font-size: 9pt;\n",
       "    line-height: 100%;\n",
       "    color: grey;\n",
       "    margin-bottom: 1px;\n",
       "    margin-top: 1px;\n",
       "}\n",
       "\n",
       "    .CodeMirror {\n",
       "            font-family: \"Source Code Pro\";\n",
       "\t\t\tfont-size: 90%;\n",
       "    }\n",
       "/*    .prompt{\n",
       "        display: None;\n",
       "    }*/\n",
       "\t\n",
       "    \n",
       "    .warning {\n",
       "        color: rgb(240, 20, 20)\n",
       "        }\n",
       "\n",
       "</style>\n",
       "\n",
       "<script>\n",
       "\n",
       "    MathJax.Hub.Config({\n",
       "                        TeX: {\n",
       "                           extensions: [\"AMSmath.js\"], \n",
       "                           equationNumbers: { autoNumber: \"AMS\", useLabelIds: true}\n",
       "                           },\n",
       "                tex2jax: {\n",
       "                    inlineMath: [ ['$','$'], [\"\\\\(\",\"\\\\)\"] ],\n",
       "                    displayMath: [ ['$$','$$'], [\"\\\\[\",\"\\\\]\"] ]\n",
       "                },\n",
       "                displayAlign: 'center', // Change this to 'center' to center equations.\n",
       "                \"HTML-CSS\": {\n",
       "                    styles: {'.MathJax_Display': {\"margin\": 4}}\n",
       "                }\n",
       "        });\n",
       "\n",
       "</script>"
      ],
      "text/plain": [
       "<IPython.core.display.HTML object>"
      ]
     },
     "execution_count": 24,
     "metadata": {},
     "output_type": "execute_result"
    }
   ],
   "source": [
    "from IPython.core.display import HTML\n",
    "\n",
    "\n",
    "css_file = \"./Stile/Stile.css\"\n",
    "HTML(open(css_file).read())"
   ]
  }
 ],
 "metadata": {
  "kernelspec": {
   "display_name": "Python 3",
   "language": "python",
   "name": "python3"
  },
  "language_info": {
   "codemirror_mode": {
    "name": "ipython",
    "version": 3
   },
   "file_extension": ".py",
   "mimetype": "text/x-python",
   "name": "python",
   "nbconvert_exporter": "python",
   "pygments_lexer": "ipython3",
   "version": "3.7.6"
  }
 },
 "nbformat": 4,
 "nbformat_minor": 4
}
