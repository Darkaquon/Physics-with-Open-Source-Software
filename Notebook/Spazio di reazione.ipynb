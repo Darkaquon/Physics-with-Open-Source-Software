{
 "cells": [
  {
   "cell_type": "code",
   "execution_count": 6,
   "metadata": {},
   "outputs": [
    {
     "name": "stdout",
     "output_type": "stream",
     "text": [
      "0.05555555555555556 m\n"
     ]
    },
    {
     "data": {
      "text/plain": [
       "<function __main__.spazio(v, t)>"
      ]
     },
     "execution_count": 6,
     "metadata": {},
     "output_type": "execute_result"
    }
   ],
   "source": [
    "import ipywidgets as widgets\n",
    "from ipywidgets import interact, interactive, fixed, interact_manual\n",
    "\n",
    "\n",
    "# v = 36 # km/h.\n",
    "# t = 300 # ms.\n",
    "\n",
    "# Funzione spazio.\n",
    "def spazio(v, t):\n",
    "    x = v / 3.6 # Conversione in m/s.\n",
    "    s = x * t\n",
    "    print(s, 'm')\n",
    "\n",
    "print('I valori sono in km/h e s.')\n",
    "interact(spazio, v = widgets.IntSlider(min=0, max=130, step=1, value=1, description='Velocità v:'), \n",
    "         t = widgets.FloatSlider(min=0.2, max=0.5, step=0.1, value=0.2, description='Tempo di reazione t:'))"
   ]
  }
 ],
 "metadata": {
  "kernelspec": {
   "display_name": "Python 3",
   "language": "python",
   "name": "python3"
  },
  "language_info": {
   "codemirror_mode": {
    "name": "ipython",
    "version": 3
   },
   "file_extension": ".py",
   "mimetype": "text/x-python",
   "name": "python",
   "nbconvert_exporter": "python",
   "pygments_lexer": "ipython3",
   "version": "3.7.6"
  }
 },
 "nbformat": 4,
 "nbformat_minor": 4
}
