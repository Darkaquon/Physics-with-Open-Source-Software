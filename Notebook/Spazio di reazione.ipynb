{
 "cells": [
  {
   "cell_type": "markdown",
   "metadata": {},
   "source": [
    "# Spazio di reazione, tempo di reazione\n",
    "\n",
    "**Tempo di reazione** è il tempo che trascorre da quanto il pilota di un veicolo percepisce uno stimolo visivo a quando inizia una manovra d'emergenza, come una frenata improvvisa. \n",
    "\n",
    "**Spazio di reazione** è lo spazio percorso dal veicolo durante tale intervallo di tempo.\n",
    "\n",
    "Supponendo che un veicolo sia in movimento con velocità costante $v$, calcolare lo spazio di reazione che corrisponde ad un tempo di reazione di 300 ms, se la velocità è $v =$ 36 km/h.\n",
    "\n",
    "### Discussione del problema\n",
    "* La velocità del veicolo di solito è compresa\n",
    "    * fra 0 e 50 km/h nelle aree urbane\n",
    "    * fra 80 e 130 km/h in autostrada\n",
    "\n",
    "* Bisogna convertire l'unità di misura da km/h a m/s\n",
    "\n",
    "$v \\left[\\dfrac{km}{h}\\right] * \\dfrac{1}{3.6} = v \\left[\\dfrac{m}{s}\\right]$\n",
    "\n",
    "* La velocità costante con cui si muove il veicolo è \n",
    "\n",
    "$v = \\dfrac{\\Delta x}{\\Delta t}$\n",
    "\n",
    "* Se $\\Delta t$ è il **tempo di reazione**, allora lo **spazio di reazione** è dato da\n",
    "\n",
    "$ \\Delta x = v \\Delta t $"
   ]
  },
  {
   "cell_type": "markdown",
   "metadata": {},
   "source": [
    "### Svolgimento dei calcoli con Python"
   ]
  },
  {
   "cell_type": "code",
   "execution_count": 65,
   "metadata": {},
   "outputs": [
    {
     "name": "stdout",
     "output_type": "stream",
     "text": [
      "\n",
      "Velocità 10.0 m/s \n",
      "\n"
     ]
    }
   ],
   "source": [
    "velocità = 36 # Velocità in km/h.\n",
    "v = velocità / 3.6 # Velocità in m/s.\n",
    "print()\n",
    "print('Velocità', v, 'm/s', '\\n')"
   ]
  },
  {
   "cell_type": "code",
   "execution_count": 66,
   "metadata": {},
   "outputs": [
    {
     "name": "stdout",
     "output_type": "stream",
     "text": [
      "\n",
      "Spazio di reazione 3.0 m\n"
     ]
    }
   ],
   "source": [
    "Dt = 0.3 # Tempo di reazione in ms.\n",
    "Dx = v * Dt # Spazio di reazione.\n",
    "print()\n",
    "print('Spazio di reazione', Dx, 'm')"
   ]
  },
  {
   "cell_type": "markdown",
   "metadata": {},
   "source": [
    "### Calcoli in modalità interattiva"
   ]
  },
  {
   "cell_type": "code",
   "execution_count": 67,
   "metadata": {},
   "outputs": [
    {
     "name": "stdout",
     "output_type": "stream",
     "text": [
      "\n",
      "Velocità 10.0 m/s \n",
      "\n",
      "Spazio di reazione 3.0 m\n",
      "\n"
     ]
    },
    {
     "data": {
      "text/plain": [
       "<function __main__.funzione(Dt, velocità)>"
      ]
     },
     "execution_count": 67,
     "metadata": {},
     "output_type": "execute_result"
    }
   ],
   "source": [
    "import ipywidgets as widgets\n",
    "\n",
    "\n",
    "sliderTime = widgets.FloatSlider(min = 0.2, max = 0.5, step = 0.05, value = 0.3)\n",
    "\n",
    "sliderSpeed = widgets.IntSlider(min = 0, max = 130, step = 1.0, value = 36)\n",
    "\n",
    "def funzione(Dt, velocità):\n",
    "    v = velocità / 3.6 # m/s.\n",
    "    print()\n",
    "    print('Velocità', v, 'm/s', '\\n')\n",
    "    Dx = v * Dt # Spazio di reazione.\n",
    "    print('Spazio di reazione', Dx, 'm')\n",
    "    print()\n",
    "\n",
    "widgets.interact(funzione, Dt = sliderTime, velocità = sliderSpeed)"
   ]
  },
  {
   "cell_type": "markdown",
   "metadata": {},
   "source": [
    "### Versione rifinita\n",
    "\n",
    "Si può migliorare la leggibilità dei risultati specificando un formato opportuno per la stampa ([4](https://physics.nyu.edu/pine/pymanual/html/chap4/chap4_io.html#file-input), [5](https://docs.python.org/3/library/string.html#formatspec)). In particolare, scegliamo di specificare il formato in modo da stampare la velocità con una sola cifra decimale e lo spazio di reazione con due cifre decimali."
   ]
  },
  {
   "cell_type": "code",
   "execution_count": 68,
   "metadata": {},
   "outputs": [
    {
     "name": "stdout",
     "output_type": "stream",
     "text": [
      "\n",
      "Velocità 10.0 m/s \n",
      "\n",
      "Spazio di reazione 3.00 m\n",
      "\n"
     ]
    },
    {
     "data": {
      "text/plain": [
       "<function __main__.funzione(Dt, velocità)>"
      ]
     },
     "execution_count": 68,
     "metadata": {},
     "output_type": "execute_result"
    }
   ],
   "source": [
    "import ipywidgets as widgets\n",
    "\n",
    "\n",
    "sliderTime = widgets.FloatSlider(min = 0.2, max = 0.5, step = 0.05, value = 0.3)\n",
    "\n",
    "sliderSpeed = widgets.IntSlider(min = 0, max = 130, step = 1.0, value = 36)\n",
    "\n",
    "def funzione(Dt, velocità):\n",
    "    v = velocità / 3.6 # m/s.\n",
    "    print()\n",
    "    print('Velocità {0:0.1f} m/s \\n'.format(v))\n",
    "    Dx = v * Dt # Spazio di reazione.\n",
    "    print('Spazio di reazione {0:0.02f} m'.format(Dx))\n",
    "    print()\n",
    "\n",
    "widgets.interact(funzione, Dt = sliderTime, velocità = sliderSpeed)"
   ]
  },
  {
   "cell_type": "markdown",
   "metadata": {},
   "source": [
    "## What we have learned"
   ]
  },
  {
   "cell_type": "markdown",
   "metadata": {},
   "source": [
    "## References\n",
    "\n",
    "#### Semplici calcoli con Python\n",
    "\n",
    "[Introduction to Python for Science](https://physics.nyu.edu/pine/pymanual/html/pymanMaster.html)\n",
    "\n",
    "[Engineering Computations](https://github.com/engineersCode/EngComp) (see Module 1. Get data off the ground -- Learn to interact with Python and handle data with Python.\n",
    "\n",
    "[A quick intro to numerical programming in Python](https://github.com/barbagroup/AeroPython) (see Module 0. Quick Python Intro).\n",
    "\n",
    "\n",
    "#### Widgets\n",
    "\n",
    "[Jupyter Widgets documentation](https://ipywidgets.readthedocs.io/en/latest/)\n",
    "\n",
    "\n",
    "### Recommended readings"
   ]
  }
 ],
 "metadata": {
  "kernelspec": {
   "display_name": "Python 3",
   "language": "python",
   "name": "python3"
  },
  "language_info": {
   "codemirror_mode": {
    "name": "ipython",
    "version": 3
   },
   "file_extension": ".py",
   "mimetype": "text/x-python",
   "name": "python",
   "nbconvert_exporter": "python",
   "pygments_lexer": "ipython3",
   "version": "3.7.6"
  }
 },
 "nbformat": 4,
 "nbformat_minor": 4
}
