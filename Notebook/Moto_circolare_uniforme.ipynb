{
 "cells": [
  {
   "cell_type": "markdown",
   "metadata": {},
   "source": [
    "###### Content under Creative Commons Attribution License CC BY 4.0, code under BSD 3 - Clause License © 2020 Andrea Mandanici, Marco Guarnera, Giuseppe Mandaglio, Giovanni Pirrotta.\n",
    "\n",
    "# Moto circolare uniforme\n",
    "\n",
    "&nbsp;\n",
    "\n",
    "Consideriamo un punto che si muove lungo una circonferenza con velocità costante (**moto circolare uniforme**).\n",
    "\n",
    "* Data la velocità di rotazione in giri al minuto (**rpm**), supponiamo $ 60 $ **giri/min**, calcolare:\n",
    "\n",
    "    * La frequenza di rotazione, espressa in giri al secondo, ovvero in **hertz**.\n",
    "\n",
    "    * Il periodo di rotazione, espresso in secondi.\n",
    "\n",
    "* Calcolare la **velocità angolare** di rotazione ed esprimerla in:\n",
    "\n",
    "    * Gradi al secondo.\n",
    "\n",
    "    * Radianti al secondo.\n",
    "\n",
    "* Data la misura del raggio, supponiamo $ 0.5 m $, calcolare la **velocità scalare**, espressa in $ m/s $.\n",
    "\n",
    "* Calcolare il modulo dell'**accelerazione centripeta**, espresso in $ m/s^2 $.\n",
    "\n",
    "<div id = \"immagine\">\n",
    "\n",
    "<img src = \"Immagini/Moto_circolare_uniforme_01.jpg\" alt = \"Immagine\">\n",
    "\n",
    "</div>\n",
    "\n",
    "### Discussione del problema???\n",
    "\n",
    "##### Velocità di rotazione\n",
    "\n",
    "La velocità di rotazione di un motore in molti casi viene espressa in giri al minuto, come è possibile vedere sugli strumenti di bordo delle automobili.\n",
    "\n",
    "<div id = \"immagine\">\n",
    "\n",
    "<img src = \"Immagini/Moto_circolare_uniforme_02.jpg\" alt = \"Immagine\">\n",
    "\n",
    "</div>\n",
    "\n",
    "##### Frequenza\n",
    "\n",
    "Per esprimere la **frequenza di rotazione** in giri al secondo, considerando che:\n",
    "\n",
    "<div id = \"colorbox\">\n",
    "\n",
    "1 <strong> min </strong> = 60 <strong> s </strong>\n",
    "\n",
    "</div>\n",
    "\n",
    "Si ha:\n",
    "\n",
    "<div id = \"colorbox\">\n",
    "\n",
    "frequenza di rotazione (<b> giri/s </b>) = [velocità di rotazione (<b> rpm </b>)] / 60\n",
    "\n",
    "</div>\n",
    "\n",
    "##### Periodo\n",
    "\n",
    "Il **periodo** di rotazione **T** è l'inverso della frequenza di rotazione:\n",
    "\n",
    "<div id = \"colorbox\">\n",
    "\n",
    "$$ T = \\dfrac{1}{f} $$\n",
    "\n",
    "</div>\n",
    "\n",
    "##### Velocità angolare\n",
    "\n",
    "Dalla frequenza di rotazione si può ottenere la **velocità angolare** di rotazione in gradi al secondo, considerando che un giro completo di circonferenza corrisponde ad uno spostamento angolare di 360 gradi, si ha:\n",
    "\n",
    "<div id = \"colorbox\">\n",
    "\n",
    "f (<b> giri/s </b>) &sdot; 360 (<b> deg </b>) = &omega; (<b> deg/s </b>)\n",
    "\n",
    "</div>\n",
    "\n",
    "Analogamente, considerando che un giro completo corrisponde ad un angolo di 2 $ \\pi $ radianti, si ha:\n",
    "\n",
    "<div id = \"colorbox\">\n",
    "\n",
    "f (<b> giri/s </b>) &sdot; 2 &pi; (<b> rad </b>) = &omega; (<b> rad/s </b>)\n",
    "\n",
    "</div>\n",
    "\n",
    "##### Velocità scalare\n",
    "\n",
    "La velocità con cui si muove il punto materiale lungo la traiettoria circolare è legata alla velocità angolare, espressa in **rad/s**, tramite la relazione:\n",
    "\n",
    "<div id = \"colorbox\">\n",
    "\n",
    "v = &omega; &sdot; r\n",
    "\n",
    "</div>\n",
    "\n",
    "Dove r è la misura del raggio della circonferenza. Se r è espresso in metri, dall'equazione si ottiene la velocità scalare espressa in m/s.\n",
    "\n",
    "##### Accelerazione centripeta\n",
    "\n",
    "Se il punto materiale si muove lungo la circonferenza con velocità costante (**moto circolare uniforme**), l'accelerazione ha direzione radiale ed è orientata verso il centro della circonferenza. Il modulo dell'accelerazione centripeta si può calcolare come:\n",
    "\n",
    "<div id = \"colorbox\">\n",
    "\n",
    "a <sub> c </sub> = v <sup> 2 </sup> / r\n",
    "\n",
    "</div>\n",
    "\n",
    "Oppure come:\n",
    "\n",
    "<div id = \"colorbox\">\n",
    "\n",
    "a <sub> c </sub> = &omega; <sup> 2 </sup> &sdot; r\n",
    "\n",
    "</div>\n",
    "\n",
    "### Calcoli con il Python"
   ]
  },
  {
   "cell_type": "code",
   "execution_count": 25,
   "metadata": {},
   "outputs": [
    {
     "data": {
      "text/markdown": [
       "### Risultati delle operazioni in testo Markdown"
      ],
      "text/plain": [
       "<IPython.core.display.Markdown object>"
      ]
     },
     "metadata": {},
     "output_type": "display_data"
    },
    {
     "name": "stdout",
     "output_type": "stream",
     "text": [
      "\n"
     ]
    },
    {
     "data": {
      "text/markdown": [
       "**Velocità di rotazione** <br> *v_rpm* = 60 rpm"
      ],
      "text/plain": [
       "<IPython.core.display.Markdown object>"
      ]
     },
     "metadata": {},
     "output_type": "display_data"
    },
    {
     "data": {
      "text/markdown": [
       "**Raggio** <br> *r* = 0.5 m"
      ],
      "text/plain": [
       "<IPython.core.display.Markdown object>"
      ]
     },
     "metadata": {},
     "output_type": "display_data"
    },
    {
     "data": {
      "text/markdown": [
       "**Frequenza di rotazione** <br> *f* = 1.0 Hz"
      ],
      "text/plain": [
       "<IPython.core.display.Markdown object>"
      ]
     },
     "metadata": {},
     "output_type": "display_data"
    },
    {
     "data": {
      "text/markdown": [
       "**Periodo di rotazione** <br> *T* = 1.0 s"
      ],
      "text/plain": [
       "<IPython.core.display.Markdown object>"
      ]
     },
     "metadata": {},
     "output_type": "display_data"
    },
    {
     "data": {
      "text/markdown": [
       "**Velocità angolare** <br> &omega; = 6.283185307179586 rad/s"
      ],
      "text/plain": [
       "<IPython.core.display.Markdown object>"
      ]
     },
     "metadata": {},
     "output_type": "display_data"
    },
    {
     "data": {
      "text/markdown": [
       "**Velocità angolare** <br> &omega; = 360.0 gradi/s"
      ],
      "text/plain": [
       "<IPython.core.display.Markdown object>"
      ]
     },
     "metadata": {},
     "output_type": "display_data"
    },
    {
     "data": {
      "text/markdown": [
       "**Velocità lineare**?? <br> v = 3.141592653589793 m/s"
      ],
      "text/plain": [
       "<IPython.core.display.Markdown object>"
      ]
     },
     "metadata": {},
     "output_type": "display_data"
    },
    {
     "data": {
      "text/markdown": [
       "**Accelerazione centripeta** <br> a = 19.739208802178716 m/s <sup> 2 </sup>"
      ],
      "text/plain": [
       "<IPython.core.display.Markdown object>"
      ]
     },
     "metadata": {},
     "output_type": "display_data"
    },
    {
     "name": "stdout",
     "output_type": "stream",
     "text": [
      "\n"
     ]
    },
    {
     "data": {
      "text/markdown": [
       "### Risultati delle operazioni in una tabella Markdown"
      ],
      "text/plain": [
       "<IPython.core.display.Markdown object>"
      ]
     },
     "metadata": {},
     "output_type": "display_data"
    },
    {
     "name": "stdout",
     "output_type": "stream",
     "text": [
      "\n"
     ]
    },
    {
     "data": {
      "text/markdown": [
       "\n",
       "| Variabile???             | Simbolo | Valore       | Unità di misura |\n",
       "| :----------------------- | :------ | :----------- | :-------------- |\n",
       "| Velocità di rotazione    | v rpm   | 60        | rpm             |\n",
       "| Raggio                   | r       | 0.5        | m               |\n",
       "| Frequenza di rotazione   | f       | 1.000 | Hz              |\n",
       "| Periodo di rotazione     | T       | 1.000  | s               |\n",
       "| Velocità angolare        | &omega; | 6.283  | rad/s           |\n",
       "| Velocità angolare        | &omega; | 360.000   | gradi/s         |\n",
       "| Velocità lineare??       | v       | 3.142 | m/s             |\n",
       "| Accelerazione centripeta | a       | 19.739 | m/s^2           |\n"
      ],
      "text/plain": [
       "<IPython.core.display.Markdown object>"
      ]
     },
     "metadata": {},
     "output_type": "display_data"
    },
    {
     "name": "stdout",
     "output_type": "stream",
     "text": [
      "\n"
     ]
    },
    {
     "data": {
      "text/markdown": [
       "### Risultati delle operazioni in una tabella HTML"
      ],
      "text/plain": [
       "<IPython.core.display.Markdown object>"
      ]
     },
     "metadata": {},
     "output_type": "display_data"
    },
    {
     "name": "stdout",
     "output_type": "stream",
     "text": [
      "\n"
     ]
    },
    {
     "data": {
      "text/markdown": [
       "<table> <tbody><tr> <td> Velocità di rotazione </td> <td></td> <td>60</td> <td>rpm</td></tr> <tr> <td>Raggio</td> <td>r</td> <td>0.5</td> <td>m</td> </tr><td> Frequenza di rotazione </td> <td> f </td> <td>1.0</td> <td>Hz</td> </tr><td> Periodo di rotazione </td> <td> T </td> <td>1.0</td> <td>s</td> </tr><td> Velocità angolare </td> <td> &omega; </td> <td>6.283185307179586</td> <td>rad/s</td> </tr><td> Velocità angolare </td> <td> &omega; </td> <td>360.0</td> <td>gradi/s</td> </tr><td> Velocità lineare </td> <td> v </td> <td>3.141592653589793</td> <td>m/s</td> </tr><td> Accelerazione centripeta </td> <td> </td> <td>19.739208802178716</td> <td>m/s <sup> 2 </sup></td> </tr></tbody> </table>"
      ],
      "text/plain": [
       "<IPython.core.display.Markdown object>"
      ]
     },
     "metadata": {},
     "output_type": "display_data"
    }
   ],
   "source": [
    "# Utilizzato per importare la libreria adoperata per incorporare e visualizzare il Markdown con il Python.\n",
    "from IPython.display import display, Markdown # ??\n",
    "# Utilizzato per importare la libreria adoperata per funzioni matematiche.\n",
    "import numpy as np\n",
    "\n",
    "\n",
    "# Funzione.??\n",
    "def printmd(string):\n",
    "    display(Markdown(string))\n",
    "\n",
    "\n",
    "v_rpm = 60 # Velocità di rotazione in rpm.\n",
    "r = 0.5 # Raggio in m.\n",
    "f = v_rpm / 60 # Frequenza di rotazione in Hz.\n",
    "T = 1 / f # Periodo di rotazione in s.\n",
    "wr = 2 * np.pi * f # Velocità angolare in rad/s.\n",
    "wg = 360 * f # Velocità angolare in gradi/s.\n",
    "v = wr * r # Velocità scalare in m/s.\n",
    "a = wr**2 * r # Accelerazione centripeta in m/s^2.\n",
    "\n",
    "\n",
    "# Utilizzato per visualizzare i risultati delle operazioni in testo Markdown.\n",
    "printmd(\"### Risultati delle operazioni in testo Markdown\")\n",
    "print()\n",
    "printmd(\"**Velocità di rotazione** <br> *v_rpm* = \" + str(v_rpm) + \" rpm\")\n",
    "printmd(\"**Raggio** <br> *r* = \" + str(r) + \" m\")\n",
    "printmd(\"**Frequenza di rotazione** <br> *f* = \" + str(f) + \" Hz\")\n",
    "printmd(\"**Periodo di rotazione** <br> *T* = \" + str(T) + \" s\")\n",
    "printmd(\"**Velocità angolare** <br> &omega; = \" + str(wr) + \" rad/s\")\n",
    "printmd(\"**Velocità angolare** <br> &omega; = \" + str(wg) + \" gradi/s\")\n",
    "printmd(\"**Velocità lineare**?? <br> v = \" + str(v) + \" m/s\")\n",
    "printmd(\"**Accelerazione centripeta** <br> a = \" + str(a) + \" m/s <sup> 2 </sup>\")\n",
    "\n",
    "print()\n",
    "\n",
    "# Utilizzato per visualizzare i risultati delle operazioni in una tabella Markdown.\n",
    "printmd(\"### Risultati delle operazioni in una tabella Markdown\")\n",
    "print()\n",
    "printmd(\n",
    "\"\"\"\n",
    "| Variabile???             | Simbolo | Valore       | Unità di misura |\n",
    "| :----------------------- | :------ | :----------- | :-------------- |\n",
    "| Velocità di rotazione    | v rpm   | {one}        | rpm             |\n",
    "| Raggio                   | r       | {two}        | m               |\n",
    "| Frequenza di rotazione   | f       | {three:0.3f} | Hz              |\n",
    "| Periodo di rotazione     | T       | {four:0.3f}  | s               |\n",
    "| Velocità angolare        | &omega; | {five:0.3f}  | rad/s           |\n",
    "| Velocità angolare        | &omega; | {six:0.3f}   | gradi/s         |\n",
    "| Velocità lineare??       | v       | {seven:0.3f} | m/s             |\n",
    "| Accelerazione centripeta | a       | {eight:0.3f} | m/s^2           |\n",
    "\"\"\".format(one = v_rpm, two = r, three = f, four = T, five = wr, six = wg, seven = v, eight = a))\n",
    "\n",
    "print()\n",
    "\n",
    "# Utilizzato per visualizzare i risultati delle operazioni in una tabella HTML.\n",
    "printmd(\"### Risultati delle operazioni in una tabella HTML\")\n",
    "myResults = \"<table> <tbody>\" + \\\n",
    "\"<tr> <td> Velocità di rotazione </td> <td>\" + \"</td> <td>\" + str(v_rpm) + \"</td> <td>\" + \"rpm\" + \"</td>\" + \\\n",
    "\"</tr> <tr> <td>\" + \"Raggio\" + \"</td> <td>\" + \"r\" + \"</td> <td>\" + str(r) + \"</td> <td>\" + \"m\" + \"</td> </tr>\" + \\\n",
    "\"<td> Frequenza di rotazione </td> <td> f </td> <td>\" + str(f) + \"</td> <td>\" + \"Hz\" + \"</td> </tr>\" + \\\n",
    "\"<td> Periodo di rotazione </td> <td> T </td> <td>\" + str(T) + \"</td> <td>\" + \"s\" + \"</td> </tr>\" + \\\n",
    "\"<td> Velocità angolare </td> <td> &omega; </td> <td>\" + str(wr) + \"</td> <td>\" + \"rad/s\" + \"</td> </tr>\" + \\\n",
    "\"<td> Velocità angolare </td> <td> &omega; </td> <td>\" + str(wg) + \"</td> <td>\" + \"gradi/s\" + \"</td> </tr>\" + \\\n",
    "\"<td> Velocità lineare </td> <td> v </td> <td>\" + str(v) + \"</td> <td>\" + \"m/s\" + \"</td> </tr>\" + \\\n",
    "\"<td> Accelerazione centripeta </td> <td> </td> <td>\" + str(a) + \"</td> <td>\" + \"m/s <sup> 2 </sup>\" + \"</td> </tr>\" + \\\n",
    "\"</tbody> </table>\"\n",
    "\n",
    "print()\n",
    "printmd(myResults)"
   ]
  },
  {
   "cell_type": "markdown",
   "metadata": {},
   "source": [
    "&nbsp;\n",
    "\n",
    "> Per eseguire il codice Python contenuto in questo **notebook** Jupyter, anche se Python e Jupyter non sono installati sulla macchina che stai adoperando, puoi utilizzare l'ambiente [**binder**](https://mybinder.org) online.\n",
    "\n",
    "[![Binder](https://mybinder.org/badge_logo.svg)](https://mybinder.org/v2/gh/Darkaquon/Physics-with-Open-Source-Software/master?filepath=%2FNotebook%2FMoto_circolare_uniforme.ipynb)\n",
    "\n",
    "&nbsp;\n",
    "\n",
    "### Get a feel of\n",
    "\n",
    "Un punto materiale si muove di moto circolare uniforme su una circonferenza di raggio $ r = 2~m $.\n",
    "\n",
    "* Quanto deve valere la frequenza di rotazione per ottenere un'accelerazione centripeta di $ 9.8~m/s^2 $ (cioè uguale in modulo all'accelerazione di gravità)?\n",
    "\n",
    "* Quanto vale la velocità scalare?\n",
    "\n",
    "Dall'eq. $ a_c = \\omega^2 r $ si ricava:\n",
    "\n",
    "<div id = \"colorbox\">\n",
    "\n",
    "$$ \\omega = \\sqrt{\\dfrac{a_c}{r}} $$\n",
    "\n",
    "</div>\n",
    "\n",
    "Ed essendo $ f = \\dfrac{\\omega}{2\\pi} $ si ha:\n",
    "\n",
    "<div id = \"colorbox\">\n",
    "\n",
    "$$ f = \\dfrac{1}{2\\pi} \\sqrt{\\dfrac{a_c}{r}} $$\n",
    "\n",
    "</div>\n",
    "\n",
    "Ed infine:\n",
    "\n",
    "<div id = \"colorbox\">\n",
    "\n",
    "$$ f_{rpm} = 60 \\dfrac{1}{2\\pi} \\sqrt{\\dfrac{a_c}{r}} $$\n",
    "\n",
    "</div>\n",
    "\n",
    "La velocità scalare è:\n",
    "\n",
    "<div id = \"colorbox\">\n",
    "\n",
    "$$ v = \\omega r = r \\sqrt{\\dfrac{a_c}{r}} = \\sqrt{a_c r} $$\n",
    "\n",
    "</div>\n",
    "\n",
    "### Script Python"
   ]
  },
  {
   "cell_type": "code",
   "execution_count": 26,
   "metadata": {},
   "outputs": [
    {
     "name": "stdout",
     "output_type": "stream",
     "text": [
      "\n"
     ]
    },
    {
     "data": {
      "text/markdown": [
       "Required **velocità di rotazione** *f* <sub> rpm </sub> = 21.138 rpm"
      ],
      "text/plain": [
       "<IPython.core.display.Markdown object>"
      ]
     },
     "metadata": {},
     "output_type": "display_data"
    },
    {
     "data": {
      "text/markdown": [
       "**Velocità lineare** *v* = 4.427 m/s = 15.938 km/h"
      ],
      "text/plain": [
       "<IPython.core.display.Markdown object>"
      ]
     },
     "metadata": {},
     "output_type": "display_data"
    }
   ],
   "source": [
    "a = 9.8 # Accelerazione di gravità in m/s^2.\n",
    "r = 2 # Raggio in m.\n",
    "\n",
    "f_rpm = 30 * np.sqrt(a / r) / np.pi #???\n",
    "v = np.sqrt(a * r) #???\n",
    "\n",
    "#???\n",
    "print()\n",
    "display(Markdown(\"Required **velocità di rotazione** *f* <sub> rpm </sub> = {rotspeed:0.3f} rpm\".format(rotspeed = f_rpm)))\n",
    "display(Markdown(\"**Velocità lineare** *v* = {linearspeed:0.3f} m/s = {speedkmh:0.3f} km/h\".format(linearspeed = v, speedkmh = v * 3.6)))"
   ]
  },
  {
   "cell_type": "markdown",
   "metadata": {},
   "source": [
    "### What we have learned\n",
    "\n",
    "*Python*\n",
    "\n",
    "* Format text of Markdown cells in Jupyter notebooks.\n",
    "\n",
    "* Visualizzare i risultati in uno script Python come testo e tabelle Markdown.\n",
    "\n",
    "*Fisica*\n",
    "\n",
    "* Velocità di rotazione, frequenza di rotazione.\n",
    "\n",
    "* Relazione tra velocità scalare e velocità angolare.\n",
    "\n",
    "* Accelerazione nel moto circolare.\n",
    "\n",
    "### References and notes???\n",
    "\n",
    "##### Jupyter\n",
    "\n",
    "##### Format text in Jupyter notebook with Markdown\n",
    "\n",
    "1. [Markdown in Jupyter notebooks](https://www.earthdatascience.org/courses/intro-to-earth-data-science/file-formats/use-text-files/format-text-with-markdown-jupyter-notebook/)\n",
    "\n",
    "    * [Colored boxes](https://medium.com/analytics-vidhya/the-ultimate-markdown-guide-for-jupyter-notebook-d5e5abf728fd)\n",
    "\n",
    "    * Text alignment\n",
    "\n",
    "    * [Greek letters and symbols in HTML](https://www.htmlhelp.com/reference/html40/entities/symbols.html)\n",
    "\n",
    "    * [Subscripts](https://developer.mozilla.org/en-US/docs/Web/HTML/Element/sub)\n",
    "\n",
    "    * [Superscript tags](https://www.geeksforgeeks.org/html-subscript-superscript-tags/)\n",
    "\n",
    "    * New line in the same paragraph with ``` <br/> ```\n",
    "\n",
    "    * [Tables in Markdown](https://www.pluralsight.com/guides/working-tables-github-markdown)\n",
    "\n",
    "2. Prova\n",
    "\n",
    "    * Output the results of Python code as Markdown text:\n",
    "\n",
    "        * [1](https://discourse.jupyter.org/t/how-to-add-markdown-inside-a-function-to-pretty-print-equation/2719), [2](https://stackoverflow.com/questions/36288670/how-to-programmatically-generate-markdown-output-in-jupyter-notebooks), [3](https://stackoverflow.com/questions/52812231/print-variable-in-jupyter-notebook-markdown-cell-python), [4](https://github.com/ipython-contrib/jupyter_contrib_nbextensions), [5](https://jupyter-contrib-nbextensions.readthedocs.io/en/latest/nbextensions/python-markdown/readme.html)\n",
    "\n",
    "    * Output the results of Python code as a Table:\n",
    "        * [6](https://www.datacamp.com/community/tutorials/markdown-in-jupyter-notebook), [7](https://medium.com/analytics-vidhya/the-ultimate-markdown-guide-for-jupyter-notebook-d5e5abf728fd)\n",
    "\n",
    "### Grafica notebook"
   ]
  },
  {
   "cell_type": "code",
   "execution_count": 27,
   "metadata": {},
   "outputs": [
    {
     "data": {
      "text/html": [
       "/* File CSS */\n",
       "\n",
       "/* File utilizzato per modificare la visualizzazione del notebook. */\n",
       "\n",
       "<style>\n",
       "\n",
       "@font-face {\n",
       "    font-family: \"Computer Modern\";\n",
       "    src: url(\"http://mirrors.ctan.org/fonts/cm-unicode/fonts/otf/cmunss.otf\");\n",
       "}\n",
       "\n",
       "/* Utilizzato per creare un box colorato. */\n",
       "#colorbox {\n",
       "    background-color: #cfc;\n",
       "    padding: 10px;\n",
       "    border: 1px solid green;\n",
       "    margin-top: 10px;\n",
       "}\n",
       "\n",
       "#immagine {\n",
       "    margin-top: 10px;\n",
       "}\n",
       "\n",
       "/* Main background. */\n",
       "#notebook_panel {\n",
       "    background: rgb(245, 245, 245);\n",
       "}\n",
       "\n",
       "/* Utilizzato per impostare la larghezza delle celle. */\n",
       "div.cell {\n",
       "    width: 800px;\n",
       "}\n",
       "\n",
       "/* Utilizzato per centrare il materiale del notebook. */\n",
       "div #notebook {\n",
       "    background: #fff;\n",
       "    width: 1000px;\n",
       "    margin: auto;\n",
       "    padding-left: 0em;\n",
       "}\n",
       "\n",
       "/* Utilizzato per modificare lo spazio tra gli elementi di una lista. */\n",
       "#notebook li {\n",
       "    margin-top: 0.5em;\n",
       "}\n",
       "\n",
       "/* Utilizzato per disegnare un bordo attorno alle celle in esecuzione. */\n",
       "div.cell.border-box-sizing.code_cell.running {\n",
       "    border: 1px solid #111;\n",
       "}\n",
       "\n",
       "/* Utilizzato per creare un box intorno alle celle e agli outputs per collegarli visivamente. */\n",
       "div.cell.code_cell {\n",
       "    background-color: rgb(256, 256, 256);\n",
       "    border-radius: 0px;\n",
       "    padding: 0.5em;\n",
       "    margin-left: 1em;\n",
       "    margin-top: 1em;\n",
       "}\n",
       "\n",
       "/* Utilizzato per modificare la visualizzazione delle celle di testo */\n",
       "div.text_cell_render {\n",
       "    font-family: \"Source Sans Pro\", sans-serif;\n",
       "    line-height: 140%;\n",
       "    font-size: 110%;\n",
       "    width: 680px;\n",
       "    margin-left: auto;\n",
       "    margin-right: auto;\n",
       "}\n",
       "\n",
       "/* Utilizzato per modificare le intestazioni. */\n",
       "\n",
       ".text_cell_render h1 {\n",
       "    font-family: \"Merriweather\", serif;\n",
       "    font-style: regular;\n",
       "    font-weight: bold;\n",
       "    font-size: 250%;\n",
       "    line-height: 100%;\n",
       "    color: #004065;\n",
       "    margin-bottom: 1em;\n",
       "    margin-top: 0.5em;\n",
       "    display: block;\n",
       "}\n",
       "\n",
       ".text_cell_render h2 {\n",
       "    font-family: \"Merriweather\", serif;\n",
       "    font-weight: bold;\n",
       "    font-size: 180%;\n",
       "    line-height: 100%;\n",
       "    color: #0096d6;\n",
       "    margin-bottom: 0.5em;\n",
       "    margin-top: 0.5em;\n",
       "    display: block;\n",
       "}\n",
       "\n",
       ".text_cell_render h3 {\n",
       "    font-family: \"Merriweather\", serif;\n",
       "\tfont-size: 150%;\n",
       "    margin-top: 12px;\n",
       "    margin-bottom: 3px;\n",
       "    font-style: regular;\n",
       "    color: #008367;\n",
       "}\n",
       "\n",
       "/* Da utilizzare per le didascalie. */\n",
       ".text_cell_render h4 {\n",
       "    font-family: \"Merriweather\", serif;\n",
       "    font-weight: 300;\n",
       "    font-size: 100%;\n",
       "    line-height: 120%;\n",
       "    text-align: left;\n",
       "    width: 500px;\n",
       "    margin-top: 1em;\n",
       "    margin-bottom: 2em;\n",
       "    margin-left: 80pt;\n",
       "    font-style: regular;\n",
       "}\n",
       "\n",
       "/* Da utilizzare per i titoli piÃ¹ piccoli. */\n",
       ".text_cell_render h5 {\n",
       "    font-family: \"Source Sans Pro\", sans-serif;\n",
       "    font-weight: regular;\n",
       "    font-size: 130%;\n",
       "    color: #e31937;\n",
       "    font-style: italic;\n",
       "    margin-bottom: .5em;\n",
       "    margin-top: 1em;\n",
       "    display: block;\n",
       "}\n",
       "\n",
       "/* Da utilizzare per le note, ad esempio i copyright. */\n",
       ".text_cell_render h6 {\n",
       "    font-family: \"Source Code Pro\", sans-serif;\n",
       "    font-weight: 300;\n",
       "    font-size: 9pt;\n",
       "    line-height: 100%;\n",
       "    color: grey;\n",
       "    margin-bottom: 1px;\n",
       "    margin-top: 1px;\n",
       "}\n",
       "\n",
       ".CodeMirror {\n",
       "    font-family: \"Source Code Pro\";\n",
       "\tfont-size: 90%;\n",
       "}\n",
       "\n",
       "/*\n",
       "\n",
       ".prompt {\n",
       "    display: None;\n",
       "}\n",
       "\n",
       "*/\n",
       "\n",
       ".warning {\n",
       "    color: rgb(240, 20, 20)\n",
       "}\n",
       "\n",
       "</style>"
      ],
      "text/plain": [
       "<IPython.core.display.HTML object>"
      ]
     },
     "execution_count": 27,
     "metadata": {},
     "output_type": "execute_result"
    }
   ],
   "source": [
    "# Utilizzato per importare la libreria adoperata per incorporare e visualizzare l'HTML con il Python.\n",
    "from IPython.core.display import HTML\n",
    "\n",
    "\n",
    "# Utilizzato per aprire e leggere il file CSS adoperato per modificare la visualizzazione del notebook.\n",
    "css_file = \"Notebook.css\"\n",
    "HTML(open(css_file, \"r\").read())"
   ]
  }
 ],
 "metadata": {
  "kernelspec": {
   "display_name": "Python 3",
   "language": "python",
   "name": "python3"
  },
  "language_info": {
   "codemirror_mode": {
    "name": "ipython",
    "version": 3
   },
   "file_extension": ".py",
   "mimetype": "text/x-python",
   "name": "python",
   "nbconvert_exporter": "python",
   "pygments_lexer": "ipython3",
   "version": "3.7.6"
  }
 },
 "nbformat": 4,
 "nbformat_minor": 4
}
