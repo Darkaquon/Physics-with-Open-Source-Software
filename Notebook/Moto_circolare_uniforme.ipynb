{
 "cells": [
  {
   "cell_type": "markdown",
   "metadata": {},
   "source": [
    "# Moto circolare uniforme\n",
    "\n",
    "Consideriamo un punto che si muove lungo una circonferenza con velocità costante (**moto circolare uniforme**).\n",
    "\n",
    "* Data la velocità di rotazione in giri al minuto (**rpm**), supponiamo 60 **giri/min**, calcolare:\n",
    "\n",
    "    * La frequenza di rotazione, espressa in giri al secondo, ovvero in **hertz**.\n",
    "\n",
    "    * Il periodo di rotazione, espresso in secondi.\n",
    "\n",
    "* Calcolare la **velocità angolare** di rotazione ed esprimerla in:\n",
    "\n",
    "    * Gradi al secondo.\n",
    "\n",
    "    * Radianti al secondo.\n",
    "\n",
    "![](./Immagini/Moto_circolare_uniforme_01.jpg)\n",
    "\n",
    "* Data la misura del raggio, supponiamo 0.5 m, calcolare la **velocità scalare**, espressa in $ m/s $.\n",
    "\n",
    "* Calcolare il modulo dell'**accelerazione centripeta**, espresso in $ m/s^2 $.\n",
    "\n",
    "### Discussione del problema\n",
    "\n",
    "##### Velocità di rotazione\n",
    "\n",
    "La velocità di rotazione di un motore in molti casi viene espressa in giri al minuto, come è possibile vedere sugli strumenti di bordo delle automobili.\n",
    "\n",
    "![](./Immagini/Moto_circolare_uniforme_02.jpg)\n",
    "\n",
    "##### Frequenza\n",
    "\n",
    "Per esprimere la **frequenza di rotazione** in giri al secondo, considerando che:\n",
    "\n",
    "<div id = \"colorbox\">\n",
    "\n",
    "    1 <strong> min </strong> = 60 <strong> s </strong>\n",
    "\n",
    "</div>\n",
    "\n",
    "Si ha:\n",
    "\n",
    "<div id = \"colorbox\">\n",
    "\n",
    "    frequenza di rotazione (<b> giri/s </b>) = [velocità di rotazione (<b> rpm </b>)] / 60\n",
    "\n",
    "</div>\n",
    "\n",
    "##### Periodo\n",
    "\n",
    "Il **periodo** di rotazione **T** è l'inverso della frequenza di rotazione:\n",
    "\n",
    "<div id = \"colorbox\">\n",
    "\n",
    "        T = 1 / f\n",
    "\n",
    "</div>\n",
    "\n",
    "##### Velocità angolare\n",
    "\n",
    "Dalla frequenza di rotazione si può ottenere la **velocità angolare** di rotazione in gradi al secondo, considerando che un giro completo di circonferenza corrisponde ad uno spostamento angolare di 360 gradi, si ha:\n",
    "\n",
    "<div id = \"colorbox\">\n",
    "\n",
    "        f (<b> giri/s </b>) &sdot; 360 (<b> deg </b>) = &omega; (<b> deg/s </b>)\n",
    "\n",
    "</div>\n",
    "\n",
    "Analogamente, considerando che un giro completo corrisponde ad un angolo di 2 $ \\pi $ radianti, si ha:\n",
    "\n",
    "<div id = \"colorbox\">\n",
    "\n",
    "        f (<b> giri/s </b>) &sdot; 2 &pi; (<b> rad </b>) = &omega; (<b> rad/s </b>)\n",
    "\n",
    "</div>\n",
    "\n",
    "##### Velocità scalare\n",
    "\n",
    "La velocità con cui si muove il punto materiale lungo la traiettoria circolare è legata alla velocità angolare, espressa in **rad/s**, tramite la relazione:\n",
    "\n",
    "<div id = \"colorbox\">\n",
    "\n",
    "   v = &omega; &sdot; r\n",
    "\n",
    "</div>\n",
    "\n",
    "Dove r è la misura del raggio della circonferenza. Se r è espresso in metri, dall'equazione si ottiene la velocità scalare espressa in m/s.\n",
    "\n",
    "##### Accelerazione centripeta\n",
    "\n",
    "Se il punto materiale si muove lungo la circonferenza con velocità costante (**moto circolare uniforme**), l'accelerazione ha direzione radiale ed è orientata verso il centro della circonferenza. Il modulo dell'accelerazione centripeta si può calcolare come:\n",
    "\n",
    "<div id = \"colorbox\">\n",
    "\n",
    "    a <sub> c </sub> = v <sup> 2 </sup> / r\n",
    "\n",
    "</div>\n",
    "\n",
    "Oppure come:\n",
    "\n",
    "<div id = \"colorbox\">\n",
    "\n",
    "    a <sub> c </sub> = &omega; <sup> 2 </sup> &sdot; r\n",
    "\n",
    "</div>\n",
    "\n",
    "### Calcoli con il Python"
   ]
  },
  {
   "cell_type": "code",
   "execution_count": 1,
   "metadata": {},
   "outputs": [
    {
     "data": {
      "text/markdown": [
       "#### Results as Markdown text"
      ],
      "text/plain": [
       "<IPython.core.display.Markdown object>"
      ]
     },
     "metadata": {},
     "output_type": "display_data"
    },
    {
     "data": {
      "text/markdown": [
       "<br> Velocità di rotazione60rpm"
      ],
      "text/plain": [
       "<IPython.core.display.Markdown object>"
      ]
     },
     "metadata": {},
     "output_type": "display_data"
    },
    {
     "data": {
      "text/markdown": [
       "Raggio <br> *r* =0.5m <br>"
      ],
      "text/plain": [
       "<IPython.core.display.Markdown object>"
      ]
     },
     "metadata": {},
     "output_type": "display_data"
    },
    {
     "data": {
      "text/markdown": [
       "<br> Frequenza <br> *f* =1.0Hz"
      ],
      "text/plain": [
       "<IPython.core.display.Markdown object>"
      ]
     },
     "metadata": {},
     "output_type": "display_data"
    },
    {
     "data": {
      "text/markdown": [
       "Periodo <br> *T* =1.0s"
      ],
      "text/plain": [
       "<IPython.core.display.Markdown object>"
      ]
     },
     "metadata": {},
     "output_type": "display_data"
    },
    {
     "data": {
      "text/markdown": [
       "Velocità angolare <br> &omega; =6.283185307179586rad/s"
      ],
      "text/plain": [
       "<IPython.core.display.Markdown object>"
      ]
     },
     "metadata": {},
     "output_type": "display_data"
    },
    {
     "data": {
      "text/markdown": [
       "Velocità angolare <br> &omega; <sub> deg </sub> =360.0deg/s"
      ],
      "text/plain": [
       "<IPython.core.display.Markdown object>"
      ]
     },
     "metadata": {},
     "output_type": "display_data"
    },
    {
     "data": {
      "text/markdown": [
       "Velocità lineare <br> v =3.141592653589793m/s"
      ],
      "text/plain": [
       "<IPython.core.display.Markdown object>"
      ]
     },
     "metadata": {},
     "output_type": "display_data"
    },
    {
     "data": {
      "text/markdown": [
       "Accelerazione <br> a <sub> c </sub> =19.739208802178716m/s <sup> 2 </sup>"
      ],
      "text/plain": [
       "<IPython.core.display.Markdown object>"
      ]
     },
     "metadata": {},
     "output_type": "display_data"
    },
    {
     "name": "stdout",
     "output_type": "stream",
     "text": [
      "\n"
     ]
    },
    {
     "data": {
      "text/markdown": [
       "#### Results as a Markdown table"
      ],
      "text/plain": [
       "<IPython.core.display.Markdown object>"
      ]
     },
     "metadata": {},
     "output_type": "display_data"
    },
    {
     "data": {
      "text/markdown": [
       "\n",
       "|Variable       |Symbol                   |Value        |Unit               |\n",
       "|-------------- |:-----------------------:|-------------|:-----------------:|\n",
       "|Rotation speed |f <sub> rpm </sub>       |60        |rpm                |\n",
       "|Radius         |r                        |0.5        |m                  |\n",
       "|Frequency      |f                        |1.000 |Hz                 |\n",
       "|Period         |T                        |1.000  |s                  |\n",
       "|Angular speed  |&omega;                  |6.283  |rad/s              |\n",
       "|Angular speed  |&omega; <sub> deg </sub> |360.000   |deg/s              |\n",
       "|Linear speed   |v                        |3.142 |m/s                |\n",
       "|Acceleration   |a <sub> c </sub>         |19.739 |m/s <sup> 2 </sup> |\n"
      ],
      "text/plain": [
       "<IPython.core.display.Markdown object>"
      ]
     },
     "metadata": {},
     "output_type": "display_data"
    },
    {
     "name": "stdout",
     "output_type": "stream",
     "text": [
      "\n"
     ]
    },
    {
     "data": {
      "text/markdown": [
       "#### Results as an HTML table"
      ],
      "text/plain": [
       "<IPython.core.display.Markdown object>"
      ]
     },
     "metadata": {},
     "output_type": "display_data"
    },
    {
     "data": {
      "text/markdown": [
       "<table> <tbody><tr> <td> Velocità di rotazione </td> <td></td> <td>60</td> <td>rpm</td></tr> <tr> <td>Raggio</td> <td>r</td> <td>0.5</td> <td>m</td> </tr><td> Frequenza </td> <td> f </td> <td>1.0</td> <td>Hz</td> </tr><td> Periodo </td> <td> T </td> <td>1.0</td> <td>s</td> </tr><td> Velocità angolare </td> <td> &omega; </td> <td>6.283185307179586</td> <td>rad/s</td> </tr><td> Velocità angolare </td> <td> &omega; <sub> deg </sub> </td> <td>360.0</td> <td>deg/s</td> </tr><td> Velocità lineare </td> <td> v </td> <td>3.141592653589793</td> <td>m/s</td> </tr><td> Accelerazione </td> <td> a <sub> c </sub> </td> <td>19.739208802178716</td> <td>m/s <sup> 2 </sup></td> </tr></tbody> </table>"
      ],
      "text/plain": [
       "<IPython.core.display.Markdown object>"
      ]
     },
     "metadata": {},
     "output_type": "display_data"
    }
   ],
   "source": [
    "# Utilizzato per\n",
    "import numpy as np\n",
    "from IPython.display import display, Markdown\n",
    "\n",
    "\n",
    "# Funzione.\n",
    "def printmd(string):\n",
    "    display(Markdown(string))\n",
    "\n",
    "\n",
    "speed_rpm = 60 # Velocità di rotazione in rpm.\n",
    "r = 0.5 # Raggio in m.\n",
    "f = speed_rpm / 60 # Frequenza di rotazione in hz.\n",
    "T = 1 / f # Periodo di rotazione in s.\n",
    "omega = 2 * np.pi * f # Velocità angolare in rad/s.\n",
    "omega_deg = 360 * f # Velocità angolare in degree/second.\n",
    "v = omega * r # Velocità scalare.\n",
    "a = omega * omega * r # Accelerazione centripeta.\n",
    "\n",
    "# Display the results as Markdown text.\n",
    "printmd(\"#### Results as Markdown text\")\n",
    "printmd(\"<br> Velocità di rotazione\" + str(speed_rpm) + \"rpm\")\n",
    "printmd(\"Raggio <br> *r* =\" + str(r) + \"m <br>\")\n",
    "printmd(\"<br> Frequenza <br> *f* =\" + str(f) + \"Hz\")\n",
    "printmd(\"Periodo <br> *T* =\" + str(T) + \"s\")\n",
    "printmd(\"Velocità angolare <br> &omega; =\" + str(omega) + \"rad/s\")\n",
    "printmd(\"Velocità angolare <br> &omega; <sub> deg </sub> =\" + str(omega_deg) + \"deg/s\")\n",
    "printmd(\"Velocità lineare <br> v =\" + str(v) + \"m/s\")\n",
    "printmd(\"Accelerazione <br> a <sub> c </sub> =\" + str(a) + \"m/s <sup> 2 </sup>\")\n",
    "\n",
    "print()\n",
    "\n",
    "# Display the results as a Markdown table.\n",
    "printmd(\"#### Results as a Markdown table\")\n",
    "printmd(\n",
    "\"\"\"\n",
    "|Variable       |Symbol                   |Value        |Unit               |\n",
    "|-------------- |:-----------------------:|-------------|:-----------------:|\n",
    "|Rotation speed |f <sub> rpm </sub>       |{one}        |rpm                |\n",
    "|Radius         |r                        |{two}        |m                  |\n",
    "|Frequency      |f                        |{three:0.3f} |Hz                 |\n",
    "|Period         |T                        |{four:0.3f}  |s                  |\n",
    "|Angular speed  |&omega;                  |{five:0.3f}  |rad/s              |\n",
    "|Angular speed  |&omega; <sub> deg </sub> |{six:0.3f}   |deg/s              |\n",
    "|Linear speed   |v                        |{seven:0.3f} |m/s                |\n",
    "|Acceleration   |a <sub> c </sub>         |{eight:0.3f} |m/s <sup> 2 </sup> |\n",
    "\"\"\".format(one = speed_rpm, two = r, three = f, four = T, five = omega, six = omega_deg, seven = v, eight = a))\n",
    "\n",
    "print()\n",
    "\n",
    "# Display the results as an HTML table.\n",
    "printmd(\"#### Results as an HTML table\")\n",
    "myResults = \"<table> <tbody>\" + \\\n",
    "\"<tr> <td> Velocità di rotazione </td> <td>\" + \"</td> <td>\" + str(speed_rpm) + \"</td> <td>\" + \"rpm\" + \"</td>\" + \\\n",
    "\"</tr> <tr> <td>\" + \"Raggio\" + \"</td> <td>\" + \"r\" + \"</td> <td>\" + str(r) + \"</td> <td>\" + \"m\" + \"</td> </tr>\" + \\\n",
    "\"<td> Frequenza </td> <td> f </td> <td>\" + str(f) + \"</td> <td>\" + \"Hz\" + \"</td> </tr>\" + \\\n",
    "\"<td> Periodo </td> <td> T </td> <td>\" + str(T) + \"</td> <td>\" + \"s\" + \"</td> </tr>\" + \\\n",
    "\"<td> Velocità angolare </td> <td> &omega; </td> <td>\" + str(omega) + \"</td> <td>\" + \"rad/s\" + \"</td> </tr>\" + \\\n",
    "\"<td> Velocità angolare </td> <td> &omega; <sub> deg </sub> </td> <td>\" + str(omega_deg) + \"</td> <td>\" + \"deg/s\" + \"</td> </tr>\" + \\\n",
    "\"<td> Velocità lineare </td> <td> v </td> <td>\" + str(v) + \"</td> <td>\" + \"m/s\" + \"</td> </tr>\" + \\\n",
    "\"<td> Accelerazione </td> <td> a <sub> c </sub> </td> <td>\" + str(a) + \"</td> <td>\" + \"m/s <sup> 2 </sup>\" + \"</td> </tr>\" + \\\n",
    "\"</tbody> </table>\"\n",
    "\n",
    "printmd(myResults)"
   ]
  },
  {
   "cell_type": "markdown",
   "metadata": {},
   "source": [
    "> Per eseguire il codice Python contenuto in questo **notebook** Jupyter, anche se Python e Jupyter non sono installati sulla macchina che stai utilizzando puoi utilizzare l'ambiente [**binder**](https://mybinder.org) online.\n",
    "\n",
    "[![Binder](https://mybinder.org/badge_logo.svg)](https://mybinder.org/v2/gh/Darkaquon/Tesi/master?filepath=Notebook%2FMoto_circolare_uniforme.ipynb)"
   ]
  },
  {
   "cell_type": "markdown",
   "metadata": {},
   "source": [
    "### Get a feeling\n",
    "\n",
    "Un punto materiale si muove di moto circolare uniforme su una circonferenza di raggio $ r = 2 m $.\n",
    "\n",
    "* Quanto deve valere la frequenza di rotazione per ottenere un'accelerazione centripeta di $ 9.8 m/s^2 $ (cioè uguale in modulo all'accelerazione di gravità)?\n",
    "\n",
    "* Quanto vale la velocità scalare?\n",
    "\n",
    "Dall'eq. $ a_c = \\omega^2 r $ si ricava:\n",
    "\n",
    "<div id = \"colorbox\">\n",
    "\n",
    "$$ \\omega = \\sqrt{\\dfrac{a_c}{r}} $$\n",
    "\n",
    "</div>\n",
    "\n",
    "ed essendo $ f = \\dfrac{\\omega}{2\\pi} $ si ha:\n",
    "\n",
    "<div id = \"colorbox\">\n",
    "\n",
    "$$ f = \\dfrac{1}{2\\pi} \\sqrt{\\dfrac{a_c}{r}} $$\n",
    "\n",
    "</div>\n",
    "\n",
    "ed infine:\n",
    "\n",
    "<div id = \"colorbox\">\n",
    "\n",
    "$$ f_{rpm} = 60 \\dfrac{1}{2\\pi} \\sqrt{\\dfrac{a_c}{r}} $$\n",
    "\n",
    "</div>\n",
    "\n",
    "La velocità scalare è:\n",
    "\n",
    "<div id = \"colorbox\">\n",
    "\n",
    "$$ v = \\omega r = r \\sqrt{\\dfrac{a_c}{r}} = \\sqrt{a_c r} $$\n",
    "\n",
    "</div>\n",
    "\n",
    "### Script Python"
   ]
  },
  {
   "cell_type": "code",
   "execution_count": 2,
   "metadata": {},
   "outputs": [
    {
     "name": "stdout",
     "output_type": "stream",
     "text": [
      "\n"
     ]
    },
    {
     "data": {
      "text/markdown": [
       "Required **rotational speed** *f* <sub> rpm </sub> = 21.138 rpm"
      ],
      "text/plain": [
       "<IPython.core.display.Markdown object>"
      ]
     },
     "metadata": {},
     "output_type": "display_data"
    },
    {
     "data": {
      "text/markdown": [
       "**Linear speed** *v* = 4.427 m/s = 15.938 km/h"
      ],
      "text/plain": [
       "<IPython.core.display.Markdown object>"
      ]
     },
     "metadata": {},
     "output_type": "display_data"
    },
    {
     "name": "stdout",
     "output_type": "stream",
     "text": [
      "\n"
     ]
    }
   ],
   "source": [
    "a = 9.8 # Accelerazione in m/s^2.\n",
    "r = 2 # Raggio in m.\n",
    "f_rpm = 30 * np.sqrt(a / r) / np.pi\n",
    "v = np.sqrt(a * r)\n",
    "print()\n",
    "display(Markdown(\"Required **rotational speed** *f* <sub> rpm </sub> = {rotspeed:0.3f} rpm\".format(rotspeed = f_rpm)))\n",
    "display(Markdown(\"**Linear speed** *v* = {linearspeed:0.3f} m/s = {speedkmh:0.3f} km/h\".format(linearspeed = v, speedkmh = v * 3.6)))\n",
    "print()"
   ]
  },
  {
   "cell_type": "markdown",
   "metadata": {},
   "source": [
    "### What we have learned\n",
    "\n",
    "*Python*\n",
    "\n",
    "* Format text of Markdown cells in Jupyter notebooks.\n",
    "\n",
    "* Display the results of Python script as Markdown text and tables.\n",
    "\n",
    "*Fisica*\n",
    "\n",
    "* Velocità di rotazione, frequenza di rotazione.\n",
    "\n",
    "* Relazione tra velocità scalare e velocità angolare.\n",
    "\n",
    "* Accelerazione nel moto circolare.\n",
    "\n",
    "### References and notes\n",
    "\n",
    "##### Jupyter\n",
    "\n",
    "##### Format text in Jupyter notebook with Markdown\n",
    "\n",
    "1. [Markdown in Jupyter notebooks](https://www.earthdatascience.org/courses/intro-to-earth-data-science/file-formats/use-text-files/format-text-with-markdown-jupyter-notebook/)\n",
    "\n",
    "    * [Colored boxes](https://medium.com/analytics-vidhya/the-ultimate-markdown-guide-for-jupyter-notebook-d5e5abf728fd)\n",
    "\n",
    "    * Text alignment\n",
    "\n",
    "    * [Greek letters and symbols in HTML](https://www.htmlhelp.com/reference/html40/entities/symbols.html)\n",
    "\n",
    "    * [Subscripts](https://developer.mozilla.org/en-US/docs/Web/HTML/Element/sub)\n",
    "\n",
    "    * [Superscript tags](https://www.geeksforgeeks.org/html-subscript-superscript-tags/)\n",
    "\n",
    "    * New line in the same paragraph with ``` <br/> ```\n",
    "\n",
    "    * [Tables in Markdown](https://www.pluralsight.com/guides/working-tables-github-markdown)\n",
    "\n",
    "2. Prova\n",
    "\n",
    "    * Output the results of Python code as Markdown text:\n",
    "\n",
    "        * [a](https://discourse.jupyter.org/t/how-to-add-markdown-inside-a-function-to-pretty-print-equation/2719), [b](https://stackoverflow.com/questions/36288670/how-to-programmatically-generate-markdown-output-in-jupyter-notebooks), [c](https://stackoverflow.com/questions/52812231/print-variable-in-jupyter-notebook-markdown-cell-python), [d](https://github.com/ipython-contrib/jupyter_contrib_nbextensions), [e](https://jupyter-contrib-nbextensions.readthedocs.io/en/latest/nbextensions/python-markdown/readme.html)\n",
    "\n",
    "    * Output the results of Python code as a Table:\n",
    "        * [f](https://www.datacamp.com/community/tutorials/markdown-in-jupyter-notebook), [g](https://medium.com/analytics-vidhya/the-ultimate-markdown-guide-for-jupyter-notebook-d5e5abf728fd)\n",
    "\n",
    "### Stile"
   ]
  },
  {
   "cell_type": "code",
   "execution_count": 3,
   "metadata": {},
   "outputs": [
    {
     "ename": "FileNotFoundError",
     "evalue": "[Errno 2] No such file or directory: '../Stile/Stile.css'",
     "output_type": "error",
     "traceback": [
      "\u001b[1;31m---------------------------------------------------------------------------\u001b[0m",
      "\u001b[1;31mFileNotFoundError\u001b[0m                         Traceback (most recent call last)",
      "\u001b[1;32m<ipython-input-3-1430e4c84fda>\u001b[0m in \u001b[0;36m<module>\u001b[1;34m\u001b[0m\n\u001b[0;32m      3\u001b[0m \u001b[1;33m\u001b[0m\u001b[0m\n\u001b[0;32m      4\u001b[0m \u001b[0mcss_file\u001b[0m \u001b[1;33m=\u001b[0m \u001b[1;34m\"../Stile/Stile.css\"\u001b[0m\u001b[1;33m\u001b[0m\u001b[1;33m\u001b[0m\u001b[0m\n\u001b[1;32m----> 5\u001b[1;33m \u001b[0mHTML\u001b[0m\u001b[1;33m(\u001b[0m\u001b[0mopen\u001b[0m\u001b[1;33m(\u001b[0m\u001b[0mcss_file\u001b[0m\u001b[1;33m,\u001b[0m \u001b[1;34m\"r\"\u001b[0m\u001b[1;33m)\u001b[0m\u001b[1;33m.\u001b[0m\u001b[0mread\u001b[0m\u001b[1;33m(\u001b[0m\u001b[1;33m)\u001b[0m\u001b[1;33m)\u001b[0m\u001b[1;33m\u001b[0m\u001b[1;33m\u001b[0m\u001b[0m\n\u001b[0m",
      "\u001b[1;31mFileNotFoundError\u001b[0m: [Errno 2] No such file or directory: '../Stile/Stile.css'"
     ]
    }
   ],
   "source": [
    "from IPython.core.display import HTML\n",
    "\n",
    "\n",
    "css_file = \"Stile.css\"\n",
    "HTML(open(css_file, \"r\").read())"
   ]
  }
 ],
 "metadata": {
  "kernelspec": {
   "display_name": "Python 3",
   "language": "python",
   "name": "python3"
  },
  "language_info": {
   "codemirror_mode": {
    "name": "ipython",
    "version": 3
   },
   "file_extension": ".py",
   "mimetype": "text/x-python",
   "name": "python",
   "nbconvert_exporter": "python",
   "pygments_lexer": "ipython3",
   "version": "3.7.6"
  }
 },
 "nbformat": 4,
 "nbformat_minor": 4
}
