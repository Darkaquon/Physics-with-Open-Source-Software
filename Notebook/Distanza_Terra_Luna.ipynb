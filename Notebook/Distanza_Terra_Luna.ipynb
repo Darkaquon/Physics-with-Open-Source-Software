{
 "cells": [
  {
   "cell_type": "markdown",
   "metadata": {},
   "source": [
    "# Distanza Terra-Luna\n",
    "\n",
    "&nbsp;\n",
    "\n",
    "La luce e le onde elettromagnetiche si propagano nel vuoto con velocità costante:\n",
    "\n",
    "$$ c = 2.99792458 \\cdot 10^{8} m/s $$\n",
    "\n",
    "Questa informazione può essere sfruttata per determinare la distanza Terra-Luna.\n",
    "\n",
    "Durante varie missioni spaziali (Apollo 11, 14, 15; Luna 21) sono stati collocati sulla superficie lunare alcuni pannelli con riflettori ad angolo di cubo (Corner Cube Retroreflector).\n",
    "\n",
    "![](Immagini/Distanza_Terra_Luna_01.jpg)\n",
    "\n",
    "![](Immagini/Distanza_Terra_Luna_02.jpg)\n",
    "\n",
    "![](Immagini/Distanza_Terra_Luna_03.jpg)\n",
    "\n",
    "Impulsi di luce laser inviati dalla Terra viaggiano fino alla superficie lunare, vengono riflessi all’indietro dai CCR e giungono a rivelatori posti nella stazione da cui gli impulsi sono stati emessi.\n",
    "\n",
    "### Quesito\n",
    "\n",
    "Calcolare la distanza Terra-Luna sapendo che il tempo necessario al viaggio di andata e ritorno di un impulso è:\n",
    "\n",
    "* 2.34 s\n",
    "* 2.71 s\n",
    "\n",
    "### Discussione dell'esempio\n",
    "\n",
    "Conoscendo la velocità di propagazione $ c $ e la durata dell'intervallo di tempo $ \\Delta t $, si può ottenere lo spazio percorso $ \\Delta x $ tramite la relazione:\n",
    "\n",
    "$$ \\Delta x = c \\cdot \\Delta t $$\n",
    "\n",
    "Lo spazio percorso $ \\Delta x $ corrisponde al viaggio di andata e ritorno dell'impulso, che è pari a due volte la distanza $ d $ tra la Terra e la Luna.\n",
    "\n",
    "$$ \\Delta x = 2 d $$\n",
    "\n",
    "La distanza Terra-Luna si ricava quindi dalla relazione:\n",
    "\n",
    "$$ d = \\dfrac{1}{2} \\Delta x = \\dfrac{1}{2} \\cdot c \\cdot \\Delta t $$\n",
    "\n",
    "### Get a feeling\n",
    "\n",
    "Per confronto, il **diametro** della Terra (considerata per semplicità come una sfera) è di 12745 km.\n",
    "\n",
    "### Calcolo con il Python"
   ]
  },
  {
   "cell_type": "code",
   "execution_count": 11,
   "metadata": {},
   "outputs": [
    {
     "name": "stdout",
     "output_type": "stream",
     "text": [
      "\n",
      "Tempo di volo = 2.34 s \n",
      "\n",
      "Distanza Terra-Luna = 350757.176 km \n",
      "\n",
      "Distanza/Earth_diameter = 27.521\n",
      "\n"
     ]
    },
    {
     "data": {
      "text/plain": [
       "<function __main__.selectTime(Dt)>"
      ]
     },
     "execution_count": 11,
     "metadata": {},
     "output_type": "execute_result"
    }
   ],
   "source": [
    "# Utilizzato per\n",
    "import ipywidgets as widgets\n",
    "\n",
    "\n",
    "c = 2.99792458e8 # Velocità di propagazione nel vuoto della luce e delle onde elettromagnetiche in m/s.\n",
    "\n",
    "# Funzione.\n",
    "def selectTime(Dt):\n",
    "    print()\n",
    "    print(\"Tempo di volo =\", Dt, \"s\", \"\\n\")\n",
    "    d = 0.5 * c * Dt / 1000\n",
    "    print(\"Distanza Terra-Luna = {0:0.3f} km \\n\".format(d))\n",
    "    print(\"Distanza/Earth_diameter = {0:0.3f}\".format(d / 12745))\n",
    "    print()\n",
    "\n",
    "# Utilizzato per\n",
    "widgets.interact(selectTime, Dt = [2.34, 2.71], label = '$ \\Delta t $')"
   ]
  },
  {
   "cell_type": "markdown",
   "metadata": {},
   "source": [
    "> Per eseguire il codice Python contenuto in questo **notebook** Jupyter, anche se Python e Jupyter non sono installati sulla macchina che stai utilizzando puoi utilizzare l'ambiente [**binder**](https://mybinder.org) online.\n",
    "\n",
    "[![Binder](https://mybinder.org/badge_logo.svg)](https://mybinder.org/v2/gh/Darkaquon/Tesi/master?filepath=Notebook%2FDistanza_Terra_Luna.ipynb)"
   ]
  },
  {
   "cell_type": "markdown",
   "metadata": {},
   "source": [
    "### What we have learned\n",
    "\n",
    "*Python*\n",
    "\n",
    "* Utilizare un widget che consente la scelta del valore di una variabile tra varie opzioni disponibili.\n",
    "\n",
    "*Fisica*\n",
    "\n",
    "* Applicazioni delle leggi del moto rettilineo uniforme.\n",
    "\n",
    "### References and notes\n",
    "\n",
    "##### Distanza Terra-Luna\n",
    "\n",
    "1. [The Apollo initiative](http://tmurphy.physics.ucsd.edu/apollo/apollo.html)\n",
    "\n",
    "2. [Earth-to-Moon distance measurement](http://tmurphy.physics.ucsd.edu/apollo/basics.html)\n",
    "\n",
    "##### Widgets\n",
    "\n",
    "3. [Ipywidgets with matplotlib](https://kapernikov.com/ipywidgets-with-matplotlib/)\n",
    "\n",
    "##### Immagini\n",
    "\n",
    "4. Le immagini sono tratte dalla pagina web [Lunar Retroreflectors](https://tmurphy.physics.ucsd.edu/apollo/lrrr.html) - University of California San Diego."
   ]
  }
 ],
 "metadata": {
  "kernelspec": {
   "display_name": "Python 3",
   "language": "python",
   "name": "python3"
  },
  "language_info": {
   "codemirror_mode": {
    "name": "ipython",
    "version": 3
   },
   "file_extension": ".py",
   "mimetype": "text/x-python",
   "name": "python",
   "nbconvert_exporter": "python",
   "pygments_lexer": "ipython3",
   "version": "3.7.6"
  }
 },
 "nbformat": 4,
 "nbformat_minor": 4
}
