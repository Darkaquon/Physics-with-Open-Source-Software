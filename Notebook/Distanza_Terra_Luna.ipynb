{
 "cells": [
  {
   "cell_type": "markdown",
   "metadata": {},
   "source": [
    "# Distanza Terra-Luna\n",
    "\n",
    "La luce e le onde elettromagnetiche si propagano nel vuoto con velocità costante:\n",
    "\n",
    "$ c = 2.99792458 \\cdot 10^{8} $ m/s.\n",
    "\n",
    "Questa informazione può essere sfruttata per determinare la distanza Terra-Luna.\n",
    "\n",
    "* Durante varie missioni spaziali (Apollo 11, 14, 15; Luna 21) sono stati collocati sulla superficie lunare alcuni pannelli con riflettori ad angolo di cubo (Corner Cube Retroreflector).\n",
    "\n",
    "![](img/moon_annotate.jpg)\n",
    "\n",
    "![](img/crn_cbe.JPG)\n",
    "\n",
    "![](img/a14.jpg)\n",
    "\n",
    "### Quesito\n",
    "\n",
    "Calcolare la distanza Terra-Luna sapendo che il tempo necessario al viaggio di andata e ritorno di un impulso è:\n",
    "\n",
    "* (a) 2.34 s\n",
    "* (b) 2.71 s\n",
    "\n",
    "### Discussione dell'esempio\n",
    "\n",
    "Conoscendo la velocità di propagazione $ c $ e la durata dell'intervallo di tempo $ \\Delta t $, si può ottenere lo spazio percorso $ \\Delta x $ tramite la relazione:\n",
    "\n",
    "$ \\Delta x = c \\cdot \\Delta t $\n",
    "\n",
    "Lo spazio percorso $ \\Delta x $ corrisponde al viaggio di andata e ritorno dell'impulso, che è pari a due volte la distanza $ d $ fra la Terra e la Luna.\n",
    "\n",
    "$ \\Delta x = 2 d $\n",
    "\n",
    "La distanza Terra-Luna si ricava quindi dalla relazione:\n",
    "\n",
    "$ d = \\dfrac{1}{2} \\Delta x = \\dfrac{1}{2} \\cdot c \\cdot \\Delta t $\n",
    "\n",
    "### Get a feeling\n",
    "\n",
    "* Per confronto, il **diametro** della Terra è di:\n",
    "\n",
    "12745 km\n",
    "\n",
    "### Calcolo con il Python"
   ]
  },
  {
   "cell_type": "code",
   "execution_count": 6,
   "metadata": {},
   "outputs": [
    {
     "name": "stdout",
     "output_type": "stream",
     "text": [
      "\n",
      "Time of flight = 2.34 s \n",
      "\n",
      "Distance Earth_to_Moon = 350757.176 km \n",
      "\n",
      "Distance/Earth_diameter = 27.521\n",
      "\n"
     ]
    },
    {
     "data": {
      "text/plain": [
       "<function __main__.selectTime(Dt)>"
      ]
     },
     "execution_count": 6,
     "metadata": {},
     "output_type": "execute_result"
    }
   ],
   "source": [
    "import ipywidgets as widgets\n",
    "\n",
    "\n",
    "c = 2.99792458e8\n",
    "\n",
    "def selectTime(Dt):\n",
    "    print()\n",
    "    print('Time of flight =', Dt, 's', '\\n')\n",
    "    d = 0.5 * c * Dt / 1000.\n",
    "    print('Distance Earth_to_Moon = {0:0.3f} km \\n'.format(d))\n",
    "    print('Distance/Earth_diameter = {0:0.3f}'.format(d / 12745))\n",
    "    print()\n",
    "\n",
    "widgets.interact(selectTime, Dt = [2.34, 2.71], label = '$\\Delta t$')"
   ]
  },
  {
   "cell_type": "markdown",
   "metadata": {},
   "source": [
    "## What we have learned\n",
    "\n",
    "* Usare un widget che consente la scelta del valore di una variabile fra varie opzioni disponibili.\n",
    "\n",
    "* Applicazioni delle leggi del moto rettilineo uniforme.\n",
    "\n",
    "## References and notes\n",
    "\n",
    "1. [The Apollo initiative](http://tmurphy.physics.ucsd.edu/apollo/apollo.html)\n",
    "2. [Earth-to-Moon distance measurement](http://tmurphy.physics.ucsd.edu/apollo/basics.html)\n",
    "3. [Using widgets in Jupyter notebooks](https://kapernikov.com/ipywidgets-with-matplotlib/)\n",
    "\n",
    "#### Images\n",
    "\n",
    "4. Le immagini sono tratte dalla pagina web [Lunar retroreflectors](https://tmurphy.physics.ucsd.edu/apollo/lrrr.html) - University of California San Diego."
   ]
  }
 ],
 "metadata": {
  "kernelspec": {
   "display_name": "Python 3",
   "language": "python",
   "name": "python3"
  },
  "language_info": {
   "codemirror_mode": {
    "name": "ipython",
    "version": 3
   },
   "file_extension": ".py",
   "mimetype": "text/x-python",
   "name": "python",
   "nbconvert_exporter": "python",
   "pygments_lexer": "ipython3",
   "version": "3.7.6"
  }
 },
 "nbformat": 4,
 "nbformat_minor": 4
}
