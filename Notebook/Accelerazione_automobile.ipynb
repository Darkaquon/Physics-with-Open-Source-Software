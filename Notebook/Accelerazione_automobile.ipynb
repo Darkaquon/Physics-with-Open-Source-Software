{
 "cells": [
  {
   "cell_type": "markdown",
   "metadata": {},
   "source": [
    "# Accelerazione di un'automobile\n",
    "\n",
    "Un certo autoveicolo con motore diesel può passare da $ 0 $ a $ 100~km/h $ in $ 10 $ secondi. Supponendo che il **moto** sia rettilineo **uniformemente accelerato** (cioè con accelerazione costante) calcolare il valore dell'accelerazione e lo spazio percorso nei primi $ 10 $ secondi per raggiungere la velocità di $ 100~km/h $.\n",
    "\n",
    "### Discussione del problema\n",
    "\n",
    "##### Calcolo dell'accelerazione\n",
    "\n",
    "Supponiamo che il moto si svolga lungo un'asse $ x $ orizzontale, con origine $ O $ nella posizione iniziale dell'automobile, che immaginiamo per semplicità come un oggetto puntiforme.\n",
    "\n",
    "Se l'automobile si muove con accelerazione costante, per la definizione di accelerazione si ha:\n",
    "\n",
    "<div id = \"colorbox\">\n",
    "\n",
    "$$ a = \\dfrac{v - v_0}{t - t_0} $$\n",
    "\n",
    "</div>\n",
    "\n",
    "In questo caso, per calcolare l'accelerazione in $ m/s^2 $ occorre prima convertire il valore della velocità finale da $ km/h $ a $ m/s $.\n",
    "\n",
    "##### Calcolo dello spazio percorso\n",
    "\n",
    "Nel moto unidimensionale con accelerazione costante si ha:\n",
    "\n",
    "<div id = \"colorbox\">\n",
    "\n",
    "$$ x = x_0 + v_0 \\cdot (t - t_0) + \\dfrac{1}{2} \\cdot a \\cdot (t - t_0)^2 $$\n",
    "\n",
    "</div>\n",
    "\n",
    "Per $ x_0 = 0 $ e $ v_0 = 0 $, l'equazione che esprime $ x $ in funzione del tempo $ t $ (**legge oraria**) diventa:\n",
    "\n",
    "<div id = \"colorbox\">\n",
    "\n",
    "$$ x = \\dfrac{1}{2} \\cdot a \\cdot (t - t_0)^2 $$\n",
    "\n",
    "</div>\n",
    "\n",
    "Sostituendo il valore di $ a $ ottenuto nella prima parte del problema, si può ricavare il valore di $ x $, che corrisponde allo spazio percorso durante i primi $ (t - t_0) $ secondi.\n",
    "\n",
    "Con il calcolo simbolico si ottiene:\n",
    "\n",
    "<div id = \"colorbox\">\n",
    "\n",
    "$$ x = \\dfrac{1}{2} \\cdot \\dfrac{v - v_0}{t - t_0} \\cdot (t - t_0)^2 = \\dfrac{1}{2} \\cdot (v - v_0) \\cdot (t - t_0) $$\n",
    "\n",
    "</div>\n",
    "\n",
    "In questo problema $ x $ rappresenta la distanza che bisogna percorrere con accelerazione costante $ a $ per arrivare alla velocità di 100 km/h.\n",
    "\n",
    "### Calcoli con il Python\n",
    "\n",
    "Per calcolare l'accelerazione e lo spazio percorso utilizziamo le equazioni che abbiamo ricavato. Poichè il tempo necessario per andare da 0 a 100 km/h dipende dal tipo di veicolo che consideriamo, utilizziamo uno **slider** in modo da poter assegnare valori diversi alla variabile che rappresenta il tempo e stimare di conseguenza i risultati corrispondenti."
   ]
  },
  {
   "cell_type": "code",
   "execution_count": 1,
   "metadata": {},
   "outputs": [
    {
     "name": "stdout",
     "output_type": "stream",
     "text": [
      "\n",
      "Accelerazione 2.778 m/s^2 \n",
      "\n",
      "Spazio percorso nei primi 10.00 secondi = 138.889 m\n",
      "\n"
     ]
    },
    {
     "data": {
      "text/plain": [
       "<function __main__.funzione(Dt)>"
      ]
     },
     "execution_count": 1,
     "metadata": {},
     "output_type": "execute_result"
    }
   ],
   "source": [
    "# Utilizzato per\n",
    "import ipywidgets as widgets\n",
    "\n",
    "\n",
    "v = 100 / 3.6 # Velocità finale in m/s.\n",
    "v0 = 0 # Velocità iniziale in m/s.\n",
    "\n",
    "# Utilizzato per\n",
    "sliderDt = (widgets.FloatSlider(min = 0, max = 20, step = 0.1, value = 10, description = 'Tempo (s)')) # Tempo in s.\n",
    "\n",
    "# Funzione.\n",
    "def funzione(Dt):\n",
    "    a = (v - v0) / Dt # Accelerazione in m/s^2.\n",
    "    print()\n",
    "    print(\"Accelerazione {0:0.3f} m/s^2 \\n\".format(a))\n",
    "    Dx = 0.5 * (v - v0) * Dt # Spazio percorso in m.\n",
    "    print(\"Spazio percorso nei primi {0:0.2f} secondi = {1:0.3f} m\".format(Dt, Dx))\n",
    "    print()\n",
    "\n",
    "# Utilizzato per\n",
    "widgets.interact(funzione, Dt = sliderDt)"
   ]
  },
  {
   "cell_type": "markdown",
   "metadata": {},
   "source": [
    "> Per eseguire il codice Python contenuto in questo **notebook** Jupyter, anche se Python e Jupyter non sono installati sulla macchina che stai utilizzando puoi utilizzare l'ambiente [**binder**](https://mybinder.org) online.\n",
    "\n",
    "[![Binder](https://mybinder.org/badge_logo.svg)](https://mybinder.org/v2/gh/Darkaquon/Tesi/master?filepath=Notebook%2FAccelerazione_automobile.ipynb)"
   ]
  },
  {
   "cell_type": "markdown",
   "metadata": {},
   "source": [
    "Car & model                             | Time 0 to 100 km/h | Source\n",
    "--------------------------------------- | ------------------ | ------\n",
    "Tesla model 3                           | 3.4 s              | [Tesla](https://www.tesla.com/it_it/model3)\n",
    "Renault Kadjar dCi 115 cv Sport Edition | 11.7 s             | [automoto.it](https://www.automoto.it/catalogo/renault/kadjar/dci-8v-115cv-sport-edition/132970/amp)\n",
    "Toyota 1.5 Hybrid VVT-i                 | 9.7 s              | [Toyota](https://www.toyota.it/)\n",
    "Fiat Bravo 1.6 Multijet 16V 105 CV      | 11.2 s             | [Al volante](https://www.alvolante.it/)\n",
    "Porsche Taycan Turbo S                  | 2.8 s              | [Porsche](https://www.porsche.com/italy/models/taycan/taycan-models/taycan-turbo-s/)"
   ]
  },
  {
   "cell_type": "markdown",
   "metadata": {},
   "source": [
    "### Get a feeling\n",
    "\n",
    "Confrontare il valore dell'accelerazione $ a $ con il valore dell'accelerazione che caratterizza la caduta libera, cioè l'accelerazione di gravità.\n",
    "\n",
    "### What we have learned\n",
    "\n",
    "*Python*\n",
    "\n",
    "* Widgets.\n",
    "\n",
    "* Tabella contenente link.\n",
    "\n",
    "*Fisica*\n",
    "\n",
    "* Utilizzare le equazioni del moto con accelerazione costante.\n",
    "\n",
    "* Stimare il valore dell'accelerazione in un tipo di fenomeno che riguarda la vita quotidiana\n",
    "\n",
    "### References and notes\n",
    "\n",
    "##### Equazioni del moto uniformemente accelerato\n",
    "\n",
    "### Stile"
   ]
  },
  {
   "cell_type": "code",
   "execution_count": 2,
   "metadata": {},
   "outputs": [
    {
     "ename": "FileNotFoundError",
     "evalue": "[Errno 2] No such file or directory: '../Stile/Stile.css'",
     "output_type": "error",
     "traceback": [
      "\u001b[1;31m---------------------------------------------------------------------------\u001b[0m",
      "\u001b[1;31mFileNotFoundError\u001b[0m                         Traceback (most recent call last)",
      "\u001b[1;32m<ipython-input-2-1430e4c84fda>\u001b[0m in \u001b[0;36m<module>\u001b[1;34m\u001b[0m\n\u001b[0;32m      3\u001b[0m \u001b[1;33m\u001b[0m\u001b[0m\n\u001b[0;32m      4\u001b[0m \u001b[0mcss_file\u001b[0m \u001b[1;33m=\u001b[0m \u001b[1;34m\"../Stile/Stile.css\"\u001b[0m\u001b[1;33m\u001b[0m\u001b[1;33m\u001b[0m\u001b[0m\n\u001b[1;32m----> 5\u001b[1;33m \u001b[0mHTML\u001b[0m\u001b[1;33m(\u001b[0m\u001b[0mopen\u001b[0m\u001b[1;33m(\u001b[0m\u001b[0mcss_file\u001b[0m\u001b[1;33m,\u001b[0m \u001b[1;34m\"r\"\u001b[0m\u001b[1;33m)\u001b[0m\u001b[1;33m.\u001b[0m\u001b[0mread\u001b[0m\u001b[1;33m(\u001b[0m\u001b[1;33m)\u001b[0m\u001b[1;33m)\u001b[0m\u001b[1;33m\u001b[0m\u001b[1;33m\u001b[0m\u001b[0m\n\u001b[0m",
      "\u001b[1;31mFileNotFoundError\u001b[0m: [Errno 2] No such file or directory: '../Stile/Stile.css'"
     ]
    }
   ],
   "source": [
    "from IPython.core.display import HTML\n",
    "\n",
    "\n",
    "css_file = \"Stile.css\"\n",
    "HTML(open(css_file, \"r\").read())"
   ]
  }
 ],
 "metadata": {
  "kernelspec": {
   "display_name": "Python 3",
   "language": "python",
   "name": "python3"
  },
  "language_info": {
   "codemirror_mode": {
    "name": "ipython",
    "version": 3
   },
   "file_extension": ".py",
   "mimetype": "text/x-python",
   "name": "python",
   "nbconvert_exporter": "python",
   "pygments_lexer": "ipython3",
   "version": "3.7.6"
  }
 },
 "nbformat": 4,
 "nbformat_minor": 4
}
