{
 "cells": [
  {
   "cell_type": "markdown",
   "metadata": {},
   "source": [
    "# Caduta libera\n",
    "\n",
    "Un corpo, inizialmente fermo ad una quota $ h $ rispetto al suolo, viene lasciato cadere sotto l'azione della forza di gravità esercitata dalla Terra.\n",
    "\n",
    "Se si può trascurare la resistenza dell'aria tutti i corpi cadono muovendosi con accelerazione costante:\n",
    "\n",
    "$$ g \\simeq 9.81 m/s^2 \\hspace{0.5 cm} \\textsf{accelerazione di gravità} $$\n",
    "\n",
    "Si possono stimare:\n",
    "\n",
    "* Il **tempo di caduta**, cioè il tempo necessario a raggiungere il suolo.\n",
    "* La **velocità** di arrivo al suolo."
   ]
  },
  {
   "cell_type": "code",
   "execution_count": 49,
   "metadata": {},
   "outputs": [
    {
     "name": "stdout",
     "output_type": "stream",
     "text": [
      "\n"
     ]
    },
    {
     "data": {
      "text/html": [
       "<video src=\"./Video/Caduta_libera.mp4\" controls  width=\"500\"  height=\"500\">\n",
       "      Your browser does not support the <code>video</code> element.\n",
       "    </video>"
      ],
      "text/plain": [
       "<IPython.core.display.Video object>"
      ]
     },
     "execution_count": 49,
     "metadata": {},
     "output_type": "execute_result"
    }
   ],
   "source": [
    "# Utilizzato per\n",
    "from IPython.display import Video\n",
    "\n",
    "\n",
    "print()\n",
    "Video(\"./Video/Caduta_libera.mp4\", height = 500, width = 500)"
   ]
  },
  {
   "cell_type": "markdown",
   "metadata": {},
   "source": [
    "### Discussione del problema\n",
    "\n",
    "##### Tempo di caduta\n",
    "\n",
    "Supponiamo per semplicità che il corpo sia puntiforme. Se il corpo si muove lungo un asse $ x $ con accelerazione costante $ a $ (**moto uniformemente accelerato**), la coordinata $ x $ dipende dal tempo $ t $ tramite la relazione:\n",
    "\n",
    "$$ x = x_0 + v_0 \\cdot t + \\dfrac{1}{2} \\cdot a \\cdot t^2 $$\n",
    "\n",
    "In questo caso scegliamo l'asse $ x $ diretto verticalmente e orientato verso il basso. Scegliamo l'origine $ O $ nella posizione iniziale del corpo: si avrà così $ x_0 = 0 $. Inoltre $ v_0 = 0 $ perchè il corpo ha velocità iniziale nulla.\n",
    "\n",
    "Risulta quindi:\n",
    "\n",
    "$$ x = \\dfrac{1}{2} \\cdot a \\cdot t^2 $$\n",
    "\n",
    "Si sostituisce ad $ a $ il valore dell'accelerazione di gravità. Nell'equazione per $ x(t) $ si considera il **tempo di caduta**, la distanza percorsa è uguale alla distanza iniziale, $ h $, tra l'oggetto e il suolo. Quindi per il tempo di caduta vale la relazione:\n",
    "\n",
    "$$ h = \\dfrac{1}{2} \\cdot g \\cdot t^2 \\hspace{0.5 cm} \\textsf{da cui} \\hspace{0.5 cm} t = \\sqrt{\\dfrac{2 h}{g}} $$\n",
    "\n",
    "##### Velocità di impatto al suolo\n",
    "\n",
    "Nel moto con accelerazione costante la velocità varia secondo la relazione:\n",
    "\n",
    "$$ v = v_0 + a \\cdot t $$\n",
    "\n",
    "Che in questo caso diventa:\n",
    "\n",
    "$$ v = g \\cdot t $$\n",
    "\n",
    "Se per $ t $ si considera il tempo di caduta, si ottiene da questa equazione la velocità di arrivo al suolo.\n",
    "\n",
    "Risolvendo con il calcolo simbolico, si ottiene:\n",
    "\n",
    "$$ v = g \\cdot \\sqrt{\\dfrac{2 h}{g}} = \\sqrt{2 \\cdot g \\cdot h} $$\n",
    "\n",
    "##### In alternativa\n",
    "\n",
    "Dalle due equazioni del moto con accelerazione costante:\n",
    "\n",
    "$$ x = x_0 + v_0 \\cdot t + \\dfrac{1}{2} \\cdot a \\cdot t^2 \\hspace{0.5 cm} \\textsf{e} \\hspace{0.5 cm} v = v_0 + a \\cdot t $$\n",
    "\n",
    "Si ricava la legge che esprime la velocità in funzione della posizione:\n",
    "\n",
    "$$ v^2 = v_0^2 + 2 a (x - x_0) $$\n",
    "\n",
    "Che in questo caso diventa:\n",
    "\n",
    "$$ v^2 = 2 g (x - x_0) $$\n",
    "\n",
    "Per $ x - x_0 = h $ si ha quindi la velocità di impatto al suolo $ v^2 = 2 g h $ da cui infine:\n",
    "\n",
    "$$ v = \\sqrt{2 g h} $$\n",
    "\n",
    "### Calcoli con il Python\n",
    "\n",
    "Utilizziamo le equazioni che permettono di calcolare il tempo di caduta e la velocità di impatto conoscendo la quota iniziale.\n",
    "\n",
    "Inseriamo uno **slider** per consentire di effettuare il calcolo in corrispondenza a valori diversi della quota iniziale, in un intervallo che va da 0 a 10 metri, a passi di 10 cm, ovvero 0.1 m.\n",
    "\n",
    "I risultati del calcolo vengono visualizzati stampando solo tre cifre decimali."
   ]
  },
  {
   "cell_type": "code",
   "execution_count": 50,
   "metadata": {},
   "outputs": [
    {
     "name": "stdout",
     "output_type": "stream",
     "text": [
      "\n",
      "Tempo di volo = 0.452 s \n",
      "\n",
      "Velocità di impatto = 4.429 m/s = 15.946 km/h\n",
      "\n"
     ]
    },
    {
     "data": {
      "text/plain": [
       "<function __main__.funzione(h)>"
      ]
     },
     "execution_count": 50,
     "metadata": {},
     "output_type": "execute_result"
    }
   ],
   "source": [
    "# Utilizzato per\n",
    "import ipywidgets as widgets\n",
    "\n",
    "\n",
    "g = 9.81 # Accelerazione di gravità in m/s^2.\n",
    "\n",
    "# Utilizzato per\n",
    "sliderDistance = (widgets.FloatSlider(min = 0, max = 10, step = 0.1, value = 1, description = \"Quota $ h $ (m)\")) # Altezza in m.\n",
    "\n",
    "# Funzione.\n",
    "def funzione(h):\n",
    "    Dt = (2 * h / g) ** 0.5 # Tempo di volo in s.\n",
    "    print()\n",
    "    print(\"Tempo di volo = {0:0.3f} s \\n\".format(Dt))\n",
    "    v = (2 * g * h) ** 0.5\n",
    "    print(\"Velocità di impatto = {0:0.3f} m/s = {1:0.3f} km/h\".format(v, v * 3.6))\n",
    "    print()\n",
    "\n",
    "# Utilizzato per\n",
    "widgets.interact(funzione, h = sliderDistance)"
   ]
  },
  {
   "cell_type": "markdown",
   "metadata": {},
   "source": [
    "> Per eseguire il codice Python contenuto in questo **notebook** Jupyter, anche se Python e Jupyter non sono installati sulla macchina che stai utilizzando puoi utilizzare l'ambiente [**binder**](https://mybinder.org) online.\n",
    "\n",
    "[![Binder](https://mybinder.org/badge_logo.svg)](https://mybinder.org/v2/gh/Darkaquon/Tesi/master?filepath=Notebook%2FCaduta_libera.ipynb)"
   ]
  },
  {
   "cell_type": "markdown",
   "metadata": {},
   "source": [
    "### What we have learned\n",
    "\n",
    "*Python*\n",
    "\n",
    "* Importare e riprodurre un video all'interno di un notebook Jupyter.\n",
    "\n",
    "*Fisica*\n",
    "\n",
    "* Stimare il tempo di caduta e la velocità di impatto al suolo in un fenomeno di caduta libera utilizzando le leggi del moto con accelerazione costante.\n",
    "\n",
    "### References and notes\n",
    "\n",
    "##### Video\n",
    "\n",
    "1. Il video originale **Caduta_libera.mp4** è stato realizzato con uno smartphone Samsung 9 in modalità *rallentatore*, 30 fps, con risoluzione 1920 x 1080p e convertito a 400 x 710p con Active Presenter.\n",
    "\n",
    "##### Video editing\n",
    "\n",
    "2. [How to trim a video](https://www.windowscentral.com/how-trim-video-using-photos-windows-10)\n",
    "\n",
    "3. [Creating videos](https://www.windowscentral.com/how-start-using-photos-video-editor-windows-10)\n",
    "\n",
    "##### Video in un notebook Jupyter\n",
    "\n",
    "4. [Catch things in motion](https://nbviewer.jupyter.org/github/engineersCode/EngComp3_tourdynamics/blob/master/notebooks_en/1_Catch_Motion.ipynb) [From the course Engineering Computations].\n",
    "\n",
    "5. The *class* [IPython.display.video](https://ipython.readthedocs.io/en/stable/api/generated/IPython.display.html) [See in particular the **embed** parameter]."
   ]
  },
  {
   "cell_type": "code",
   "execution_count": null,
   "metadata": {},
   "outputs": [],
   "source": [
    "from IPython.core.display import HTML\n",
    "\n",
    "\n",
    "css_file = \"C:/Users/Darka/Desktop/Tesi/Notebook/Nuova cartella/Stile/Stile.css\"\n",
    "HTML(open(css_file).read())"
   ]
  }
 ],
 "metadata": {
  "kernelspec": {
   "display_name": "Python 3",
   "language": "python",
   "name": "python3"
  },
  "language_info": {
   "codemirror_mode": {
    "name": "ipython",
    "version": 3
   },
   "file_extension": ".py",
   "mimetype": "text/x-python",
   "name": "python",
   "nbconvert_exporter": "python",
   "pygments_lexer": "ipython3",
   "version": "3.7.6"
  }
 },
 "nbformat": 4,
 "nbformat_minor": 4
}
