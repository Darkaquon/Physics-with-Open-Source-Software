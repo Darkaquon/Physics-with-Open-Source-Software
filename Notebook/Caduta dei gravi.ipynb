{
 "cells": [
  {
   "cell_type": "code",
   "execution_count": 3,
   "metadata": {},
   "outputs": [
    {
     "name": "stdout",
     "output_type": "stream",
     "text": [
      "4.428690551393267 m/s\n"
     ]
    },
    {
     "data": {
      "text/plain": [
       "<function __main__.velocità(h)>"
      ]
     },
     "execution_count": 3,
     "metadata": {},
     "output_type": "execute_result"
    }
   ],
   "source": [
    "import ipywidgets as widgets\n",
    "from ipywidgets import interact, interactive, fixed, interact_manual\n",
    "import numpy as np\n",
    "\n",
    "\n",
    "# h = 1 # m.\n",
    "g = 9.80665 # m/s^2.\n",
    "\n",
    "# Tempo di caduta in funzione dell'altezza iniziale.\n",
    "# Funzione tempo.\n",
    "def tempo(h):\n",
    "    t = np.sqrt((2 * h) / g)\n",
    "    print(t, 's')\n",
    "\n",
    "# Velocità di arrivo al suolo.\n",
    "# Funzione velocità.\n",
    "def velocità(h):\n",
    "    v = np.sqrt(2 * g * h)\n",
    "    print(v, 'm/s')\n",
    "\n",
    "print('Inserire il valore in m')\n",
    "interact(tempo, h = widgets.FloatText(value=1, description='Altezza h:'))\n",
    "print('Inserire il valore in m')\n",
    "interact(velocità, h = widgets.FloatText(value=1, description='Altezza h:'))"
   ]
  }
 ],
 "metadata": {
  "kernelspec": {
   "display_name": "Python 3",
   "language": "python",
   "name": "python3"
  },
  "language_info": {
   "codemirror_mode": {
    "name": "ipython",
    "version": 3
   },
   "file_extension": ".py",
   "mimetype": "text/x-python",
   "name": "python",
   "nbconvert_exporter": "python",
   "pygments_lexer": "ipython3",
   "version": "3.7.6"
  }
 },
 "nbformat": 4,
 "nbformat_minor": 4
}
