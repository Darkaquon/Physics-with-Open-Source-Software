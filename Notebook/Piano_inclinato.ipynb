{
 "cells": [
  {
   "cell_type": "markdown",
   "metadata": {},
   "source": [
    "# Moto lungo un piano inclinato\n",
    "\n",
    "## Esperimento sul moto 1D e analisi dati\n",
    "\n",
    "Il moto di un corpo lungo un piano inclinato può essere studiato come esempio di **moto in una dimensione**. Obiettivo di questo esempio è quello di studiare la posizione, la velocità e l'accelerazione in funzione del tempo.\n",
    "\n",
    "<div id = \"immagine\">\n",
    "\n",
    "<img src = \"Immagini/Inclinato_01.jpg\" alt = \"Immagine\">\n",
    "\n",
    "</div>\n",
    "\n",
    "### Descrizione\n",
    "\n",
    "L'oggetto che si muove lungo il piano inclinato può essere descritto come un punto materiale che si muove lungo una retta. La posizione del punto materiale può essere individuata tramite la coordinata $ x $, il cui valore corrisponde in questo caso alla distanza tra l'oggetto ed un sensore situato all'inizio della pista.\n",
    "\n",
    "<div id = \"immagine\">\n",
    "\n",
    "<img src = \"Immagini/Inclinato_02.jpg\" alt = \"Immagine\">\n",
    "\n",
    "</div>\n",
    "\n",
    "In particolare, utilizziamo un **sensore ultrasonico** di distanza **HC-SR04** che viene alimentato e controllato tramite una scheda [**Raspberry Pi**](https://www.raspberrypi.org/) (Raspberry Pi3 model B).\n",
    "\n",
    "<div id = \"immagine\">\n",
    "\n",
    "<img src = \"Immagini/Inclinato_03.jpg\" alt = \"Immagine\">\n",
    "\n",
    "</div>\n",
    "\n",
    "Semplici codici Python permettono di:\n",
    "\n",
    "* Registrare i valori di distanza tra il sensore fisso ed il veicolo in movimento.\n",
    "\n",
    "* E contemporaneamente misurare il tempo trascorso da un certo istante iniziale.\n",
    "\n",
    "I collegamenti del sensore alla scheda Raspberry Pi ed i codici Python per effettuare le misure sono descritti nel riferimento [1. Physics Education 2020](https://iopscience.iop.org/article/10.1088/1361-6552/ab73d2) (v. anche Supplementary Information)\n",
    "\n",
    "### Outline dell'attività\n",
    "\n",
    "1. **Effettuare un esperimento** registrando i valori della distanza sensore-oggetto durante il moto lungo il piano inclinato. Lo script Python permette di memorizzare i dati in un file di testo **distance-table.csv** organizzato nel modo seguente:\n",
    "\n",
    "| Tempo (s)             | Distanza (m)        |\n",
    "| :-------------------- | :------------------ |\n",
    "| 6.300999302766286e-06 | 0.04921078322613539 |\n",
    "| 0.20044025799870724   | 0.04400026829147464 |\n",
    "\n",
    "2. Ottenere una **rappresentazione grafica** dei dati.\n",
    "\n",
    "3. **Elaborare i dati** per ottenere i valori di velocità in funzione del tempo.\n",
    "\n",
    "4. Rappresentare graficamente l'andamento della velocità in funzione del tempo.\n",
    "\n",
    "5. Calcolare i valori dell'accelerazione in funzione del tempo e mostrare l'andamento in un grafico.\n",
    "\n",
    "6. Analizzare i dati di velocità:\n",
    "\n",
    "    * Scegliendo un intervallo di tempo nel quale l'andamento della velocità in funzione del tempo è lineare\n",
    "    \n",
    "    * e trovando i parametri della retta che si adatta meglio ai dati sperimentali.\n",
    "    \n",
    "        * La pendenza della retta fornisce il valore dell'accelerazione in tale intervallo di tempo.\n",
    "\n",
    "7. Valutare i risultati ottenuti riportando in un'unica figura i grafici di: coordinata $ x $, velocità e accelerazione.\n",
    "\n",
    "8. Confrontare il valore stimato dell'accelerazione con il valore calcolato utilizzando un **modello fisico**.\n",
    "\n",
    "Altri dettagli sui codici Python e sull'analisi dati sono forniti nel notebook Viaggio in ascensore.\n",
    "\n",
    "### 1. Esperimento\n",
    "\n",
    "Predisponiamo un piano inclinato ed un oggetto che possa essere lasciato muovere lungo il piano inclinato.\n",
    "\n",
    "Cerchiamo di svolgere l'esperimento in modo che le **condizioni** siano **ripetibili**.\n",
    "\n",
    "Una grandezza che caratterizza le condizioni in cui viene svolto l'esperimento è la misura dell'**angolo** che il piano inclinato forma con la direzione orizzontale.\n",
    "Si può misurare agevolmente questo angolo installando sullo smartphone l'applicazione [phyphox](https://phyphox.org/). Tra i menù disponibili, sotto la voce **Strumenti** scegliere **Inclinazione** (misura l'angolo d'inclinazione del telefono). Premere il tasto **play** per iniziare la misura.\n",
    "\n",
    "<div id = \"immagine\">\n",
    "\n",
    "<img src = \"Immagini/Phyphox.png\" alt = \"Immagine\">\n",
    "\n",
    "</div>\n",
    "\n",
    "Si manda in esecuzione sulla Raspberry Pi il codice **distance_recorder.py** e si lascia che l'oggetto si muova lungo il piano inclinato, mentre i valori di distanza vengono misurati e memorizzati in un array. Lo script Python produce il file **distance_table.csv** in cui sono riportati i dati di tempo e distanza.\n",
    "\n",
    "### 2. Rappresentazione grafica dei dati\n",
    "\n",
    "Con il seguente codice leggiamo i dati contenuti nel file **distance-table.csv** e riportiamo in grafico la distanza sensore - oggetto in funzione del tempo trascorso da un certo istante iniziale."
   ]
  },
  {
   "cell_type": "code",
   "execution_count": 14,
   "metadata": {},
   "outputs": [
    {
     "data": {
      "image/png": "[encoded data removed]",
      "text/plain": [
       "<Figure size 1080x1080 with 1 Axes>"
      ]
     },
     "metadata": {
      "needs_background": "light"
     },
     "output_type": "display_data"
    }
   ],
   "source": [
    "# Utilizzato per importare la libreria adoperata per funzioni matematiche.\n",
    "import numpy as np\n",
    "# Utilizzato per importare la libreria adoperata per rappresentare graficamente le grandezze.\n",
    "import matplotlib.pyplot as plt\n",
    "\n",
    "\n",
    "# Utilizzato per importare i dati da un file in una variabile.\n",
    "inputDataFile = \"Dati/distance-table.csv\"\n",
    "\n",
    "# Utilizzato per leggere i dati dalla variabile.\n",
    "t, x = np.loadtxt(inputDataFile, delimiter = \",\", unpack = True)\n",
    "\n",
    "# Utilizzato per il grafico.\n",
    "# Utilizzato per numerare il grafico e dimensionarlo.\n",
    "plt.figure(1, figsize = (15, 15))\n",
    "# Utilizzato per il titolo.\n",
    "plt.title(\"Distanza sensore - oggetto in funzione del tempo\", fontdict = {\"fontsize\": 15}, pad = 10)\n",
    "# Utilizzato per rappresentare x e y e per colorare la curva.\n",
    "plt.plot(t, x, \"o\", color = \"#0075E2\", markersize = 5)\n",
    "# Utilizzato per la x.\n",
    "plt.xlabel(\"Tempo $ (s) $\", fontsize = 10)\n",
    "# Utilizzato per la y.\n",
    "plt.ylabel(\"Distanza $ (m) $\", fontsize = 10)\n",
    "# Utilizzato per avere gli assi con la stessa scala.\n",
    "#plt.gca().set_aspect(\"equal\", adjustable = \"box\")\n",
    "# Utilizzato per la griglia.\n",
    "plt.grid(True)\n",
    "# Utilizzato per mostrare il grafico.\n",
    "plt.show()"
   ]
  },
  {
   "cell_type": "markdown",
   "metadata": {},
   "source": [
    "### 3. Calcolare la velocità\n",
    "\n",
    "Per calcolare la velocità consideriamo gli spostamenti $ \\Delta x $ e la durata degli intervalli di tempo $ \\Delta t $ tra due misure successive. La velocità media riferita ad ogni intervallo di tempo viene calcolata come:\n",
    "\n",
    "<div id = \"colorbox\">\n",
    "\n",
    "$$ v = \\dfrac{\\Delta x}{\\Delta t} $$\n",
    "\n",
    "</div>\n",
    "\n",
    "Tale valore di velocità media viene riferito ad un tempo $ t' $ ottenuto come valore medio del tempo nell'intervallo $ \\Delta t $ considerato. I dati calcolati vengono memorizzati in un file **Incline-Speed.csv**."
   ]
  },
  {
   "cell_type": "code",
   "execution_count": 15,
   "metadata": {},
   "outputs": [],
   "source": [
    "# Utilizzato per importare il file in una variabile.\n",
    "speedDataFile = \"Dati/Incline-Speed.csv\"\n",
    "\n",
    "# Utilizzato per impostare il numero di cifre decimali nella stampa dei dati su file.\n",
    "np.set_printoptions(precision = 20)\n",
    "# Utilizzato per calcolare delta t.\n",
    "delta_t = np.diff(t)\n",
    "# Utilizzato per calcolare delta x.\n",
    "delta_x = np.diff(x)\n",
    "# Utilizzato per calcolare la velocità in m/s.\n",
    "v = delta_x / delta_t\n",
    "# Utilizzato per calcolare il valore medio in ogni intervallo di tempo.\n",
    "t_prime = t[:-1] + (delta_t / 2)\n",
    "\n",
    "# Utilizzato per salvare i dati in un file.\n",
    "np.savetxt(speedDataFile, np.column_stack((t_prime, v)))"
   ]
  },
  {
   "cell_type": "markdown",
   "metadata": {},
   "source": [
    "### 4. Grafico della velocità in funzione del tempo\n",
    "\n",
    "Abbiamo già importato in una delle celle di Notebook Jupyter di questo notebook la libreria **matplotlib**, quindi con le seguenti righe di codice possiamo utilizzare la funzione **plt.plot()** ed altre funzioni di matplolib per costruire un grafico della velocità in funzione del tempo."
   ]
  },
  {
   "cell_type": "code",
   "execution_count": 16,
   "metadata": {},
   "outputs": [
    {
     "data": {
      "image/png": "[encoded data removed]",
      "text/plain": [
       "<Figure size 1080x1080 with 1 Axes>"
      ]
     },
     "metadata": {
      "needs_background": "light"
     },
     "output_type": "display_data"
    }
   ],
   "source": [
    "# Utilizzato per il grafico.\n",
    "# Utilizzato per numerare il grafico e dimensionarlo.\n",
    "plt.figure(2, figsize = (15, 15))\n",
    "# Utilizzato per il titolo.\n",
    "plt.title(\"Velocità in funzione del tempo\", fontdict = {\"fontsize\": 15}, pad = 10)\n",
    "# Utilizzato per rappresentare x e y e per colorare la curva.\n",
    "plt.plot(t_prime, v, \"o\", color = \"#0075E2\", markersize = 5)\n",
    "# Utilizzato per la x.\n",
    "plt.xlabel(\"Tempo $ (s) $\", fontsize = 10)\n",
    "# Utilizzato per la y.\n",
    "plt.ylabel(\"Velocità $ (m/s) $\", fontsize = 10)\n",
    "# Utilizzato per avere gli assi con la stessa scala.\n",
    "#plt.gca().set_aspect(\"equal\", adjustable = \"box\")\n",
    "# Utilizzato per la griglia.\n",
    "plt.grid(True)\n",
    "# Utilizzato per mostrare il grafico.\n",
    "plt.show()"
   ]
  },
  {
   "cell_type": "markdown",
   "metadata": {},
   "source": [
    "### 5. Calcolo dell'accelerazione\n",
    "\n",
    "L'accelerazione dell'oggetto che si muove lungo il piano inclinato viene calcolata in questo esempio come accelerazione media riferita a ciascun intervallo di tempo $ \\Delta t' $.\n",
    "\n",
    "<div id = \"colorbox\">\n",
    "\n",
    "$$ a = \\dfrac{\\Delta v}{\\Delta t'} $$\n",
    "\n",
    "</div>\n",
    "\n",
    "Ciascun valore di accelerazione viene associato ad un tempo pari al valore medio del corrispondente intervallo $ \\Delta t' $. I dati vengono memorizzati in un file **Incline-Acceleration.csv**."
   ]
  },
  {
   "cell_type": "code",
   "execution_count": 17,
   "metadata": {},
   "outputs": [],
   "source": [
    "# Utilizzato per importare il file in una variabile.\n",
    "accelerationDataFile = \"Dati/Incline-Acceleration.csv\"\n",
    "\n",
    "# Utilizzato per impostare il numero di cifre decimali nella stampa dei dati su file.\n",
    "np.set_printoptions(precision = 20)\n",
    "# Utilizzato per calcolare delta t'.\n",
    "delta_t_prime = np.diff(t_prime)\n",
    "# Utilizzato per calcolare delta v.\n",
    "delta_v = np.diff(v)\n",
    "# Utilizzato per calcolare l'accelerazione in m/s^2.\n",
    "a = delta_v / delta_t_prime\n",
    "# Utilizzato per calcolare il valore medio in ogni intervallo di tempo.\n",
    "t_double_prime = t_prime[:-1] + (delta_t_prime / 2)\n",
    "\n",
    "# Utilizzato per salvare i dati in un file.\n",
    "np.savetxt(accelerationDataFile, np.column_stack((t_double_prime, a)))"
   ]
  },
  {
   "cell_type": "markdown",
   "metadata": {},
   "source": [
    "I valori così ottenuti vengono riportati in un grafico."
   ]
  },
  {
   "cell_type": "code",
   "execution_count": 18,
   "metadata": {},
   "outputs": [
    {
     "data": {
      "image/png": "[encoded data removed]",
      "text/plain": [
       "<Figure size 1080x1080 with 1 Axes>"
      ]
     },
     "metadata": {
      "needs_background": "light"
     },
     "output_type": "display_data"
    }
   ],
   "source": [
    "# Utilizzato per il grafico.\n",
    "# Utilizzato per numerare il grafico e dimensionarlo.\n",
    "plt.figure(3, figsize = (15, 15))\n",
    "# Utilizzato per il titolo.\n",
    "plt.title(\"Accelerazione in funzione del tempo\", fontdict = {\"fontsize\": 15}, pad = 10)\n",
    "# Utilizzato per rappresentare x e y e per colorare la curva.\n",
    "plt.plot(t_double_prime, a, \"o\", color = \"#0075E2\", markersize = 5, label = \"Calculated\")\n",
    "# Utilizzato per la x.\n",
    "plt.xlabel(\"Tempo $ (s) $\", fontsize = 10)\n",
    "# Utilizzato per la y.\n",
    "plt.ylabel(\"Accelerazione $ (m/s^{2} $)\", fontsize = 10)\n",
    "# Utilizzato per avere gli assi con la stessa scala.\n",
    "#plt.gca().set_aspect(\"equal\", adjustable = \"box\")\n",
    "# Legenda.\n",
    "plt.legend(loc = \"lower left\", shadow = True, fontsize = \"large\")\n",
    "# Utilizzato per la griglia.\n",
    "plt.grid(True)\n",
    "# Utilizzato per mostrare il grafico.\n",
    "plt.show()"
   ]
  },
  {
   "cell_type": "markdown",
   "metadata": {},
   "source": [
    "> Possiamo osservare che l'accelerazione assume anche valori negativi. Questi valori corrispondono all'intervallo di tempo in cui l'oggetto, dopo essersi mosso lungo tutto il piano inclinato viene rallentato bruscamente, di proposito, contro un ostacolo morbido.\n",
    "\n",
    "### 6. Analisi dei dati di velocità\n",
    "\n",
    "#### 6.1. Selezione di un sottoinsieme dei dati\n",
    "\n",
    "Il numero di coppie (tempo $ t' $, velocità $ v $) è dato dalla dimensione dell'array di numpy corrispondente."
   ]
  },
  {
   "cell_type": "code",
   "execution_count": 19,
   "metadata": {},
   "outputs": [
    {
     "data": {
      "text/plain": [
       "27"
      ]
     },
     "execution_count": 19,
     "metadata": {},
     "output_type": "execute_result"
    }
   ],
   "source": [
    "# Utilizzato per avere la dimensione dell'array.\n",
    "np.size(t_prime)"
   ]
  },
  {
   "cell_type": "markdown",
   "metadata": {},
   "source": [
    "Per poter restringere l'analisi ad un determinato intervallo di tempo utilizzamo due **marker** ciascuno dei quali corrisponde al numero progressivo del dato considerato."
   ]
  },
  {
   "cell_type": "code",
   "execution_count": 20,
   "metadata": {},
   "outputs": [
    {
     "name": "stdout",
     "output_type": "stream",
     "text": [
      "Valori consigliati: 9, 17\n",
      "Marker One = 9 - Marker Two = 17\n",
      "Time One = 1.9042753854992043 s - Time Two = 3.5076683864990628 s\n"
     ]
    },
    {
     "data": {
      "image/png": "[encoded data removed]",
      "text/plain": [
       "<Figure size 1080x1080 with 2 Axes>"
      ]
     },
     "metadata": {
      "needs_background": "light"
     },
     "output_type": "display_data"
    },
    {
     "data": {
      "text/plain": [
       "<function __main__.funzione(MarkerOne, MarkerTwo)>"
      ]
     },
     "execution_count": 20,
     "metadata": {},
     "output_type": "execute_result"
    }
   ],
   "source": [
    "# Utilizzato per importare la libreria adoperata per i widgets.\n",
    "import ipywidgets as widgets\n",
    "\n",
    "\n",
    "# Utilizzato per creare due sliders (widgets) adoperati per cambiare interattivamente il valore dei marker.\n",
    "sliderMarkerOne = widgets.IntSlider(min = 0, max = (np.size(t_prime) - 1), step = 1, value = 9, continuous_update = False)\n",
    "sliderMarkerTwo = widgets.IntSlider(min = 0, max = (np.size(t_prime) - 1), step = 1, value = 17, continuous_update = False)\n",
    "\n",
    "# Funzione.\n",
    "def funzione(MarkerOne, MarkerTwo):\n",
    "    print(\"Valori consigliati: 9, 17\")\n",
    "    print(\"Marker One =\", MarkerOne, \"-\", \"Marker Two =\", MarkerTwo)\n",
    "    # Utilizzato per il marker one.\n",
    "    MarkerOneTime = t_prime[MarkerOne]\n",
    "    # Utilizzato per il marker two.\n",
    "    MarkerTwoTime = t_prime[MarkerTwo]\n",
    "    print(\"Time One =\", MarkerOneTime, \"s\", \"-\", \"Time Two =\", MarkerTwoTime, \"s\")\n",
    "    # Utilizzato per utilizzare la funzione grafico.\n",
    "    makeplots(MarkerOne, MarkerTwo)\n",
    "    # Utilizzato per avere il sottoinsieme dei valori del tempo compresi tra i due marker.\n",
    "    t_subset = t_prime[MarkerOne:MarkerTwo]\n",
    "    # Utilizzato per avere il sottoinsieme dei valori della velocità compresi tra i due marker.\n",
    "    v_subset = v[MarkerOne:MarkerTwo]\n",
    "\n",
    "# Funzione grafico.\n",
    "def makeplots(MarkerOne, MarkerTwo):\n",
    "    # Utilizzato per numerare il grafico e dimensionarlo.\n",
    "    fig = plt.figure(figsize = (15, 15))\n",
    "    # Utilizzato per il titolo.\n",
    "    plt.title(\"Velocità e accelerazione in funzione del tempo\", fontdict = {\"fontsize\": 15}, pad = 10)\n",
    "\n",
    "    # Grafico 1.\n",
    "    plt.subplot(2, 1, 1)\n",
    "    # Utilizzato per rappresentare x e y e per colorare la curva.\n",
    "    plt.plot(t_prime, v, \"o\", color = \"#0075E2\", markersize = 5)\n",
    "    # Utilizzato per il marker one.\n",
    "    plt.plot(t_prime[MarkerOne], v[MarkerOne], \"o\", color = \"black\", markersize = 7.5, zorder = -1)\n",
    "    # Utilizzato per il marker two.\n",
    "    plt.plot(t_prime[MarkerTwo], v[MarkerTwo], \"o\", color = \"black\", markersize = 7.5, zorder = -1)\n",
    "    # Utilizzato per disegnare il marker one.\n",
    "    plt.axvline(color = \"black\", x = t_prime[MarkerOne], linewidth = 1, linestyle = \"--\", zorder = -1)\n",
    "    # Utilizzato per disegnare il marker two.\n",
    "    plt.axvline(color = \"black\", x = t_prime[MarkerTwo], linewidth = 1, linestyle = \"--\", zorder = -1)\n",
    "    # Utilizzato per la x.\n",
    "    plt.xlabel(\"Tempo  $ (s) $\", fontsize = 10)\n",
    "    # Utilizzato per la y.\n",
    "    plt.ylabel(\"Velocità $ (m/s) $\", fontsize = 10)\n",
    "    # Utilizzato per avere gli assi con la stessa scala.\n",
    "    #plt.gca().set_aspect(\"equal\", adjustable = \"box\")\n",
    "    # Utilizzato per la griglia.\n",
    "    plt.grid(True)\n",
    "\n",
    "    # Grafico 2.\n",
    "    plt.subplot(2, 1, 2)\n",
    "    # Utilizzato per rappresentare x e y e per colorare la curva.\n",
    "    plt.plot(t_double_prime, a, \"o\", color = \"#0075E2\", markersize = 5)\n",
    "    # Utilizzato per disegnare il marker one.\n",
    "    plt.axvline(color = \"black\", x = t_prime[MarkerOne], linewidth = 1, linestyle = \"--\", zorder = -1)\n",
    "    # Utilizzato per disegnare il marker two.\n",
    "    plt.axvline(color = \"black\", x = t_prime[MarkerTwo], linewidth = 1, linestyle = \"--\", zorder = -1)\n",
    "    # Utilizzato per la x.\n",
    "    plt.xlabel(\"Tempo $ (s) $\", fontsize = 10)\n",
    "    # Utilizzato per la y.\n",
    "    plt.ylabel(\"Accelerazione $ (m/s^{2} $)\", fontsize = 10)\n",
    "    # Utilizzato per avere gli assi con la stessa scala.\n",
    "    #plt.gca().set_aspect(\"equal\", adjustable = \"box\")\n",
    "    # Utilizzato per la griglia.\n",
    "    plt.grid(True)\n",
    "\n",
    "# Utilizzato per collegare i widgets alla funzione e per interagire con gli sliders.\n",
    "widgets.interact(funzione, MarkerOne = sliderMarkerOne, MarkerTwo = sliderMarkerTwo)"
   ]
  },
  {
   "cell_type": "markdown",
   "metadata": {},
   "source": [
    "#### 6.2 Fit lineare dei dati di velocità\n",
    "\n",
    "In una certa regione del grafico l'andamento della velocità in funzione del tempo è lineare. I valori della velocità soddisfano un'equazione del tipo:\n",
    "\n",
    "<div id = \"colorbox\">\n",
    "\n",
    "$$ v - v_0 = a \\cdot (t - t_0) $$\n",
    "\n",
    "</div>\n",
    "\n",
    "Considerando che la velocità iniziale è nulla, si ha:\n",
    "\n",
    "<div id = \"colorbox\">\n",
    "\n",
    "$$ v = a \\cdot (t - t_0) $$\n",
    "\n",
    "</div>\n",
    "\n",
    "Ovvero:\n",
    "\n",
    "<div id = \"colorbox\">\n",
    "\n",
    "$$ v = (a \\cdot t) - (a \\cdot t_0) $$\n",
    "\n",
    "</div>\n",
    "\n",
    "Il grafico di $ v $ in funzione di $ t $ può essere quindi descritto con l'equazione di una retta che, in un piano cartesiano $ Oxy $, è:\n",
    "\n",
    "<div id = \"colorbox\">\n",
    "\n",
    "$$ y = A x + B $$\n",
    "\n",
    "</div>\n",
    "\n",
    "Nel codice Python che segue definiamo una funzione che permette di calcolare i parametri $ A $ e $ B $ che forniscono il miglior accordo tra un insieme di dati e una retta. Applichiamo l'algoritmo all'insieme dei dati di velocità nell'intervallo di tempo che abbiamo selezionato ed otteniamo:\n",
    "\n",
    "* Il valore del parametro A\n",
    "\n",
    "    * Che fornisce una stima dell'**accelerazione** $ a $ nell'intervallo di tempo considerato.\n",
    "\n",
    "* Il valore del parametro B\n",
    "\n",
    "    * Dal quale possiamo ricavare il valore di $ t_0 $, essendo:\n",
    "\n",
    "<div id = \"colorbox\">\n",
    "\n",
    "$$ t_0 = - \\dfrac{B}{A} $$\n",
    "\n",
    "</div>"
   ]
  },
  {
   "cell_type": "code",
   "execution_count": 21,
   "metadata": {},
   "outputs": [
    {
     "name": "stdout",
     "output_type": "stream",
     "text": [
      "Valore stimato dell'accelerazione (dal fit lineare)\n",
      "a = 1.295 m/s^2\n",
      "t0 = 1.829 s\n"
     ]
    }
   ],
   "source": [
    "# Utilizzato per avere il sottoinsieme dei valori del tempo' compresi tra i due marker.\n",
    "t_prime_subset = t_prime[sliderMarkerOne.value:sliderMarkerTwo.value]\n",
    "# Utilizzato per avere il sottoinsieme dei valori della velocità compresi tra i due marker.\n",
    "v_subset = v[sliderMarkerOne.value:sliderMarkerTwo.value]\n",
    "\n",
    "# Funzione fit lineare.\n",
    "def LineFit(x, y):\n",
    "    x_avg = x.mean()\n",
    "    slope = (y * (x - x_avg)).sum() / (x * (x - x_avg)).sum()\n",
    "    y_intercept = y.mean() - slope * x_avg\n",
    "    return slope, y_intercept\n",
    "\n",
    "# Utilizzato per calcolare i valori dell'accelerazione e della velocità con la funzione LineFit e per inserirli in due variabili.\n",
    "a_est, v_intercept = LineFit(t_prime_subset, v_subset)\n",
    "\n",
    "print(\"Valore stimato dell'accelerazione (dal fit lineare)\")\n",
    "print(\"a = {0:0.4} m/s^2\".format(a_est))\n",
    "# Tempo iniziale in s.\n",
    "t0 = - v_intercept / a_est\n",
    "print(\"t0 = {0:0.4} s\".format(t0))"
   ]
  },
  {
   "cell_type": "markdown",
   "metadata": {},
   "source": [
    "### 7. Figura riassuntiva: coordinata x, velocità, accelerazione\n",
    "\n",
    "Vogliamo riassumere i risultati ottenuti in un'unica figura. I grafici sono organizzati in una tabella costituita da tre righe ed una colonna."
   ]
  },
  {
   "cell_type": "code",
   "execution_count": 22,
   "metadata": {},
   "outputs": [
    {
     "data": {
      "image/png": "[encoded data removed]",
      "text/plain": [
       "<Figure size 1080x1080 with 3 Axes>"
      ]
     },
     "metadata": {
      "needs_background": "light"
     },
     "output_type": "display_data"
    }
   ],
   "source": [
    "# Velocità fit lineare in m/s.\n",
    "v_fit = a_est * t_prime_subset + v_intercept\n",
    "# Accelerazione fit lineare in m/s^2.\n",
    "a_fit = v_fit / v_fit * a_est\n",
    "# Spazio fit lineare in m.\n",
    "x_fit = 0.5 * a_est * (t_prime_subset - t0) ** 2 + 0.029\n",
    "\n",
    "# Utilizzato per il grafico.\n",
    "# Utilizzato per numerare il grafico e dimensionarlo.\n",
    "fig = plt.figure(figsize = (15, 15))\n",
    "# Utilizzato per il titolo.\n",
    "plt.title(\"Altezza, velocità e accelerazione in funzione del tempo\", fontdict = {\"fontsize\": 15}, pad = 10)\n",
    "\n",
    "# Grafico 1.\n",
    "plt.subplot(3, 1, 1)\n",
    "# Utilizzato per rappresentare x e y e per colorare la curva.\n",
    "plt.plot(t, x, \"o\", color = \"#0075E2\", markersize = 5, label = \"Dati\")\n",
    "# Utilizzato per rappresentare x e y e per colorare la curva.\n",
    "plt.plot(t_prime_subset, x_fit, \"-\", color = \"black\", linewidth = 1, zorder = -1, label = \"Fit\")\n",
    "# Utilizzato per disegnare il marker one.\n",
    "plt.axvline(color = \"black\", x = t_prime_subset[0], linewidth = 1, linestyle = \"--\", zorder = -1)\n",
    "# Utilizzato per disegnare il marker two.\n",
    "plt.axvline(color = \"black\", x = t_prime_subset[-1], linewidth = 1, linestyle = \"--\", zorder = -1)\n",
    "# Utilizzato per la x.\n",
    "plt.xlabel(\"Tempo $ (s) $\", fontsize = 10)\n",
    "# Utilizzato per la y.\n",
    "plt.ylabel(\"Altezza $ (m) $\", fontsize = 10)\n",
    "# Legenda.\n",
    "plt.legend(loc = \"upper left\", shadow = True, fontsize = \"large\")\n",
    "# Utilizzato per avere gli assi con la stessa scala.\n",
    "#plt.gca().set_aspect(\"equal\", adjustable = \"box\")\n",
    "# Utilizzato per la griglia.\n",
    "plt.grid(True)\n",
    "\n",
    "# Grafico 2.\n",
    "plt.subplot(3, 1, 2)\n",
    "# Utilizzato per rappresentare x e y e per colorare la curva.\n",
    "plt.plot(t_prime, v, \"o\", color = \"#0075E2\", markersize = 5)\n",
    "# Utilizzato per rappresentare x e y e per colorare la curva.\n",
    "plt.plot(t_prime_subset, v_fit, \"-\", color = \"black\", linewidth = 1)\n",
    "# Utilizzato per disegnare il marker one.\n",
    "plt.axvline(color = \"black\", x = t_prime_subset[0], linewidth = 1, linestyle = \"--\", zorder = -1)\n",
    "# Utilizzato per disegnare il marker two.\n",
    "plt.axvline(color = \"black\", x = t_prime_subset[-1], linewidth = 1, linestyle = \"--\", zorder = -1)\n",
    "# Utilizzato per la x.\n",
    "plt.xlabel(\"Tempo $ (s) $\", fontsize = 10)\n",
    "# Utilizzato per la y.\n",
    "plt.ylabel(\"Velocità $ (m/s) $\", fontsize = 10)\n",
    "# Utilizzato per la griglia.\n",
    "plt.grid(True)\n",
    "\n",
    "# Grafico 3.\n",
    "plt.subplot(3, 1, 3)\n",
    "# Utilizzato per rappresentare x e y e per colorare la curva.\n",
    "plt.plot(t_double_prime, a, \"o\", color = \"#0075E2\", markersize = 5, label = \"Calculated\")\n",
    "# Utilizzato per rappresentare x e y e per colorare la curva.\n",
    "plt.plot(t_prime_subset, a_fit, \"-\", color = \"black\", markersize = 1, label = \"Fit\")\n",
    "# Utilizzato per la x.\n",
    "plt.xlabel(\"Tempo $ (s) $\", fontsize = 10)\n",
    "# Utilizzato per la y.\n",
    "plt.ylabel(\"Accelerazione $ (m/s^{2} $)\", fontsize = 10)\n",
    "# Legenda.\n",
    "plt.legend(loc = \"lower left\", shadow = True, fontsize = \"large\")\n",
    "# Utilizzato per la griglia.\n",
    "plt.grid(True)\n",
    "\n",
    "# Utilizzato per salvare i dati in un file.\n",
    "plt.savefig(\"Dati/Incline-Results.pdf\")\n",
    "\n",
    "# Utilizzato per mostrare il grafico.\n",
    "plt.show()"
   ]
  },
  {
   "cell_type": "markdown",
   "metadata": {},
   "source": [
    "* I valori di velocità sono riportati insieme al grafico della retta che meglio approssima i dati sperimentali nell'intervallo considerato. (**Grafico 2/3**)\n",
    "\n",
    "* La pendenza di tale retta fornisce una stima dell'accelerazione. Questo valore costante di accelerazione è rappresentato come una linea orizzontale nel grafico che riporta i valori di accelerazione in funzione del tempo. (**Grafico 3/3**)\n",
    "\n",
    "* I valori sperimentali di $ x $ in funzione del tempo sono mostrati in grafico (**Grafico 1/3**) insieme ai dati calcolati utilizzando l'equazione:\n",
    "\n",
    "<div id = \"colorbox\">\n",
    "\n",
    "$$ x = x_0 + \\dfrac{a \\cdot (t - t_0)^2}{2} $$\n",
    "\n",
    "</div>\n",
    "\n",
    "   * Con i valori di $ a $ e $ t_0 $ ottenuti dal fit lineare dei dati di velocità\n",
    "\n",
    "   * E con il valore di $ x_0 $ che fornisce il miglior adattamento della curva (parabola) ai valori sperimentali di $ x $ vs. $ t $.\n",
    "\n",
    "### 8. Confronto con le previsioni di un modello fisico\n",
    "\n",
    "Se si considera come modello fisico il sistema costituito da un punto materiale che si muove **senza attrito** lungo il piano inclinato sotto l'azione della forza peso, conoscendo l'angolo $ \\theta $ di inclinazione, si può prevedere che il moto sarà un **moto con accelerazione costante** pari a:\n",
    "\n",
    "<div id = \"colorbox\">\n",
    "\n",
    "$$ g \\cdot \\sin(\\theta) $$\n",
    "\n",
    "</div>\n",
    "\n",
    "Dove $ g $ è l'accelerazione di gravità.\n",
    "\n",
    "Nel nostro caso:\n",
    "\n",
    "* Consideriamo la misura dell'angolo $ \\theta $ ottenuta usando l'App **phyphox**.\n",
    "\n",
    "* Convertiamo la misura in **radianti**.\n",
    "\n",
    "* Calcoliamo il **valore atteso** dell'accelerazione in base alla previsione del modello."
   ]
  },
  {
   "cell_type": "code",
   "execution_count": 23,
   "metadata": {},
   "outputs": [
    {
     "name": "stdout",
     "output_type": "stream",
     "text": [
      "Inclinazione theta = 0.191986 rad\n"
     ]
    }
   ],
   "source": [
    "# Inclinazione in gradi.\n",
    "theta_deg = 11\n",
    "# Inclinazione in radianti.\n",
    "theta_rad = theta_deg / 180 * np.pi\n",
    "print(\"Inclinazione theta = {0:0.6} rad\".format(theta_rad))"
   ]
  },
  {
   "cell_type": "code",
   "execution_count": 24,
   "metadata": {},
   "outputs": [
    {
     "data": {
      "text/plain": [
       "0.1908089953765448"
      ]
     },
     "execution_count": 24,
     "metadata": {},
     "output_type": "execute_result"
    }
   ],
   "source": [
    "# Utilizzato per calcolare il seno dell'angolo in radianti.\n",
    "np.sin(theta_rad)"
   ]
  },
  {
   "cell_type": "code",
   "execution_count": 25,
   "metadata": {},
   "outputs": [
    {
     "name": "stdout",
     "output_type": "stream",
     "text": [
      "Valore stimato dell'accelerazione in assenza di attrito.\n",
      "a_model = 1.870 m/s^2\n",
      "Valore dell'accelerazione stimato tramite fit lineare dei dati sperimentali.\n",
      "a_est = 1.295 m/s^2\n",
      "Errore relativo = 30.7 %\n"
     ]
    }
   ],
   "source": [
    "# Accelerazione in assenza di attrito in m/s^2.\n",
    "a_model = 9.8 * np.sin(theta_rad)\n",
    "\n",
    "print(\"Valore stimato dell'accelerazione in assenza di attrito.\")\n",
    "print(\"a_model = {0:0.3f} m/s^2\".format(a_model))\n",
    "print(\"Valore dell'accelerazione stimato tramite fit lineare dei dati sperimentali.\")\n",
    "print(\"a_est = {0:0.3f} m/s^2\".format(a_est))\n",
    "\n",
    "# Errore relativo in percentuale.\n",
    "relative_error = (a_model - a_est) / a_model\n",
    "\n",
    "print(\"Errore relativo = {0:0.1f} %\".format(relative_error * 100))"
   ]
  },
  {
   "cell_type": "markdown",
   "metadata": {},
   "source": [
    "> Per eseguire il codice Python contenuto in questo **notebook** Jupyter, anche se Python e Notebook Jupyter non sono installati sulla macchina che stai adoperando, puoi utilizzare l'ambiente [**binder**](https://mybinder.org) online.\n",
    "\n",
    "[![Binder](https://mybinder.org/badge_logo.svg)](https://mybinder.org/v2/gh/Darkaquon/Physics-with-Open-Source-Software/master?filepath=%2FNotebook%2FPiano_inclinato.ipynb)\n",
    "\n",
    "## Osservazione\n",
    "\n",
    "Possiamo osservare che l'accelerazione ottenuta dai dati sperimentali è minore di quella stimata sulla base del modello.\n",
    "\n",
    "> La presenza di una forza di attrito costante ha come conseguenza che la forza totale costante che agisce sul corpo in movimento è costante ed è minore rispetto al caso ideale. Si otterrebbe quindi un'accelerazione costante minore rispetto a quella attesa in assenza di attrito, in accordo con i risultati di questa indagine sperimentale.\n",
    "\n",
    "## What we have learned\n",
    "\n",
    "*Python*\n",
    "\n",
    "* Acquisizione di dati con un apparato sperimentale controllato tramite software.\n",
    "\n",
    "* Elaborazione dei dati, analisi dei dati.\n",
    "\n",
    "* Rappresentazione grafica dei risultati.\n",
    "\n",
    "*Fisica*\n",
    "\n",
    "* Misure di distanza in funzione del tempo.\n",
    "\n",
    "* Analisi dei dati.\n",
    "\n",
    "* Andamento grafico della velocità nel caso di moto con accelerazione costante.\n",
    "\n",
    "* Fit lineare dei dati di velocità e determinazione dell'accelerazione.\n",
    "\n",
    "* Equazioni del moto uniformemente accelerato.\n",
    "\n",
    "## References and notes\n",
    "\n",
    "### Experimental setup: hardware and software\n",
    "\n",
    "1. [Experiments and data analysis on one-dimensional motion with **Raspberry Pi** and **Python**](https://iopscience.iop.org/article/10.1088/1361-6552/ab73d2) (See also Supplementary Information)\n",
    "\n",
    "## Grafica notebook"
   ]
  },
  {
   "cell_type": "code",
   "execution_count": 26,
   "metadata": {},
   "outputs": [
    {
     "data": {
      "text/html": [
       "/* File CSS */\n",
       "\n",
       "/* File utilizzato per modificare la visualizzazione del notebook. */\n",
       "\n",
       "<style>\n",
       "\n",
       "@font-face {\n",
       "    font-family: \"Computer Modern\";\n",
       "    src: url(\"http://mirrors.ctan.org/fonts/cm-unicode/fonts/otf/cmunss.otf\");\n",
       "}\n",
       "\n",
       "/* Utilizzato per creare un box colorato. */\n",
       "#colorbox {\n",
       "    background-color: #0075E2;\n",
       "    padding: 10px;\n",
       "    border: 1px solid black;\n",
       "    margin-top: 10px;\n",
       "}\n",
       "\n",
       "#immagine {\n",
       "    margin-top: 10px;\n",
       "}\n",
       "\n",
       "/* Main background. */\n",
       "#notebook_panel {\n",
       "    background: rgb(245, 245, 245);\n",
       "}\n",
       "\n",
       "/* Utilizzato per impostare la larghezza delle celle. */\n",
       "div.cell {\n",
       "    width: 800px;\n",
       "}\n",
       "\n",
       "/* Utilizzato per centrare il materiale del notebook. */\n",
       "div #notebook {\n",
       "    background: #fff;\n",
       "    width: 1000px;\n",
       "    margin: auto;\n",
       "    padding-left: 0em;\n",
       "}\n",
       "\n",
       "/* Utilizzato per modificare lo spazio tra gli elementi di una lista. */\n",
       "#notebook li {\n",
       "    margin-top: 0.5em;\n",
       "}\n",
       "\n",
       "/* Utilizzato per disegnare un bordo attorno alle celle in esecuzione. */\n",
       "div.cell.border-box-sizing.code_cell.running {\n",
       "    border: 1px solid #111;\n",
       "}\n",
       "\n",
       "/* Utilizzato per creare un box intorno alle celle e agli outputs per collegarli visivamente. */\n",
       "div.cell.code_cell {\n",
       "    background-color: rgb(256, 256, 256);\n",
       "    border-radius: 0px;\n",
       "    padding: 0.5em;\n",
       "    margin-left: 1em;\n",
       "    margin-top: 1em;\n",
       "}\n",
       "\n",
       "/* Utilizzato per modificare la visualizzazione delle celle di testo */\n",
       "div.text_cell_render {\n",
       "    font-family: \"Source Sans Pro\", sans-serif;\n",
       "    line-height: 140%;\n",
       "    font-size: 110%;\n",
       "    width: 680px;\n",
       "    margin-left: auto;\n",
       "    margin-right: auto;\n",
       "}\n",
       "\n",
       "/* Utilizzato per modificare le intestazioni. */\n",
       "\n",
       ".text_cell_render h1 {\n",
       "    font-family: \"Merriweather\", serif;\n",
       "    font-style: regular;\n",
       "    font-weight: bold;\n",
       "    font-size: 250%;\n",
       "    line-height: 100%;\n",
       "    color: #000000;\n",
       "    margin-bottom: 1em;\n",
       "    margin-top: 0.5em;\n",
       "    display: block;\n",
       "}\n",
       "\n",
       ".text_cell_render h2 {\n",
       "    font-family: \"Merriweather\", serif;\n",
       "    font-weight: bold;\n",
       "    font-size: 180%;\n",
       "    line-height: 100%;\n",
       "    color: #000000;\n",
       "    margin-bottom: 0.5em;\n",
       "    margin-top: 0.5em;\n",
       "    display: block;\n",
       "}\n",
       "\n",
       ".text_cell_render h3 {\n",
       "    font-family: \"Merriweather\", serif;\n",
       "\tfont-size: 150%;\n",
       "    margin-top: 12px;\n",
       "    margin-bottom: 3px;\n",
       "    font-style: regular;\n",
       "    color: #0075E2;\n",
       "}\n",
       "\n",
       "/* Da utilizzare per le didascalie. */\n",
       ".text_cell_render h4 {\n",
       "    font-family: \"Merriweather\", serif;\n",
       "    font-weight: 300;\n",
       "    font-size: 100%;\n",
       "    line-height: 120%;\n",
       "    text-align: left;\n",
       "    width: 500px;\n",
       "    margin-top: 1em;\n",
       "    margin-bottom: 2em;\n",
       "    margin-left: 80pt;\n",
       "    font-style: regular;\n",
       "    color: #0075E2;\n",
       "}\n",
       "\n",
       "/* Da utilizzare per i titoli piÃ¹ piccoli. */\n",
       ".text_cell_render h5 {\n",
       "    font-family: \"Source Sans Pro\", sans-serif;\n",
       "    font-weight: regular;\n",
       "    font-size: 130%;\n",
       "    color: #000000;\n",
       "    font-style: italic;\n",
       "    margin-bottom: .5em;\n",
       "    margin-top: 1em;\n",
       "    display: block;\n",
       "}\n",
       "\n",
       "/* Da utilizzare per le note, ad esempio i copyright. */\n",
       ".text_cell_render h6 {\n",
       "    font-family: \"Source Code Pro\", sans-serif;\n",
       "    font-weight: 300;\n",
       "    font-size: 9pt;\n",
       "    line-height: 100%;\n",
       "    color: #000000;\n",
       "    margin-bottom: 1px;\n",
       "    margin-top: 1px;\n",
       "}\n",
       "\n",
       ".CodeMirror {\n",
       "    font-family: \"Source Code Pro\";\n",
       "\tfont-size: 90%;\n",
       "}\n",
       "\n",
       "/*\n",
       "\n",
       ".prompt {\n",
       "    display: None;\n",
       "}\n",
       "\n",
       "*/\n",
       "\n",
       ".warning {\n",
       "    color: rgb(240, 20, 20)\n",
       "}\n",
       "\n",
       "</style>"
      ],
      "text/plain": [
       "<IPython.core.display.HTML object>"
      ]
     },
     "execution_count": 26,
     "metadata": {},
     "output_type": "execute_result"
    }
   ],
   "source": [
    "# Utilizzato per importare la libreria adoperata per incorporare e visualizzare l'HTML con il Python.\n",
    "from IPython.core.display import HTML\n",
    "\n",
    "\n",
    "# Utilizzato per aprire e leggere il file CSS adoperato per modificare la visualizzazione del notebook.\n",
    "css_file = \"Notebook.css\"\n",
    "HTML(open(css_file, \"r\").read())"
   ]
  },
  {
   "cell_type": "markdown",
   "metadata": {},
   "source": [
    "## Copyright and License\n",
    "-------------------------\n",
    "(c) 2020 Andrea Mandanici, Marco Guarnera, Giuseppe Mandaglio, Giovanni Pirrotta. All content is under Creative Common Attribution <a rel = \"license\" href = \"https://creativecommons.org/licenses/by/4.0\"> CC BY 4.0 </a> and all code is under [BSD 3 - Clause License.](https://opensource.org/licenses/BSD-3-Clause)"
   ]
  }
 ],
 "metadata": {
  "kernelspec": {
   "display_name": "Python 3",
   "language": "python",
   "name": "python3"
  },
  "language_info": {
   "codemirror_mode": {
    "name": "ipython",
    "version": 3
   },
   "file_extension": ".py",
   "mimetype": "text/x-python",
   "name": "python",
   "nbconvert_exporter": "python",
   "pygments_lexer": "ipython3",
   "version": "3.7.6"
  }
 },
 "nbformat": 4,
 "nbformat_minor": 4
}
