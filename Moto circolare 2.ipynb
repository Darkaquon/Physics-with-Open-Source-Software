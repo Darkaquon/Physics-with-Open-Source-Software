{
 "cells": [
  {
   "cell_type": "markdown",
   "metadata": {},
   "source": [
    "#### Moto circolare"
   ]
  },
  {
   "cell_type": "code",
   "execution_count": 1,
   "metadata": {},
   "outputs": [
    {
     "name": "stdout",
     "output_type": "stream",
     "text": [
      "\n",
      "0.016666666666666666 giri/s\n",
      "60.0 s\n",
      "0.10471975511965977 rad/s\n",
      "6.0 °/s\n",
      "0.06114062902661335 m/s\n",
      "0.006402631699528912 m/s^2\n",
      "\n",
      "                      Nome1 Nome2  Risultato Unità di misura\n",
      "0    Frequenza di rotazione     f   0.016667          giri/s\n",
      "1      Periodo di rotazione     T  60.000000               s\n",
      "2         Velocità angolare     w   0.104720      rad/s, °/s\n",
      "3          Velocità scalare     v   0.061141             m/s\n",
      "4  Accelerazione centripeta     a   0.006403           m/s^2\n"
     ]
    },
    {
     "data": {
      "text/plain": [
       "<function __main__.calcolo(rpm, r)>"
      ]
     },
     "execution_count": 1,
     "metadata": {},
     "output_type": "execute_result"
    }
   ],
   "source": [
    "import numpy as np\n",
    "import ipywidgets as widgets\n",
    "from ipywidgets import interact, interactive, fixed, interact_manual\n",
    "import pandas as pd\n",
    "\n",
    "\n",
    "def calcolo(rpm, r):\n",
    "    # Frequenza di rotazione.\n",
    "    f = rpm/60 # giri/s = hz.\n",
    "    print()\n",
    "    print(f, 'giri/s')\n",
    "\n",
    "    # Periodo di rotazione.\n",
    "    T = 1/f # s.\n",
    "    print(T, 's')\n",
    "\n",
    "    # Velocità angolare.\n",
    "    w = 2*np.pi*f\n",
    "    print(w, 'rad/s')\n",
    "    print(np.degrees(w), '°/s')\n",
    "\n",
    "    # Velocità scalare.\n",
    "    v = w*r # m/s.\n",
    "    print(v, 'm/s')\n",
    "\n",
    "    # Accelerazione centripeta.\n",
    "    a = r*w**2 # m/s^2.\n",
    "    print(a, 'm/s^2')\n",
    "\n",
    "    print()\n",
    "\n",
    "    dati = {'Nome1':['Frequenza di rotazione', 'Periodo di rotazione', 'Velocità angolare', 'Velocità scalare', 'Accelerazione centripeta'],\n",
    "            'Nome2':['f', 'T', 'w', 'v', 'a'],\n",
    "            'Risultato':[f, T, w, v, a],\n",
    "            'Unità di misura':['giri/s', 's', 'rad/s, °/s', 'm/s', 'm/s^2']\n",
    "           }\n",
    "\n",
    "    print(pd.DataFrame(dati))\n",
    "\n",
    "\n",
    "interact(calcolo, rpm = widgets.FloatText(value=1, step=1, description='rpm:'),\n",
    "                  r = widgets.FloatText(value=0.58385, step=0.1, description='r:'))"
   ]
  },
  {
   "cell_type": "markdown",
   "metadata": {},
   "source": [
    "| Nome                     | Nome | Risultato | Unità di misura |\n",
    "| :----------------------- | :--: | :-------: | :-------------: |\n",
    "| Frequenza di rotazione   | f    |           | giri/s          |\n",
    "| Periodo di rotazione     | T    |           | s               |\n",
    "| Velocità angolare        | w    |           | rad/s, °/s      |\n",
    "| Velocità scalare         | v    |           | m/s             |\n",
    "| Accelerazione centripeta | a    |           | m/s^2           |"
   ]
  }
 ],
 "metadata": {
  "kernelspec": {
   "display_name": "Python 3",
   "language": "python",
   "name": "python3"
  },
  "language_info": {
   "codemirror_mode": {
    "name": "ipython",
    "version": 3
   },
   "file_extension": ".py",
   "mimetype": "text/x-python",
   "name": "python",
   "nbconvert_exporter": "python",
   "pygments_lexer": "ipython3",
   "version": "3.7.6"
  }
 },
 "nbformat": 4,
 "nbformat_minor": 4
}
