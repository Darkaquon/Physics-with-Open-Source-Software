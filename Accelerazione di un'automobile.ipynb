{
 "cells": [
  {
   "cell_type": "markdown",
   "metadata": {},
   "source": [
    "#### Accelerazione di un'automobile\n",
    "\n",
    "##### Un certo autoveicolo con motore diesel può passare da 0 a 100 km/h in 10 secondi. Supponendo che il moto sia rettilineo uniformemente accelerato, calcolare il valore dell'accelerazione e lo spazio percorso nei primi 10 secondi per raggiungere la velocità di 100 km/h.\n",
    "\n",
    "##### Per calcolare il valore dell'accelerazione si può usare l'equazione:\n",
    "\n",
    "$v(t) = v_{0} + a \\cdot t$ con $t = 10$ e $v_{0} = 0$\n",
    "\n",
    "##### Per calcolare lo spazio percorso si può utilizzare l'equazione:\n",
    "\n",
    "$x(t) = x_{0} + v_{0} \\cdot t + \\frac{1}{2} \\cdot a \\cdot t^{2}$ che nel nostro caso diventa $x(t) = \\frac{1}{2} \\cdot a \\cdot t^{2}$\n",
    "\n",
    "##### oppure si può usare l'equazione:\n",
    "\n",
    "$v^{2} = v_{0}^{2} + 2 \\cdot a \\cdot (x - x_{0})$ da cui nel nostro caso si ha $(x - x_{0}) = \\frac {v^{2}}{2 \\cdot a}$"
   ]
  },
  {
   "cell_type": "code",
   "execution_count": 16,
   "metadata": {},
   "outputs": [
    {
     "name": "stdout",
     "output_type": "stream",
     "text": [
      "4.428690551393267 m/s\n"
     ]
    },
    {
     "data": {
      "text/plain": [
       "<function __main__.velocità(h)>"
      ]
     },
     "execution_count": 16,
     "metadata": {},
     "output_type": "execute_result"
    }
   ],
   "source": [
    "import ipywidgets as widgets\n",
    "from ipywidgets import interact, interactive, fixed, interact_manual\n",
    "\n",
    "\n",
    "# Funzione.\n",
    "def funzione(v, t):\n",
    "    x = v / 3.6 # Conversione in m/s.\n",
    "    a = x / t\n",
    "    s = 1/2 * a * t**2\n",
    "    print(a, 'm/s^2')\n",
    "    print(s, 'm')\n",
    "\n",
    "interact(funzione, v = widgets.IntSlider(min=0, max=130, step=1, value=1, description='Velocità v:'),\n",
    "         t = widgets.IntSlider(min=0, max=10, step=1, value=1, description='Tempo t:'))"
   ]
  }
 ],
 "metadata": {
  "kernelspec": {
   "display_name": "Python 3",
   "language": "python",
   "name": "python3"
  },
  "language_info": {
   "codemirror_mode": {
    "name": "ipython",
    "version": 3
   },
   "file_extension": ".py",
   "mimetype": "text/x-python",
   "name": "python",
   "nbconvert_exporter": "python",
   "pygments_lexer": "ipython3",
   "version": "3.7.6"
  }
 },
 "nbformat": 4,
 "nbformat_minor": 4
}
